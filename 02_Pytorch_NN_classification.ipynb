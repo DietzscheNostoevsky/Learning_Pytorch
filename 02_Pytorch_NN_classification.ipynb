{
  "cells": [
    {
      "cell_type": "markdown",
      "metadata": {
        "id": "view-in-github",
        "colab_type": "text"
      },
      "source": [
        "<a href=\"https://colab.research.google.com/github/DietzscheNostoevsky/Learning_Pytorch/blob/main/02_Pytorch_NN_classification.ipynb\" target=\"_parent\"><img src=\"https://colab.research.google.com/assets/colab-badge.svg\" alt=\"Open In Colab\"/></a>"
      ]
    },
    {
      "cell_type": "markdown",
      "source": [
        "# Classification using Neural Networks in PyTorch"
      ],
      "metadata": {
        "id": "_6FJO0HK3Y3r"
      }
    },
    {
      "cell_type": "markdown",
      "source": [
        "# 1. Data Generation"
      ],
      "metadata": {
        "id": "Yk429MsC4iur"
      }
    },
    {
      "cell_type": "code",
      "source": [
        "from sklearn.datasets import make_circles \n",
        "\n",
        "# Making 1000 samples \n",
        "n_samples = 1000\n",
        "\n",
        "# creating circles \n",
        "\n",
        "X, y = make_circles(n_samples, \n",
        "                    noise=0.03, # addded noise \n",
        "                    random_state=42) # for replication \n",
        "                \n",
        "print(F\"X_values (Features) : \\n{X[:5]}\\n\")\n",
        "print(F\"y_values (labels) : \\n{y[:5]}\")"
      ],
      "metadata": {
        "colab": {
          "base_uri": "https://localhost:8080/"
        },
        "id": "aWrscx2E4qqn",
        "outputId": "ac7f46a9-06b7-4c91-a2d6-cb270fcc72f6"
      },
      "execution_count": 3,
      "outputs": [
        {
          "output_type": "stream",
          "name": "stdout",
          "text": [
            "X_values (Features) : \n",
            "[[ 0.75424625  0.23148074]\n",
            " [-0.75615888  0.15325888]\n",
            " [-0.81539193  0.17328203]\n",
            " [-0.39373073  0.69288277]\n",
            " [ 0.44220765 -0.89672343]]\n",
            "\n",
            "y_values (labels) : \n",
            "[1 1 1 1 0]\n"
          ]
        }
      ]
    },
    {
      "cell_type": "code",
      "source": [],
      "metadata": {
        "id": "iVBgRGMu9WoX"
      },
      "execution_count": null,
      "outputs": []
    }
  ],
  "metadata": {
    "accelerator": "GPU",
    "colab": {
      "provenance": [],
      "include_colab_link": true
    },
    "gpuClass": "standard",
    "kernelspec": {
      "display_name": "Python 3",
      "name": "python3"
    },
    "language_info": {
      "name": "python"
    }
  },
  "nbformat": 4,
  "nbformat_minor": 0
}