{
  "cells": [
    {
      "cell_type": "markdown",
      "metadata": {
        "id": "view-in-github",
        "colab_type": "text"
      },
      "source": [
        "<a href=\"https://colab.research.google.com/github/DietzscheNostoevsky/Learning_Pytorch/blob/main/02_Pytorch_NN_classification.ipynb\" target=\"_parent\"><img src=\"https://colab.research.google.com/assets/colab-badge.svg\" alt=\"Open In Colab\"/></a>"
      ]
    },
    {
      "cell_type": "markdown",
      "source": [
        "# Classification using Neural Networks in PyTorch"
      ],
      "metadata": {
        "id": "_6FJO0HK3Y3r"
      }
    },
    {
      "cell_type": "markdown",
      "source": [
        "# 1. Classification Data "
      ],
      "metadata": {
        "id": "Yk429MsC4iur"
      }
    },
    {
      "cell_type": "code",
      "source": [
        "from sklearn.datasets import make_circles \n",
        "\n",
        "# Making 1000 samples \n",
        "n_samples = 1000\n",
        "\n",
        "# creating circles \n",
        "\n",
        "X, y = make_circles(n_samples = 1000)\n"
      ],
      "metadata": {
        "id": "aWrscx2E4qqn"
      },
      "execution_count": null,
      "outputs": []
    }
  ],
  "metadata": {
    "accelerator": "GPU",
    "colab": {
      "provenance": [],
      "include_colab_link": true
    },
    "gpuClass": "standard",
    "kernelspec": {
      "display_name": "Python 3",
      "name": "python3"
    },
    "language_info": {
      "name": "python"
    }
  },
  "nbformat": 4,
  "nbformat_minor": 0
}