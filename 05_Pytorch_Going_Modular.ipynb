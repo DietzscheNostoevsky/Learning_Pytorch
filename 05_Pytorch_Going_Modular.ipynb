{
  "cells": [
    {
      "cell_type": "markdown",
      "metadata": {
        "id": "view-in-github",
        "colab_type": "text"
      },
      "source": [
        "<a href=\"https://colab.research.google.com/github/DietzscheNostoevsky/Learning_Pytorch/blob/main/05_Pytorch_Going_Modular.ipynb\" target=\"_parent\"><img src=\"https://colab.research.google.com/assets/colab-badge.svg\" alt=\"Open In Colab\"/></a>"
      ]
    },
    {
      "cell_type": "markdown",
      "metadata": {
        "id": "ee1q_1YynS72"
      },
      "source": [
        "# PyTorch Going Modular"
      ]
    },
    {
      "cell_type": "markdown",
      "metadata": {
        "id": "8V9ASvHsnS79"
      },
      "source": [
        "Going modular involves turning notebook code (from a Jupyter Notebook or Google Colab notebook) into a series of different Python scripts that offer similar functionality."
      ]
    },
    {
      "cell_type": "markdown",
      "metadata": {
        "id": "LNzOBwXtnS7-"
      },
      "source": [
        "For example, we could turn our notebook code from a series of cells into the following Python files:\n",
        "\n",
        "* `data_setup.py` - a file to prepare and download data if needed.  \n",
        "* `engine.py` - a file containing various training functions.  \n",
        "* `model_builder.py` or model.py - a file to create a PyTorch model.  \n",
        "* `train.py` - a file to leverage all other files and train a target PyTorch model.\n",
        "* `utils.py` - a file dedicated to helpful utility functions.\n"
      ]
    },
    {
      "cell_type": "markdown",
      "metadata": {
        "id": "JWhIOW30nS7_"
      },
      "source": [
        "**Production code** is code that runs to offer a service to someone or something."
      ]
    },
    {
      "cell_type": "markdown",
      "source": [
        "# Getting Data"
      ],
      "metadata": {
        "id": "IoMxFYhZnW-M"
      }
    },
    {
      "cell_type": "markdown",
      "source": [
        "### Smaller Dataset"
      ],
      "metadata": {
        "id": "oRG9qhYMninv"
      }
    },
    {
      "cell_type": "code",
      "source": [
        "import os\n",
        "import zipfile\n",
        "\n",
        "from pathlib import Path\n",
        "\n",
        "import requests\n",
        "\n",
        "# Setup path to data folder\n",
        "data_path = Path(\"data/\")\n",
        "image_path = data_path / \"pizza_steak_sushi\"\n",
        "\n",
        "# If the image folder doesn't exist, download it and prepare it... \n",
        "if image_path.is_dir():\n",
        "    print(f\"{image_path} directory exists.\")\n",
        "else:\n",
        "    print(f\"Did not find {image_path} directory, creating one...\")\n",
        "    image_path.mkdir(parents=True, exist_ok=True)\n",
        "    \n",
        "# Download pizza, steak, sushi data\n",
        "with open(data_path / \"pizza_steak_sushi.zip\", \"wb\") as f:\n",
        "    request = requests.get(\"https://github.com/mrdbourke/pytorch-deep-learning/raw/main/data/pizza_steak_sushi.zip\")\n",
        "    print(\"Downloading pizza, steak, sushi data...\")\n",
        "    f.write(request.content)\n",
        "\n",
        "# Unzip pizza, steak, sushi data\n",
        "with zipfile.ZipFile(data_path / \"pizza_steak_sushi.zip\", \"r\") as zip_ref:\n",
        "    print(\"Unzipping pizza, steak, sushi data...\") \n",
        "    zip_ref.extractall(image_path)\n",
        "\n",
        "# Remove zip file\n",
        "os.remove(data_path / \"pizza_steak_sushi.zip\")"
      ],
      "metadata": {
        "id": "DCV1DVOlnee-",
        "outputId": "bda6a5c1-0ce2-429d-dadd-06c745e5d7fe",
        "colab": {
          "base_uri": "https://localhost:8080/"
        }
      },
      "execution_count": 1,
      "outputs": [
        {
          "output_type": "stream",
          "name": "stdout",
          "text": [
            "Did not find data/pizza_steak_sushi directory, creating one...\n",
            "Downloading pizza, steak, sushi data...\n",
            "Unzipping pizza, steak, sushi data...\n"
          ]
        }
      ]
    },
    {
      "cell_type": "markdown",
      "source": [
        "### Larger Dataset"
      ],
      "metadata": {
        "id": "_n3yChRQnoe0"
      }
    },
    {
      "cell_type": "code",
      "source": [
        "#Imports\n",
        "import os\n",
        "import zipfile\n",
        "from pathlib import Path\n",
        "import requests\n",
        "\n",
        "\n",
        "# Mount the GDrive\n",
        "from google.colab import drive\n",
        "drive.mount('/content/drive')\n",
        "\n",
        "data_path = Path(\"data/\")  # The trailing forward slash (/) in the string\n",
        "# is used to indicate that it represents a\n",
        "# directory rather than a specific file.\n",
        "# It's a common convention to include the trailing slash\n",
        "# in directory paths to differentiate them from file paths.\n",
        "\n",
        "image_path_full = data_path / \"pizza_steak_sushi_full\"\n",
        "\n",
        "if image_path_full.is_dir():\n",
        "    print(f\"{image_path_full} directory exists.\")\n",
        "else:\n",
        "    print(f\"Did not find {image_path_full} directory, creating one...\")\n",
        "    image_path_full.mkdir(parents=True, exist_ok=True)\n",
        "zip_data = \"/content/drive/Othercomputers/My MacBook Air/GitHub/-Machine_Learning/Learning_Pytorch/pizza_steak_sushi_100_percent.zip\"\n",
        "\n",
        "with zipfile.ZipFile(zip_data, \"r\") as zip_ref:\n",
        "    print(\"Unzipping pizza, steak, sushi data...\")\n",
        "    zip_ref.extractall(image_path_full)\n",
        "\n",
        "# Setup Dirs\n",
        "train_dir_full = image_path_full / \"train\"\n",
        "test_dir_full = image_path_full / \"test\"\n",
        "\n",
        "#walk_through_dir(image_path)\n"
      ],
      "metadata": {
        "id": "Bf2Fs_c3ns11",
        "outputId": "f453e062-abf6-4ae7-a8ec-88b7fc0f6f8f",
        "colab": {
          "base_uri": "https://localhost:8080/"
        }
      },
      "execution_count": 3,
      "outputs": [
        {
          "output_type": "stream",
          "name": "stdout",
          "text": [
            "Drive already mounted at /content/drive; to attempt to forcibly remount, call drive.mount(\"/content/drive\", force_remount=True).\n",
            "data/pizza_steak_sushi_full directory exists.\n",
            "Unzipping pizza, steak, sushi data...\n"
          ]
        }
      ]
    }
  ],
  "metadata": {
    "accelerator": "GPU",
    "colab": {
      "provenance": [],
      "include_colab_link": true
    },
    "gpuClass": "standard",
    "kernelspec": {
      "display_name": "Python 3",
      "name": "python3"
    },
    "language_info": {
      "name": "python"
    }
  },
  "nbformat": 4,
  "nbformat_minor": 0
}