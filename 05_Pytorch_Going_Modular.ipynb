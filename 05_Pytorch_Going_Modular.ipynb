{
  "nbformat": 4,
  "nbformat_minor": 0,
  "metadata": {
    "colab": {
      "provenance": [],
      "authorship_tag": "ABX9TyN8e5LlBqk1IU+JmKgMQv0K",
      "include_colab_link": true
    },
    "kernelspec": {
      "name": "python3",
      "display_name": "Python 3"
    },
    "language_info": {
      "name": "python"
    },
    "accelerator": "GPU",
    "gpuClass": "standard"
  },
  "cells": [
    {
      "cell_type": "markdown",
      "metadata": {
        "id": "view-in-github",
        "colab_type": "text"
      },
      "source": [
        "<a href=\"https://colab.research.google.com/github/DietzscheNostoevsky/Learning_Pytorch/blob/main/00_Pytorch_Fundamentals.ipynb\" target=\"_parent\"><img src=\"https://colab.research.google.com/assets/colab-badge.svg\" alt=\"Open In Colab\"/></a>"
      ]
    },
    {
      "cell_type": "markdown",
      "source": [
        "# Tensors"
      ],
      "metadata": {
        "id": "Y9AZoVg0myrG"
      }
    },
    {
      "cell_type": "markdown",
      "source": [
        "## Setup"
      ],
      "metadata": {
        "id": "s_IfuDf9m_IE"
      }
    },
    {
      "cell_type": "code",
      "source": [
        "import torch\n",
        "torch.__version__"
      ],
      "metadata": {
        "colab": {
          "base_uri": "https://localhost:8080/",
          "height": 35
        },
        "id": "Tg71qX6cnEUc",
        "outputId": "7eba0e9f-8ce2-470d-bdb7-5d3f2a8488c9"
      },
      "execution_count": 1,
      "outputs": [
        {
          "output_type": "execute_result",
          "data": {
            "text/plain": [
              "'2.0.0+cu118'"
            ],
            "application/vnd.google.colaboratory.intrinsic+json": {
              "type": "string"
            }
          },
          "metadata": {},
          "execution_count": 1
        }
      ]
    },
    {
      "cell_type": "code",
      "source": [
        "torch.cuda.is_available()"
      ],
      "metadata": {
        "colab": {
          "base_uri": "https://localhost:8080/"
        },
        "id": "-kfqi457o_gq",
        "outputId": "62e96ec5-8e8a-4037-80c6-47c7cb3227b8"
      },
      "execution_count": 4,
      "outputs": [
        {
          "output_type": "execute_result",
          "data": {
            "text/plain": [
              "True"
            ]
          },
          "metadata": {},
          "execution_count": 4
        }
      ]
    },
    {
      "cell_type": "code",
      "source": [
        "torch.cuda.device_count()"
      ],
      "metadata": {
        "colab": {
          "base_uri": "https://localhost:8080/"
        },
        "id": "X7Bv8LoepJom",
        "outputId": "ed9e2d00-4650-49f3-9a82-8660597c7aa6"
      },
      "execution_count": 5,
      "outputs": [
        {
          "output_type": "execute_result",
          "data": {
            "text/plain": [
              "1"
            ]
          },
          "metadata": {},
          "execution_count": 5
        }
      ]
    },
    {
      "cell_type": "code",
      "source": [
        "torch.cuda.current_device()"
      ],
      "metadata": {
        "colab": {
          "base_uri": "https://localhost:8080/"
        },
        "id": "Bh6PYbOapQV1",
        "outputId": "d29c6436-016f-408a-ba57-90b50bc58e14"
      },
      "execution_count": 6,
      "outputs": [
        {
          "output_type": "execute_result",
          "data": {
            "text/plain": [
              "0"
            ]
          },
          "metadata": {},
          "execution_count": 6
        }
      ]
    },
    {
      "cell_type": "code",
      "source": [
        "torch.cuda.device(0)"
      ],
      "metadata": {
        "colab": {
          "base_uri": "https://localhost:8080/"
        },
        "id": "qJn45BQnpTaa",
        "outputId": "7aa02b31-90f6-486c-b17d-57c3619efc78"
      },
      "execution_count": 7,
      "outputs": [
        {
          "output_type": "execute_result",
          "data": {
            "text/plain": [
              "<torch.cuda.device at 0x7f652a061180>"
            ]
          },
          "metadata": {},
          "execution_count": 7
        }
      ]
    },
    {
      "cell_type": "code",
      "source": [
        "torch.cuda.get_device_name(0)"
      ],
      "metadata": {
        "colab": {
          "base_uri": "https://localhost:8080/",
          "height": 35
        },
        "id": "MCfW1VNwpWp1",
        "outputId": "fa6f5eb4-69a1-48be-fc87-238f1f290f76"
      },
      "execution_count": 8,
      "outputs": [
        {
          "output_type": "execute_result",
          "data": {
            "text/plain": [
              "'Tesla T4'"
            ],
            "application/vnd.google.colaboratory.intrinsic+json": {
              "type": "string"
            }
          },
          "metadata": {},
          "execution_count": 8
        }
      ]
    },
    {
      "cell_type": "code",
      "source": [
        "# setting device on GPU if available, else CPU\n",
        "device = torch.device('cuda' if torch.cuda.is_available() else 'cpu')\n",
        "print('Using device:', device)\n",
        "print()\n",
        "\n",
        "#Additional Info when using cuda\n",
        "if device.type == 'cuda':\n",
        "    print(torch.cuda.get_device_name(0))\n",
        "    print('Memory Usage:')\n",
        "    print('Allocated:', round(torch.cuda.memory_allocated(0)/1024**3,1), 'GB')\n",
        "    print('Cached:   ', round(torch.cuda.memory_reserved(0)/1024**3,1), 'GB')"
      ],
      "metadata": {
        "colab": {
          "base_uri": "https://localhost:8080/"
        },
        "id": "cI31ctDHpoVp",
        "outputId": "b7290ccd-4770-40ab-87d1-59127a1b7cba"
      },
      "execution_count": 18,
      "outputs": [
        {
          "output_type": "stream",
          "name": "stdout",
          "text": [
            "Using device: cuda\n",
            "\n",
            "Tesla T4\n",
            "Memory Usage:\n",
            "Allocated: 0.0 GB\n",
            "Cached:    0.0 GB\n"
          ]
        }
      ]
    },
    {
      "cell_type": "markdown",
      "source": [
        "## Scalar"
      ],
      "metadata": {
        "id": "trYr5lY6oYpS"
      }
    },
    {
      "cell_type": "code",
      "source": [
        "# Scalar \n",
        "\n",
        "scalar = torch.tensor(73)\n",
        "scalar"
      ],
      "metadata": {
        "colab": {
          "base_uri": "https://localhost:8080/"
        },
        "id": "Rull5gkWoaXE",
        "outputId": "7ec49c65-3ed2-4a7e-bda4-249165e92b08"
      },
      "execution_count": 2,
      "outputs": [
        {
          "output_type": "execute_result",
          "data": {
            "text/plain": [
              "tensor(73)"
            ]
          },
          "metadata": {},
          "execution_count": 2
        }
      ]
    },
    {
      "cell_type": "code",
      "source": [
        "scalar.is_cuda"
      ],
      "metadata": {
        "colab": {
          "base_uri": "https://localhost:8080/"
        },
        "id": "Hj6Bm4beqGTL",
        "outputId": "bc984346-1e4e-4d38-ef41-1afe9befe46d"
      },
      "execution_count": 11,
      "outputs": [
        {
          "output_type": "execute_result",
          "data": {
            "text/plain": [
              "False"
            ]
          },
          "metadata": {},
          "execution_count": 11
        }
      ]
    },
    {
      "cell_type": "code",
      "source": [
        "scalar_gpu = scalar.to('cuda')"
      ],
      "metadata": {
        "id": "-IxYUtw3qZWl"
      },
      "execution_count": 15,
      "outputs": []
    },
    {
      "cell_type": "code",
      "source": [
        "scalar_gpu.is_cuda"
      ],
      "metadata": {
        "colab": {
          "base_uri": "https://localhost:8080/"
        },
        "id": "YjiE1JlQqrxI",
        "outputId": "071b079f-3872-4b2c-d8c9-1ce648eada9d"
      },
      "execution_count": 16,
      "outputs": [
        {
          "output_type": "execute_result",
          "data": {
            "text/plain": [
              "True"
            ]
          },
          "metadata": {},
          "execution_count": 16
        }
      ]
    },
    {
      "cell_type": "code",
      "source": [
        "scalar.is_cpu"
      ],
      "metadata": {
        "colab": {
          "base_uri": "https://localhost:8080/"
        },
        "id": "M7f1qEoqqyDq",
        "outputId": "f83741fb-f154-4e24-d1a3-1d2d03a79738"
      },
      "execution_count": 17,
      "outputs": [
        {
          "output_type": "execute_result",
          "data": {
            "text/plain": [
              "True"
            ]
          },
          "metadata": {},
          "execution_count": 17
        }
      ]
    },
    {
      "cell_type": "code",
      "source": [
        "scalar_gpu"
      ],
      "metadata": {
        "colab": {
          "base_uri": "https://localhost:8080/"
        },
        "id": "XlLNiKIYrHHo",
        "outputId": "2b0409c0-8651-4c9a-ed88-8ee9d946a646"
      },
      "execution_count": 19,
      "outputs": [
        {
          "output_type": "execute_result",
          "data": {
            "text/plain": [
              "tensor(73, device='cuda:0')"
            ]
          },
          "metadata": {},
          "execution_count": 19
        }
      ]
    },
    {
      "cell_type": "code",
      "source": [
        "print(type(scalar_gpu))\n",
        "print(type(scalar))"
      ],
      "metadata": {
        "colab": {
          "base_uri": "https://localhost:8080/"
        },
        "id": "fRxT1x7prZ5x",
        "outputId": "75e25689-7f52-4a91-f591-a5319a87c9ad"
      },
      "execution_count": 22,
      "outputs": [
        {
          "output_type": "stream",
          "name": "stdout",
          "text": [
            "<class 'torch.Tensor'>\n",
            "<class 'torch.Tensor'>\n"
          ]
        }
      ]
    },
    {
      "cell_type": "code",
      "source": [
        "scalar.ndim"
      ],
      "metadata": {
        "colab": {
          "base_uri": "https://localhost:8080/"
        },
        "id": "4L8PKrB4r1jA",
        "outputId": "290d48eb-510a-4bf8-ed8c-8f1c871964d1"
      },
      "execution_count": 23,
      "outputs": [
        {
          "output_type": "execute_result",
          "data": {
            "text/plain": [
              "0"
            ]
          },
          "metadata": {},
          "execution_count": 23
        }
      ]
    },
    {
      "cell_type": "code",
      "source": [
        "scalar.item()"
      ],
      "metadata": {
        "colab": {
          "base_uri": "https://localhost:8080/"
        },
        "id": "WWgzo7k_r7wg",
        "outputId": "e244a2c4-a7ba-4684-da5d-833473dcd3ad"
      },
      "execution_count": 24,
      "outputs": [
        {
          "output_type": "execute_result",
          "data": {
            "text/plain": [
              "73"
            ]
          },
          "metadata": {},
          "execution_count": 24
        }
      ]
    },
    {
      "cell_type": "code",
      "source": [
        "vector = torch.tensor([11,37,73])"
      ],
      "metadata": {
        "id": "w8Lj9yuKsVxV"
      },
      "execution_count": 25,
      "outputs": []
    },
    {
      "cell_type": "code",
      "source": [
        "vector.ndim"
      ],
      "metadata": {
        "colab": {
          "base_uri": "https://localhost:8080/"
        },
        "id": "qKfpKoDksrMt",
        "outputId": "a55b77d9-0c2c-4316-ba50-a1b666e4ac07"
      },
      "execution_count": 26,
      "outputs": [
        {
          "output_type": "execute_result",
          "data": {
            "text/plain": [
              "1"
            ]
          },
          "metadata": {},
          "execution_count": 26
        }
      ]
    },
    {
      "cell_type": "code",
      "source": [
        "vector.shape"
      ],
      "metadata": {
        "colab": {
          "base_uri": "https://localhost:8080/"
        },
        "id": "IhHApxtvs5sm",
        "outputId": "171f9fde-ec26-44ca-e07d-e9abd45bcfa7"
      },
      "execution_count": 27,
      "outputs": [
        {
          "output_type": "execute_result",
          "data": {
            "text/plain": [
              "torch.Size([3])"
            ]
          },
          "metadata": {},
          "execution_count": 27
        }
      ]
    },
    {
      "cell_type": "code",
      "source": [
        "MATRIX = torch.tensor([[1,2,3],[4,5,6],[7,8,9]])\n",
        "MATRIX"
      ],
      "metadata": {
        "colab": {
          "base_uri": "https://localhost:8080/"
        },
        "id": "E9pJHZrstDr9",
        "outputId": "389b1cd2-93da-4f2a-d9db-5d47fe81a506"
      },
      "execution_count": 30,
      "outputs": [
        {
          "output_type": "execute_result",
          "data": {
            "text/plain": [
              "tensor([[1, 2, 3],\n",
              "        [4, 5, 6],\n",
              "        [7, 8, 9]])"
            ]
          },
          "metadata": {},
          "execution_count": 30
        }
      ]
    },
    {
      "cell_type": "code",
      "source": [
        "MATRIX.ndim"
      ],
      "metadata": {
        "colab": {
          "base_uri": "https://localhost:8080/"
        },
        "id": "vKdt5AYdtSYK",
        "outputId": "d0af474d-f3eb-4724-cab5-7326880ccfa1"
      },
      "execution_count": 31,
      "outputs": [
        {
          "output_type": "execute_result",
          "data": {
            "text/plain": [
              "2"
            ]
          },
          "metadata": {},
          "execution_count": 31
        }
      ]
    },
    {
      "cell_type": "code",
      "source": [
        "MATRIX.shape"
      ],
      "metadata": {
        "colab": {
          "base_uri": "https://localhost:8080/"
        },
        "id": "B0cENt4Ithvh",
        "outputId": "1c0a892d-73a2-4f60-f8f8-5d87e4fdbd7a"
      },
      "execution_count": 32,
      "outputs": [
        {
          "output_type": "execute_result",
          "data": {
            "text/plain": [
              "torch.Size([3, 3])"
            ]
          },
          "metadata": {},
          "execution_count": 32
        }
      ]
    },
    {
      "cell_type": "code",
      "source": [
        "TENSOR = torch.tensor([[[1,2,3],\n",
        "            [3,6,9],\n",
        "            [2,4,5]]])\n",
        "TENSOR"
      ],
      "metadata": {
        "colab": {
          "base_uri": "https://localhost:8080/"
        },
        "id": "gn-aq6UjuMaF",
        "outputId": "9ed2d7b3-a53d-4aad-a821-09eb0b3309e7"
      },
      "execution_count": 38,
      "outputs": [
        {
          "output_type": "execute_result",
          "data": {
            "text/plain": [
              "tensor([[[1, 2, 3],\n",
              "         [3, 6, 9],\n",
              "         [2, 4, 5]]])"
            ]
          },
          "metadata": {},
          "execution_count": 38
        }
      ]
    },
    {
      "cell_type": "code",
      "source": [
        "TENSOR.ndim"
      ],
      "metadata": {
        "colab": {
          "base_uri": "https://localhost:8080/"
        },
        "id": "wdqGMi2auMMw",
        "outputId": "32f71ce3-d61c-44c7-a5e9-3c26e1b3527d"
      },
      "execution_count": 39,
      "outputs": [
        {
          "output_type": "execute_result",
          "data": {
            "text/plain": [
              "3"
            ]
          },
          "metadata": {},
          "execution_count": 39
        }
      ]
    },
    {
      "cell_type": "code",
      "source": [
        "TENSOR.shape"
      ],
      "metadata": {
        "colab": {
          "base_uri": "https://localhost:8080/"
        },
        "id": "fZAboOMguooO",
        "outputId": "2d6a3bb4-2c93-4bcd-c404-1e8e06a7a43b"
      },
      "execution_count": 40,
      "outputs": [
        {
          "output_type": "execute_result",
          "data": {
            "text/plain": [
              "torch.Size([1, 3, 3])"
            ]
          },
          "metadata": {},
          "execution_count": 40
        }
      ]
    },
    {
      "cell_type": "markdown",
      "source": [
        "# Reshaping\n"
      ],
      "metadata": {
        "id": "HMRbQwAdKZj8"
      }
    },
    {
      "cell_type": "code",
      "source": [
        "# Create a tensor\n",
        "import torch\n",
        "x = torch.arange(1., 8.)\n",
        "x, x.shape"
      ],
      "metadata": {
        "colab": {
          "base_uri": "https://localhost:8080/"
        },
        "id": "C0TUEDTZKbkQ",
        "outputId": "cbea8ac0-ccae-47b1-cd3a-d7f4810617ee"
      },
      "execution_count": 1,
      "outputs": [
        {
          "output_type": "execute_result",
          "data": {
            "text/plain": [
              "(tensor([1., 2., 3., 4., 5., 6., 7.]), torch.Size([7]))"
            ]
          },
          "metadata": {},
          "execution_count": 1
        }
      ]
    },
    {
      "cell_type": "code",
      "source": [
        "# Add an extra dimension\n",
        "x_reshaped = x.reshape(1, 7)\n",
        "x_reshaped, x_reshaped.shape"
      ],
      "metadata": {
        "colab": {
          "base_uri": "https://localhost:8080/"
        },
        "id": "MGwnHoGzKd4r",
        "outputId": "90e84045-d742-4473-e86f-db2e70c30ae6"
      },
      "execution_count": 2,
      "outputs": [
        {
          "output_type": "execute_result",
          "data": {
            "text/plain": [
              "(tensor([[1., 2., 3., 4., 5., 6., 7.]]), torch.Size([1, 7]))"
            ]
          },
          "metadata": {},
          "execution_count": 2
        }
      ]
    },
    {
      "cell_type": "code",
      "source": [
        "# Stack tensors on top of each other\n",
        "x_stacked = torch.stack([x, x, x, x], dim=0) # try changing dim to dim=1 and see what happens\n",
        "x_stacked"
      ],
      "metadata": {
        "colab": {
          "base_uri": "https://localhost:8080/"
        },
        "id": "J7bc4DqoKhIP",
        "outputId": "9a3cf0b7-c9db-460e-c10a-9eab094e9dc9"
      },
      "execution_count": 3,
      "outputs": [
        {
          "output_type": "execute_result",
          "data": {
            "text/plain": [
              "tensor([[1., 2., 3., 4., 5., 6., 7.],\n",
              "        [1., 2., 3., 4., 5., 6., 7.],\n",
              "        [1., 2., 3., 4., 5., 6., 7.],\n",
              "        [1., 2., 3., 4., 5., 6., 7.]])"
            ]
          },
          "metadata": {},
          "execution_count": 3
        }
      ]
    },
    {
      "cell_type": "code",
      "source": [
        "print(f\"Previous tensor: {x_reshaped}\")\n",
        "print(f\"Previous shape: {x_reshaped.shape}\")\n",
        "\n",
        "# Remove extra dimension from x_reshaped\n",
        "x_squeezed = x_reshaped.squeeze()\n",
        "print(f\"\\nNew tensor: {x_squeezed}\")\n",
        "print(f\"New shape: {x_squeezed.shape}\")"
      ],
      "metadata": {
        "colab": {
          "base_uri": "https://localhost:8080/"
        },
        "id": "OekcC0WuMksu",
        "outputId": "d5fb16b2-3134-4712-d84e-1efc5997ad0d"
      },
      "execution_count": 4,
      "outputs": [
        {
          "output_type": "stream",
          "name": "stdout",
          "text": [
            "Previous tensor: tensor([[1., 2., 3., 4., 5., 6., 7.]])\n",
            "Previous shape: torch.Size([1, 7])\n",
            "\n",
            "New tensor: tensor([1., 2., 3., 4., 5., 6., 7.])\n",
            "New shape: torch.Size([7])\n"
          ]
        }
      ]
    },
    {
      "cell_type": "code",
      "source": [
        "print(f\"Previous tensor: {x_squeezed}\")\n",
        "print(f\"Previous shape: {x_squeezed.shape}\")\n",
        "\n",
        "## Add an extra dimension with unsqueeze\n",
        "x_unsqueezed = x_squeezed.unsqueeze(dim=0)\n",
        "print(f\"\\nNew tensor: {x_unsqueezed}\")\n",
        "print(f\"New shape: {x_unsqueezed.shape}\")"
      ],
      "metadata": {
        "colab": {
          "base_uri": "https://localhost:8080/"
        },
        "id": "NUr7n-ZuMxdv",
        "outputId": "f8e2e9cb-87d1-483f-b7e5-17f9ff23386e"
      },
      "execution_count": 5,
      "outputs": [
        {
          "output_type": "stream",
          "name": "stdout",
          "text": [
            "Previous tensor: tensor([1., 2., 3., 4., 5., 6., 7.])\n",
            "Previous shape: torch.Size([7])\n",
            "\n",
            "New tensor: tensor([[1., 2., 3., 4., 5., 6., 7.]])\n",
            "New shape: torch.Size([1, 7])\n"
          ]
        }
      ]
    },
    {
      "cell_type": "code",
      "source": [
        "x_unsqueezed = x_squeezed.unsqueeze(dim=1)\n",
        "print(f\"\\nNew tensor: {x_unsqueezed}\")\n",
        "print(f\"New shape: {x_unsqueezed.shape}\")"
      ],
      "metadata": {
        "id": "D5hqXjAmSYD-",
        "outputId": "37ae9a02-bab5-4d1a-e38a-133259cee1fa",
        "colab": {
          "base_uri": "https://localhost:8080/"
        }
      },
      "execution_count": 8,
      "outputs": [
        {
          "output_type": "stream",
          "name": "stdout",
          "text": [
            "\n",
            "New tensor: tensor([[1.],\n",
            "        [2.],\n",
            "        [3.],\n",
            "        [4.],\n",
            "        [5.],\n",
            "        [6.],\n",
            "        [7.]])\n",
            "New shape: torch.Size([7, 1])\n"
          ]
        }
      ]
    },
    {
      "cell_type": "code",
      "source": [
        "# Create tensor with specific shape\n",
        "x_original = torch.rand(size=(224, 224, 3))\n",
        "\n",
        "# Permute the original tensor to rearrange the axis order\n",
        "x_permuted = x_original.permute(2, 0, 1) # shifts axis 0->1, 1->2, 2->0\n",
        "\n",
        "print(f\"Previous shape: {x_original.shape}\")\n",
        "print(f\"New shape: {x_permuted.shape}\")"
      ],
      "metadata": {
        "colab": {
          "base_uri": "https://localhost:8080/"
        },
        "id": "vlvwr3TrM17G",
        "outputId": "1a074cfc-8de8-4e51-ed44-d65e0a7188b9"
      },
      "execution_count": 7,
      "outputs": [
        {
          "output_type": "stream",
          "name": "stdout",
          "text": [
            "Previous shape: torch.Size([224, 224, 3])\n",
            "New shape: torch.Size([3, 224, 224])\n"
          ]
        }
      ]
    },
    {
      "cell_type": "code",
      "source": [
        "print(x_original)"
      ],
      "metadata": {
        "id": "FakZ2QzrSzlD",
        "outputId": "421838ad-1d76-4f64-ca07-32b068bad032",
        "colab": {
          "base_uri": "https://localhost:8080/"
        }
      },
      "execution_count": 9,
      "outputs": [
        {
          "output_type": "stream",
          "name": "stdout",
          "text": [
            "tensor([[[0.7734, 0.0177, 0.2513],\n",
            "         [0.2545, 0.8936, 0.2464],\n",
            "         [0.4027, 0.7475, 0.4008],\n",
            "         ...,\n",
            "         [0.5284, 0.8951, 0.3448],\n",
            "         [0.2316, 0.2015, 0.0161],\n",
            "         [0.0221, 0.7678, 0.1042]],\n",
            "\n",
            "        [[0.0396, 0.1297, 0.6630],\n",
            "         [0.3213, 0.9025, 0.2037],\n",
            "         [0.6620, 0.4957, 0.8318],\n",
            "         ...,\n",
            "         [0.4699, 0.8308, 0.3584],\n",
            "         [0.2743, 0.6564, 0.8875],\n",
            "         [0.2665, 0.5075, 0.2537]],\n",
            "\n",
            "        [[0.5075, 0.2775, 0.8725],\n",
            "         [0.5509, 0.4201, 0.7078],\n",
            "         [0.5762, 0.8939, 0.0044],\n",
            "         ...,\n",
            "         [0.9798, 0.8157, 0.9075],\n",
            "         [0.9475, 0.7640, 0.5017],\n",
            "         [0.4416, 0.0101, 0.3306]],\n",
            "\n",
            "        ...,\n",
            "\n",
            "        [[0.3031, 0.7059, 0.5776],\n",
            "         [0.4895, 0.5302, 0.1073],\n",
            "         [0.6337, 0.1732, 0.7496],\n",
            "         ...,\n",
            "         [0.7947, 0.7931, 0.7382],\n",
            "         [0.7135, 0.6855, 0.9094],\n",
            "         [0.0491, 0.1068, 0.4321]],\n",
            "\n",
            "        [[0.0758, 0.3733, 0.3482],\n",
            "         [0.5371, 0.9298, 0.1577],\n",
            "         [0.0914, 0.7093, 0.8619],\n",
            "         ...,\n",
            "         [0.6015, 0.4783, 0.4948],\n",
            "         [0.3036, 0.9223, 0.1241],\n",
            "         [0.9403, 0.0492, 0.8828]],\n",
            "\n",
            "        [[0.2184, 0.4013, 0.2594],\n",
            "         [0.0125, 0.4505, 0.0587],\n",
            "         [0.5514, 0.5140, 0.6968],\n",
            "         ...,\n",
            "         [0.3424, 0.0978, 0.9290],\n",
            "         [0.4081, 0.1562, 0.6067],\n",
            "         [0.6890, 0.3699, 0.4769]]])\n"
          ]
        }
      ]
    },
    {
      "cell_type": "code",
      "source": [
        "print(x_permuted)"
      ],
      "metadata": {
        "id": "qK3yMWWuTAav",
        "outputId": "9542e6c6-0b3f-40de-d1a0-6236efac97ce",
        "colab": {
          "base_uri": "https://localhost:8080/"
        }
      },
      "execution_count": 10,
      "outputs": [
        {
          "output_type": "stream",
          "name": "stdout",
          "text": [
            "tensor([[[0.7734, 0.2545, 0.4027,  ..., 0.5284, 0.2316, 0.0221],\n",
            "         [0.0396, 0.3213, 0.6620,  ..., 0.4699, 0.2743, 0.2665],\n",
            "         [0.5075, 0.5509, 0.5762,  ..., 0.9798, 0.9475, 0.4416],\n",
            "         ...,\n",
            "         [0.3031, 0.4895, 0.6337,  ..., 0.7947, 0.7135, 0.0491],\n",
            "         [0.0758, 0.5371, 0.0914,  ..., 0.6015, 0.3036, 0.9403],\n",
            "         [0.2184, 0.0125, 0.5514,  ..., 0.3424, 0.4081, 0.6890]],\n",
            "\n",
            "        [[0.0177, 0.8936, 0.7475,  ..., 0.8951, 0.2015, 0.7678],\n",
            "         [0.1297, 0.9025, 0.4957,  ..., 0.8308, 0.6564, 0.5075],\n",
            "         [0.2775, 0.4201, 0.8939,  ..., 0.8157, 0.7640, 0.0101],\n",
            "         ...,\n",
            "         [0.7059, 0.5302, 0.1732,  ..., 0.7931, 0.6855, 0.1068],\n",
            "         [0.3733, 0.9298, 0.7093,  ..., 0.4783, 0.9223, 0.0492],\n",
            "         [0.4013, 0.4505, 0.5140,  ..., 0.0978, 0.1562, 0.3699]],\n",
            "\n",
            "        [[0.2513, 0.2464, 0.4008,  ..., 0.3448, 0.0161, 0.1042],\n",
            "         [0.6630, 0.2037, 0.8318,  ..., 0.3584, 0.8875, 0.2537],\n",
            "         [0.8725, 0.7078, 0.0044,  ..., 0.9075, 0.5017, 0.3306],\n",
            "         ...,\n",
            "         [0.5776, 0.1073, 0.7496,  ..., 0.7382, 0.9094, 0.4321],\n",
            "         [0.3482, 0.1577, 0.8619,  ..., 0.4948, 0.1241, 0.8828],\n",
            "         [0.2594, 0.0587, 0.6968,  ..., 0.9290, 0.6067, 0.4769]]])\n"
          ]
        }
      ]
    }
  ]
}