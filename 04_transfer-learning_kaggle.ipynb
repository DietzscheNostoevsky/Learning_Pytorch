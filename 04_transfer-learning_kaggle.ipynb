{
 "cells": [
  {
   "cell_type": "markdown",
   "id": "4cef1898",
   "metadata": {
    "id": "-gzMrEgNt00t",
    "papermill": {
     "duration": 0.01007,
     "end_time": "2023-05-24T07:00:28.045622",
     "exception": false,
     "start_time": "2023-05-24T07:00:28.035552",
     "status": "completed"
    },
    "tags": []
   },
   "source": [
    "# 0. Setup \n"
   ]
  },
  {
   "cell_type": "markdown",
   "id": "fb6f20d6",
   "metadata": {
    "id": "ndxasTW0t46N",
    "papermill": {
     "duration": 0.007717,
     "end_time": "2023-05-24T07:00:28.061586",
     "exception": false,
     "start_time": "2023-05-24T07:00:28.053869",
     "status": "completed"
    },
    "tags": []
   },
   "source": [
    "Importing required modules and files.  \n",
    "Using going_modular directory functions.  \n",
    "\n"
   ]
  },
  {
   "cell_type": "code",
   "execution_count": 1,
   "id": "00476771",
   "metadata": {
    "execution": {
     "iopub.execute_input": "2023-05-24T07:00:28.079667Z",
     "iopub.status.busy": "2023-05-24T07:00:28.078937Z",
     "iopub.status.idle": "2023-05-24T07:02:57.636158Z",
     "shell.execute_reply": "2023-05-24T07:02:57.634975Z"
    },
    "id": "gE1nrMZnvYAX",
    "outputId": "a86aac1c-76dd-470c-e57a-c6736c3d55bf",
    "papermill": {
     "duration": 149.568964,
     "end_time": "2023-05-24T07:02:57.638547",
     "exception": false,
     "start_time": "2023-05-24T07:00:28.069583",
     "status": "completed"
    },
    "tags": []
   },
   "outputs": [
    {
     "name": "stdout",
     "output_type": "stream",
     "text": [
      "[INFO] torch/torchvision versions not as required, installing nightly versions.\n",
      "Looking in indexes: https://pypi.org/simple, https://download.pytorch.org/whl/cu113\r\n",
      "Requirement already satisfied: torch in /opt/conda/lib/python3.10/site-packages (2.0.0)\r\n",
      "Collecting torch\r\n",
      "  Downloading torch-2.0.1-cp310-cp310-manylinux1_x86_64.whl (619.9 MB)\r\n",
      "\u001b[2K     \u001b[90m━━━━━━━━━━━━━━━━━━━━━━━━━━━━━━━━━━━━━━━\u001b[0m \u001b[32m619.9/619.9 MB\u001b[0m \u001b[31m1.6 MB/s\u001b[0m eta \u001b[36m0:00:00\u001b[0m\r\n",
      "\u001b[?25hRequirement already satisfied: torchvision in /opt/conda/lib/python3.10/site-packages (0.15.1)\r\n",
      "Collecting torchvision\r\n",
      "  Downloading torchvision-0.15.2-cp310-cp310-manylinux1_x86_64.whl (6.0 MB)\r\n",
      "\u001b[2K     \u001b[90m━━━━━━━━━━━━━━━━━━━━━━━━━━━━━━━━━━━━━━━━\u001b[0m \u001b[32m6.0/6.0 MB\u001b[0m \u001b[31m83.1 MB/s\u001b[0m eta \u001b[36m0:00:00\u001b[0m\r\n",
      "\u001b[?25hRequirement already satisfied: torchaudio in /opt/conda/lib/python3.10/site-packages (2.0.1)\r\n",
      "Collecting torchaudio\r\n",
      "  Downloading torchaudio-2.0.2-cp310-cp310-manylinux1_x86_64.whl (4.4 MB)\r\n",
      "\u001b[2K     \u001b[90m━━━━━━━━━━━━━━━━━━━━━━━━━━━━━━━━━━━━━━━━\u001b[0m \u001b[32m4.4/4.4 MB\u001b[0m \u001b[31m82.1 MB/s\u001b[0m eta \u001b[36m0:00:00\u001b[0m\r\n",
      "\u001b[?25hCollecting nvidia-cuda-nvrtc-cu11==11.7.99\r\n",
      "  Downloading nvidia_cuda_nvrtc_cu11-11.7.99-2-py3-none-manylinux1_x86_64.whl (21.0 MB)\r\n",
      "\u001b[2K     \u001b[90m━━━━━━━━━━━━━━━━━━━━━━━━━━━━━━━━━━━━━━━━\u001b[0m \u001b[32m21.0/21.0 MB\u001b[0m \u001b[31m58.5 MB/s\u001b[0m eta \u001b[36m0:00:00\u001b[0m\r\n",
      "\u001b[?25hCollecting nvidia-nccl-cu11==2.14.3\r\n",
      "  Downloading nvidia_nccl_cu11-2.14.3-py3-none-manylinux1_x86_64.whl (177.1 MB)\r\n",
      "\u001b[2K     \u001b[90m━━━━━━━━━━━━━━━━━━━━━━━━━━━━━━━━━━━━━━━\u001b[0m \u001b[32m177.1/177.1 MB\u001b[0m \u001b[31m4.1 MB/s\u001b[0m eta \u001b[36m0:00:00\u001b[0m\r\n",
      "\u001b[?25hCollecting nvidia-curand-cu11==10.2.10.91\r\n",
      "  Downloading nvidia_curand_cu11-10.2.10.91-py3-none-manylinux1_x86_64.whl (54.6 MB)\r\n",
      "\u001b[2K     \u001b[90m━━━━━━━━━━━━━━━━━━━━━━━━━━━━━━━━━━━━━━━━\u001b[0m \u001b[32m54.6/54.6 MB\u001b[0m \u001b[31m22.7 MB/s\u001b[0m eta \u001b[36m0:00:00\u001b[0m\r\n",
      "\u001b[?25hCollecting nvidia-cuda-runtime-cu11==11.7.99\r\n",
      "  Downloading nvidia_cuda_runtime_cu11-11.7.99-py3-none-manylinux1_x86_64.whl (849 kB)\r\n",
      "\u001b[2K     \u001b[90m━━━━━━━━━━━━━━━━━━━━━━━━━━━━━━━━━━━━━━\u001b[0m \u001b[32m849.3/849.3 kB\u001b[0m \u001b[31m55.8 MB/s\u001b[0m eta \u001b[36m0:00:00\u001b[0m\r\n",
      "\u001b[?25hCollecting nvidia-cufft-cu11==10.9.0.58\r\n",
      "  Downloading nvidia_cufft_cu11-10.9.0.58-py3-none-manylinux1_x86_64.whl (168.4 MB)\r\n",
      "\u001b[2K     \u001b[90m━━━━━━━━━━━━━━━━━━━━━━━━━━━━━━━━━━━━━━━\u001b[0m \u001b[32m168.4/168.4 MB\u001b[0m \u001b[31m7.2 MB/s\u001b[0m eta \u001b[36m0:00:00\u001b[0m\r\n",
      "\u001b[?25hCollecting nvidia-cublas-cu11==11.10.3.66\r\n",
      "  Downloading nvidia_cublas_cu11-11.10.3.66-py3-none-manylinux1_x86_64.whl (317.1 MB)\r\n",
      "\u001b[2K     \u001b[90m━━━━━━━━━━━━━━━━━━━━━━━━━━━━━━━━━━━━━━━\u001b[0m \u001b[32m317.1/317.1 MB\u001b[0m \u001b[31m3.5 MB/s\u001b[0m eta \u001b[36m0:00:00\u001b[0m\r\n",
      "\u001b[?25hRequirement already satisfied: sympy in /opt/conda/lib/python3.10/site-packages (from torch) (1.11.1)\r\n",
      "Requirement already satisfied: filelock in /opt/conda/lib/python3.10/site-packages (from torch) (3.11.0)\r\n",
      "Collecting triton==2.0.0\r\n",
      "  Downloading https://download.pytorch.org/whl/triton-2.0.0-1-cp310-cp310-manylinux2014_x86_64.manylinux_2_17_x86_64.whl (63.3 MB)\r\n",
      "\u001b[2K     \u001b[90m━━━━━━━━━━━━━━━━━━━━━━━━━━━━━━━━━━━━━━━━\u001b[0m \u001b[32m63.3/63.3 MB\u001b[0m \u001b[31m7.9 MB/s\u001b[0m eta \u001b[36m0:00:00\u001b[0m\r\n",
      "\u001b[?25hCollecting nvidia-nvtx-cu11==11.7.91\r\n",
      "  Downloading nvidia_nvtx_cu11-11.7.91-py3-none-manylinux1_x86_64.whl (98 kB)\r\n",
      "\u001b[2K     \u001b[90m━━━━━━━━━━━━━━━━━━━━━━━━━━━━━━━━━━━━━━━\u001b[0m \u001b[32m98.6/98.6 kB\u001b[0m \u001b[31m235.5 kB/s\u001b[0m eta \u001b[36m0:00:00\u001b[0m\r\n",
      "\u001b[?25hRequirement already satisfied: typing-extensions in /opt/conda/lib/python3.10/site-packages (from torch) (4.5.0)\r\n",
      "Requirement already satisfied: networkx in /opt/conda/lib/python3.10/site-packages (from torch) (3.1)\r\n",
      "Collecting nvidia-cuda-cupti-cu11==11.7.101\r\n",
      "  Downloading nvidia_cuda_cupti_cu11-11.7.101-py3-none-manylinux1_x86_64.whl (11.8 MB)\r\n",
      "\u001b[2K     \u001b[90m━━━━━━━━━━━━━━━━━━━━━━━━━━━━━━━━━━━━━━━━\u001b[0m \u001b[32m11.8/11.8 MB\u001b[0m \u001b[31m12.0 MB/s\u001b[0m eta \u001b[36m0:00:00\u001b[0m\r\n",
      "\u001b[?25hCollecting nvidia-cusolver-cu11==11.4.0.1\r\n",
      "  Downloading nvidia_cusolver_cu11-11.4.0.1-2-py3-none-manylinux1_x86_64.whl (102.6 MB)\r\n",
      "\u001b[2K     \u001b[90m━━━━━━━━━━━━━━━━━━━━━━━━━━━━━━━━━━━━━━\u001b[0m \u001b[32m102.6/102.6 MB\u001b[0m \u001b[31m12.1 MB/s\u001b[0m eta \u001b[36m0:00:00\u001b[0m\r\n",
      "\u001b[?25hCollecting nvidia-cudnn-cu11==8.5.0.96\r\n",
      "  Downloading nvidia_cudnn_cu11-8.5.0.96-2-py3-none-manylinux1_x86_64.whl (557.1 MB)\r\n",
      "\u001b[2K     \u001b[90m━━━━━━━━━━━━━━━━━━━━━━━━━━━━━━━━━━━━━━━\u001b[0m \u001b[32m557.1/557.1 MB\u001b[0m \u001b[31m1.5 MB/s\u001b[0m eta \u001b[36m0:00:00\u001b[0m\r\n",
      "\u001b[?25hRequirement already satisfied: jinja2 in /opt/conda/lib/python3.10/site-packages (from torch) (3.1.2)\r\n",
      "Collecting nvidia-cusparse-cu11==11.7.4.91\r\n",
      "  Downloading nvidia_cusparse_cu11-11.7.4.91-py3-none-manylinux1_x86_64.whl (173.2 MB)\r\n",
      "\u001b[2K     \u001b[90m━━━━━━━━━━━━━━━━━━━━━━━━━━━━━━━━━━━━━━━\u001b[0m \u001b[32m173.2/173.2 MB\u001b[0m \u001b[31m7.3 MB/s\u001b[0m eta \u001b[36m0:00:00\u001b[0m\r\n",
      "\u001b[?25hRequirement already satisfied: wheel in /opt/conda/lib/python3.10/site-packages (from nvidia-cublas-cu11==11.10.3.66->torch) (0.40.0)\r\n",
      "Requirement already satisfied: setuptools in /opt/conda/lib/python3.10/site-packages (from nvidia-cublas-cu11==11.10.3.66->torch) (59.8.0)\r\n",
      "Collecting lit\r\n",
      "  Downloading lit-16.0.5.tar.gz (138 kB)\r\n",
      "\u001b[2K     \u001b[90m━━━━━━━━━━━━━━━━━━━━━━━━━━━━━━━━━━━━━━\u001b[0m \u001b[32m138.0/138.0 kB\u001b[0m \u001b[31m12.4 MB/s\u001b[0m eta \u001b[36m0:00:00\u001b[0m\r\n",
      "\u001b[?25h  Preparing metadata (setup.py) ... \u001b[?25l-\b \b\\\b \bdone\r\n",
      "\u001b[?25hCollecting cmake\r\n",
      "  Downloading cmake-3.26.3-py2.py3-none-manylinux2014_x86_64.manylinux_2_17_x86_64.whl (24.0 MB)\r\n",
      "\u001b[2K     \u001b[90m━━━━━━━━━━━━━━━━━━━━━━━━━━━━━━━━━━━━━━━━\u001b[0m \u001b[32m24.0/24.0 MB\u001b[0m \u001b[31m56.4 MB/s\u001b[0m eta \u001b[36m0:00:00\u001b[0m\r\n",
      "\u001b[?25hRequirement already satisfied: pillow!=8.3.*,>=5.3.0 in /opt/conda/lib/python3.10/site-packages (from torchvision) (9.5.0)\r\n",
      "Requirement already satisfied: numpy in /opt/conda/lib/python3.10/site-packages (from torchvision) (1.23.5)\r\n",
      "Requirement already satisfied: requests in /opt/conda/lib/python3.10/site-packages (from torchvision) (2.28.2)\r\n",
      "Requirement already satisfied: MarkupSafe>=2.0 in /opt/conda/lib/python3.10/site-packages (from jinja2->torch) (2.1.2)\r\n",
      "Requirement already satisfied: urllib3<1.27,>=1.21.1 in /opt/conda/lib/python3.10/site-packages (from requests->torchvision) (1.26.15)\r\n",
      "Requirement already satisfied: idna<4,>=2.5 in /opt/conda/lib/python3.10/site-packages (from requests->torchvision) (3.4)\r\n",
      "Requirement already satisfied: charset-normalizer<4,>=2 in /opt/conda/lib/python3.10/site-packages (from requests->torchvision) (2.1.1)\r\n",
      "Requirement already satisfied: certifi>=2017.4.17 in /opt/conda/lib/python3.10/site-packages (from requests->torchvision) (2022.12.7)\r\n",
      "Requirement already satisfied: mpmath>=0.19 in /opt/conda/lib/python3.10/site-packages (from sympy->torch) (1.3.0)\r\n",
      "Building wheels for collected packages: lit\r\n",
      "  Building wheel for lit (setup.py) ... \u001b[?25l-\b \b\\\b \b|\b \bdone\r\n",
      "\u001b[?25h  Created wheel for lit: filename=lit-16.0.5-py3-none-any.whl size=88190 sha256=eea0ffc2ce237f3fe58369961b625904a24515d0739d66dff19492ec14b4a50c\r\n",
      "  Stored in directory: /root/.cache/pip/wheels/eb/02/84/d82f0b1a6098209edf7e3607be6cc592ebbc015a8a3127c68d\r\n",
      "Successfully built lit\r\n",
      "Installing collected packages: lit, cmake, nvidia-nvtx-cu11, nvidia-nccl-cu11, nvidia-cusparse-cu11, nvidia-curand-cu11, nvidia-cufft-cu11, nvidia-cuda-runtime-cu11, nvidia-cuda-nvrtc-cu11, nvidia-cuda-cupti-cu11, nvidia-cublas-cu11, nvidia-cusolver-cu11, nvidia-cudnn-cu11, triton, torch, torchvision, torchaudio\r\n",
      "  Attempting uninstall: torch\r\n",
      "    Found existing installation: torch 2.0.0\r\n",
      "    Uninstalling torch-2.0.0:\r\n",
      "      Successfully uninstalled torch-2.0.0\r\n",
      "  Attempting uninstall: torchvision\r\n",
      "    Found existing installation: torchvision 0.15.1\r\n",
      "    Uninstalling torchvision-0.15.1:\r\n",
      "      Successfully uninstalled torchvision-0.15.1\r\n",
      "  Attempting uninstall: torchaudio\r\n",
      "    Found existing installation: torchaudio 2.0.1\r\n",
      "    Uninstalling torchaudio-2.0.1:\r\n",
      "      Successfully uninstalled torchaudio-2.0.1\r\n",
      "\u001b[31mERROR: pip's dependency resolver does not currently take into account all the packages that are installed. This behaviour is the source of the following dependency conflicts.\r\n",
      "torchdata 0.6.0 requires torch==2.0.0, but you have torch 2.0.1 which is incompatible.\u001b[0m\u001b[31m\r\n",
      "\u001b[0mSuccessfully installed cmake-3.26.3 lit-16.0.5 nvidia-cublas-cu11-11.10.3.66 nvidia-cuda-cupti-cu11-11.7.101 nvidia-cuda-nvrtc-cu11-11.7.99 nvidia-cuda-runtime-cu11-11.7.99 nvidia-cudnn-cu11-8.5.0.96 nvidia-cufft-cu11-10.9.0.58 nvidia-curand-cu11-10.2.10.91 nvidia-cusolver-cu11-11.4.0.1 nvidia-cusparse-cu11-11.7.4.91 nvidia-nccl-cu11-2.14.3 nvidia-nvtx-cu11-11.7.91 torch-2.0.1 torchaudio-2.0.2 torchvision-0.15.2 triton-2.0.0\r\n",
      "\u001b[33mWARNING: Running pip as the 'root' user can result in broken permissions and conflicting behaviour with the system package manager. It is recommended to use a virtual environment instead: https://pip.pypa.io/warnings/venv\u001b[0m\u001b[33m\r\n",
      "\u001b[0mtorch version: 2.0.0\n",
      "torchvision version: 0.15.1\n"
     ]
    }
   ],
   "source": [
    "# For this notebook to run with updated APIs, we need torch 1.12+ and torchvision 0.13+\n",
    "try:\n",
    "    import torch\n",
    "    import torchvision\n",
    "    assert int(torch.__version__.split(\".\")[1]) >= 12, \"torch version should be 1.12+\"\n",
    "    assert int(torchvision.__version__.split(\".\")[1]) >= 13, \"torchvision version should be 0.13+\"\n",
    "    print(f\"torch version: {torch.__version__}\")\n",
    "    print(f\"torchvision version: {torchvision.__version__}\")\n",
    "except:\n",
    "    print(f\"[INFO] torch/torchvision versions not as required, installing nightly versions.\")\n",
    "    !pip3 install -U torch torchvision torchaudio --extra-index-url https://download.pytorch.org/whl/cu113\n",
    "    import torch\n",
    "    import torchvision\n",
    "    print(f\"torch version: {torch.__version__}\")\n",
    "    print(f\"torchvision version: {torchvision.__version__}\")"
   ]
  },
  {
   "cell_type": "code",
   "execution_count": 2,
   "id": "49134809",
   "metadata": {
    "execution": {
     "iopub.execute_input": "2023-05-24T07:02:57.775203Z",
     "iopub.status.busy": "2023-05-24T07:02:57.772787Z",
     "iopub.status.idle": "2023-05-24T07:03:26.283449Z",
     "shell.execute_reply": "2023-05-24T07:03:26.282252Z"
    },
    "id": "Xi7D9Ve3v6ah",
    "outputId": "c7bfd37f-25c1-4214-a65f-8825532a37fb",
    "papermill": {
     "duration": 28.58127,
     "end_time": "2023-05-24T07:03:26.286205",
     "exception": false,
     "start_time": "2023-05-24T07:02:57.704935",
     "status": "completed"
    },
    "tags": []
   },
   "outputs": [
    {
     "name": "stdout",
     "output_type": "stream",
     "text": [
      "[INFO] Couldn't find going_modular scripts... downloading them from GitHub.\n",
      "Cloning into 'pytorch-deep-learning'...\r\n",
      "remote: Enumerating objects: 3812, done.\u001b[K\r\n",
      "remote: Counting objects: 100% (455/455), done.\u001b[K\r\n",
      "remote: Compressing objects: 100% (271/271), done.\u001b[K\r\n",
      "remote: Total 3812 (delta 238), reused 352 (delta 177), pack-reused 3357\u001b[K\r\n",
      "Receiving objects: 100% (3812/3812), 650.13 MiB | 36.55 MiB/s, done.\r\n",
      "Resolving deltas: 100% (2194/2194), done.\r\n",
      "Updating files: 100% (248/248), done.\r\n"
     ]
    }
   ],
   "source": [
    "# Continue with regular imports\n",
    "import matplotlib.pyplot as plt\n",
    "import torch\n",
    "import torchvision\n",
    "\n",
    "from torch import nn\n",
    "from torchvision import transforms\n",
    "\n",
    "# Try to get torchinfo, install it if it doesn't work\n",
    "try:\n",
    "    from torchinfo import summary\n",
    "except:\n",
    "    print(\"[INFO] Couldn't find torchinfo... installing it.\")\n",
    "    !pip install -q torchinfo\n",
    "    from torchinfo import summary\n",
    "\n",
    "# Try to import the going_modular directory, download it from GitHub if it doesn't work\n",
    "try:\n",
    "    from going_modular.going_modular import data_setup, engine\n",
    "except:\n",
    "    # Get the going_modular scripts\n",
    "    print(\"[INFO] Couldn't find going_modular scripts... downloading them from GitHub.\")\n",
    "    !git clone https://github.com/mrdbourke/pytorch-deep-learning\n",
    "    !mv pytorch-deep-learning/going_modular .\n",
    "    !rm -rf pytorch-deep-learning\n",
    "    from going_modular.going_modular import data_setup, engine"
   ]
  },
  {
   "cell_type": "code",
   "execution_count": 3,
   "id": "c98d2e0c",
   "metadata": {
    "execution": {
     "iopub.execute_input": "2023-05-24T07:03:26.441535Z",
     "iopub.status.busy": "2023-05-24T07:03:26.441167Z",
     "iopub.status.idle": "2023-05-24T07:03:26.549028Z",
     "shell.execute_reply": "2023-05-24T07:03:26.547996Z"
    },
    "id": "cWWKTUuVxiRk",
    "papermill": {
     "duration": 0.187955,
     "end_time": "2023-05-24T07:03:26.550990",
     "exception": false,
     "start_time": "2023-05-24T07:03:26.363035",
     "status": "completed"
    },
    "tags": []
   },
   "outputs": [],
   "source": [
    "# Device Agnostic Code \n",
    "\n",
    "device = \"cuda\" if torch.cuda.is_available() else \"cpu\""
   ]
  },
  {
   "cell_type": "code",
   "execution_count": 4,
   "id": "0f10a99e",
   "metadata": {
    "execution": {
     "iopub.execute_input": "2023-05-24T07:03:26.706103Z",
     "iopub.status.busy": "2023-05-24T07:03:26.705324Z",
     "iopub.status.idle": "2023-05-24T07:03:26.713650Z",
     "shell.execute_reply": "2023-05-24T07:03:26.712609Z"
    },
    "id": "8GA_DVz0QK7H",
    "papermill": {
     "duration": 0.090047,
     "end_time": "2023-05-24T07:03:26.715995",
     "exception": false,
     "start_time": "2023-05-24T07:03:26.625948",
     "status": "completed"
    },
    "tags": []
   },
   "outputs": [],
   "source": [
    "import os \n",
    "import zipfile \n",
    "from pathlib import Path\n",
    "import requests \n",
    "import os\n",
    "def walk_through_dir(dir_path):\n",
    "  \"\"\"\n",
    "  Walks through dir_path returning its contents.\n",
    "  Args:\n",
    "    dir_path (str or pathlib.Path): target directory\n",
    "  \n",
    "  Returns:\n",
    "    A print out of:\n",
    "      number of subdiretories in dir_path\n",
    "      number of images (files) in each subdirectory\n",
    "      name of each subdirectory\n",
    "  \"\"\"\n",
    "  for dirpath, dirnames, filenames in os.walk(dir_path):\n",
    "    print(f\"There are {len(dirnames)} directories and {len(filenames)} images in '{dirpath}'.\")"
   ]
  },
  {
   "cell_type": "markdown",
   "id": "b52f4468",
   "metadata": {
    "id": "zwxidou5yG5F",
    "papermill": {
     "duration": 0.08036,
     "end_time": "2023-05-24T07:03:26.880479",
     "exception": false,
     "start_time": "2023-05-24T07:03:26.800119",
     "status": "completed"
    },
    "tags": []
   },
   "source": [
    "# 1. Getting Data "
   ]
  },
  {
   "cell_type": "markdown",
   "id": "c3e01d61",
   "metadata": {
    "id": "fcZRItsEMlh7",
    "papermill": {
     "duration": 0.077213,
     "end_time": "2023-05-24T07:03:27.039035",
     "exception": false,
     "start_time": "2023-05-24T07:03:26.961822",
     "status": "completed"
    },
    "tags": []
   },
   "source": [
    "## Getting larger dataset from Drive"
   ]
  },
  {
   "cell_type": "code",
   "execution_count": 5,
   "id": "6197381e",
   "metadata": {
    "execution": {
     "iopub.execute_input": "2023-05-24T07:03:27.191466Z",
     "iopub.status.busy": "2023-05-24T07:03:27.191103Z",
     "iopub.status.idle": "2023-05-24T07:03:28.052557Z",
     "shell.execute_reply": "2023-05-24T07:03:28.051402Z"
    },
    "id": "TYUwn8trMqDV",
    "outputId": "ac5bf3ca-1b14-4691-98c9-b66c097b344b",
    "papermill": {
     "duration": 0.940353,
     "end_time": "2023-05-24T07:03:28.054780",
     "exception": false,
     "start_time": "2023-05-24T07:03:27.114427",
     "status": "completed"
    },
    "tags": []
   },
   "outputs": [
    {
     "name": "stdout",
     "output_type": "stream",
     "text": [
      "/kaggle/input/pizza-steak-sushi/data/pizza_steak_sushi directory exists.\n",
      "There are 2 directories and 0 images in '/kaggle/input/pizza-steak-sushi/data/pizza_steak_sushi'.\n",
      "There are 3 directories and 0 images in '/kaggle/input/pizza-steak-sushi/data/pizza_steak_sushi/test'.\n",
      "There are 0 directories and 250 images in '/kaggle/input/pizza-steak-sushi/data/pizza_steak_sushi/test/steak'.\n",
      "There are 0 directories and 250 images in '/kaggle/input/pizza-steak-sushi/data/pizza_steak_sushi/test/sushi'.\n",
      "There are 0 directories and 250 images in '/kaggle/input/pizza-steak-sushi/data/pizza_steak_sushi/test/pizza'.\n",
      "There are 3 directories and 0 images in '/kaggle/input/pizza-steak-sushi/data/pizza_steak_sushi/train'.\n",
      "There are 0 directories and 750 images in '/kaggle/input/pizza-steak-sushi/data/pizza_steak_sushi/train/steak'.\n",
      "There are 0 directories and 750 images in '/kaggle/input/pizza-steak-sushi/data/pizza_steak_sushi/train/sushi'.\n",
      "There are 0 directories and 750 images in '/kaggle/input/pizza-steak-sushi/data/pizza_steak_sushi/train/pizza'.\n"
     ]
    }
   ],
   "source": [
    "import os \n",
    "import zipfile \n",
    "from pathlib import Path\n",
    "import requests \n",
    "\n",
    "# Setup path to data folder \n",
    "\n",
    "data_path = Path(\"/kaggle/input/pizza-steak-sushi/data/\") # The trailing forward slash (/) in the string \n",
    "                          # is used to indicate that it represents a \n",
    "                          # directory rather than a specific file. \n",
    "                          # It's a common convention to include the trailing slash \n",
    "                          # in directory paths to differentiate them from file paths.\n",
    "\n",
    "image_path = data_path / \"pizza_steak_sushi\"\n",
    "\n",
    "if image_path.is_dir():\n",
    "    print(f\"{image_path} directory exists.\")\n",
    "walk_through_dir(image_path)"
   ]
  },
  {
   "cell_type": "markdown",
   "id": "048a592b",
   "metadata": {
    "id": "YbFUlonC1ObP",
    "papermill": {
     "duration": 0.075114,
     "end_time": "2023-05-24T07:03:28.207405",
     "exception": false,
     "start_time": "2023-05-24T07:03:28.132291",
     "status": "completed"
    },
    "tags": []
   },
   "source": [
    "# 2. Creating Datasets and DataLoaders"
   ]
  },
  {
   "cell_type": "code",
   "execution_count": 6,
   "id": "5ad599e1",
   "metadata": {
    "execution": {
     "iopub.execute_input": "2023-05-24T07:03:28.361263Z",
     "iopub.status.busy": "2023-05-24T07:03:28.360303Z",
     "iopub.status.idle": "2023-05-24T07:03:28.366605Z",
     "shell.execute_reply": "2023-05-24T07:03:28.365356Z"
    },
    "id": "CYaIdpB-MtmJ",
    "papermill": {
     "duration": 0.085562,
     "end_time": "2023-05-24T07:03:28.368568",
     "exception": false,
     "start_time": "2023-05-24T07:03:28.283006",
     "status": "completed"
    },
    "tags": []
   },
   "outputs": [
    {
     "name": "stdout",
     "output_type": "stream",
     "text": [
      "/kaggle/input/pizza-steak-sushi/data/pizza_steak_sushi/train\n",
      "/kaggle/input/pizza-steak-sushi/data/pizza_steak_sushi/test\n"
     ]
    }
   ],
   "source": [
    "\n",
    "train_dir = image_path / \"train\"\n",
    "test_dir = image_path / \"test\"\n",
    "\n",
    "\n",
    "print(train_dir)\n",
    "print(test_dir)"
   ]
  },
  {
   "cell_type": "markdown",
   "id": "a5e1f497",
   "metadata": {
    "id": "9bgk6JbxAUZ8",
    "papermill": {
     "duration": 0.075148,
     "end_time": "2023-05-24T07:03:28.519926",
     "exception": false,
     "start_time": "2023-05-24T07:03:28.444778",
     "status": "completed"
    },
    "tags": []
   },
   "source": [
    " ## 2.2 Creating a transform for torchvision.models (auto creation)"
   ]
  },
  {
   "cell_type": "code",
   "execution_count": 7,
   "id": "ea1d61a8",
   "metadata": {
    "execution": {
     "iopub.execute_input": "2023-05-24T07:03:28.671354Z",
     "iopub.status.busy": "2023-05-24T07:03:28.671013Z",
     "iopub.status.idle": "2023-05-24T07:03:28.678250Z",
     "shell.execute_reply": "2023-05-24T07:03:28.677403Z"
    },
    "id": "799_VeAUAtFj",
    "outputId": "e14b8302-4d10-4250-88de-f9b03d2d2425",
    "papermill": {
     "duration": 0.085369,
     "end_time": "2023-05-24T07:03:28.680397",
     "exception": false,
     "start_time": "2023-05-24T07:03:28.595028",
     "status": "completed"
    },
    "tags": []
   },
   "outputs": [
    {
     "data": {
      "text/plain": [
       "EfficientNet_B0_Weights.IMAGENET1K_V1"
      ]
     },
     "execution_count": 7,
     "metadata": {},
     "output_type": "execute_result"
    }
   ],
   "source": [
    "# Get a set of pretrained model weights\n",
    "weights = torchvision.models.EfficientNet_B0_Weights.DEFAULT # .DEFAULT = best available weights from pretraining on ImageNet\n",
    "weights"
   ]
  },
  {
   "cell_type": "code",
   "execution_count": 8,
   "id": "b5a5e34f",
   "metadata": {
    "execution": {
     "iopub.execute_input": "2023-05-24T07:03:28.833519Z",
     "iopub.status.busy": "2023-05-24T07:03:28.833156Z",
     "iopub.status.idle": "2023-05-24T07:03:28.839635Z",
     "shell.execute_reply": "2023-05-24T07:03:28.838776Z"
    },
    "id": "8DE2lewAA16k",
    "outputId": "741eef38-d341-410d-a26e-7ab1a3806e20",
    "papermill": {
     "duration": 0.084796,
     "end_time": "2023-05-24T07:03:28.841551",
     "exception": false,
     "start_time": "2023-05-24T07:03:28.756755",
     "status": "completed"
    },
    "tags": []
   },
   "outputs": [
    {
     "data": {
      "text/plain": [
       "ImageClassification(\n",
       "    crop_size=[224]\n",
       "    resize_size=[256]\n",
       "    mean=[0.485, 0.456, 0.406]\n",
       "    std=[0.229, 0.224, 0.225]\n",
       "    interpolation=InterpolationMode.BICUBIC\n",
       ")"
      ]
     },
     "execution_count": 8,
     "metadata": {},
     "output_type": "execute_result"
    }
   ],
   "source": [
    "# Get the transforms used to create our pretrained weights\n",
    "auto_transforms = weights.transforms()\n",
    "auto_transforms"
   ]
  },
  {
   "cell_type": "code",
   "execution_count": 9,
   "id": "835c0410",
   "metadata": {
    "execution": {
     "iopub.execute_input": "2023-05-24T07:03:28.995731Z",
     "iopub.status.busy": "2023-05-24T07:03:28.994824Z",
     "iopub.status.idle": "2023-05-24T07:03:29.019776Z",
     "shell.execute_reply": "2023-05-24T07:03:29.018853Z"
    },
    "id": "RrGR9z4sBCiE",
    "outputId": "73f8e81c-93c9-4381-d2b2-5b4084c439f6",
    "papermill": {
     "duration": 0.104628,
     "end_time": "2023-05-24T07:03:29.021789",
     "exception": false,
     "start_time": "2023-05-24T07:03:28.917161",
     "status": "completed"
    },
    "tags": []
   },
   "outputs": [
    {
     "data": {
      "text/plain": [
       "(<torch.utils.data.dataloader.DataLoader at 0x7fbacbf5e7a0>,\n",
       " <torch.utils.data.dataloader.DataLoader at 0x7fbacbf5d0c0>,\n",
       " ['pizza', 'steak', 'sushi'])"
      ]
     },
     "execution_count": 9,
     "metadata": {},
     "output_type": "execute_result"
    }
   ],
   "source": [
    "# Create training and testing DataLoaders as well as get a list of class names\n",
    "train_dataloader, test_dataloader, class_names = data_setup.create_dataloaders(train_dir=train_dir,\n",
    "                                                                               test_dir=test_dir,\n",
    "                                                                               transform=auto_transforms, # perform same data transforms on our own data as the pretrained model\n",
    "                                                                               batch_size=32) # set mini-batch size to 32\n",
    "\n",
    "train_dataloader, test_dataloader, class_names"
   ]
  },
  {
   "cell_type": "code",
   "execution_count": 10,
   "id": "cbf8e7c6",
   "metadata": {
    "execution": {
     "iopub.execute_input": "2023-05-24T07:03:29.178443Z",
     "iopub.status.busy": "2023-05-24T07:03:29.178076Z",
     "iopub.status.idle": "2023-05-24T07:03:29.183147Z",
     "shell.execute_reply": "2023-05-24T07:03:29.182264Z"
    },
    "id": "iZNl5nt6HfbR",
    "outputId": "aba6eaa8-9cf1-4f08-9611-9f6bc3d191bf",
    "papermill": {
     "duration": 0.084565,
     "end_time": "2023-05-24T07:03:29.185382",
     "exception": false,
     "start_time": "2023-05-24T07:03:29.100817",
     "status": "completed"
    },
    "tags": []
   },
   "outputs": [
    {
     "name": "stdout",
     "output_type": "stream",
     "text": [
      "2250\n",
      "750\n"
     ]
    }
   ],
   "source": [
    "print(len(train_dataloader.dataset))\n",
    "print(len(test_dataloader.dataset))"
   ]
  },
  {
   "cell_type": "markdown",
   "id": "013d6913",
   "metadata": {
    "id": "17vgJx2LBt-C",
    "papermill": {
     "duration": 0.076212,
     "end_time": "2023-05-24T07:03:29.337368",
     "exception": false,
     "start_time": "2023-05-24T07:03:29.261156",
     "status": "completed"
    },
    "tags": []
   },
   "source": [
    "# 3. Getting Pretrained Model"
   ]
  },
  {
   "cell_type": "code",
   "execution_count": 11,
   "id": "277bfe59",
   "metadata": {
    "execution": {
     "iopub.execute_input": "2023-05-24T07:03:29.491936Z",
     "iopub.status.busy": "2023-05-24T07:03:29.490980Z",
     "iopub.status.idle": "2023-05-24T07:03:31.670788Z",
     "shell.execute_reply": "2023-05-24T07:03:31.669875Z"
    },
    "id": "vWB5mr6kNwKC",
    "papermill": {
     "duration": 2.25915,
     "end_time": "2023-05-24T07:03:31.673918",
     "exception": false,
     "start_time": "2023-05-24T07:03:29.414768",
     "status": "completed"
    },
    "tags": []
   },
   "outputs": [
    {
     "name": "stderr",
     "output_type": "stream",
     "text": [
      "Downloading: \"https://download.pytorch.org/models/efficientnet_b0_rwightman-3dd342df.pth\" to /root/.cache/torch/hub/checkpoints/efficientnet_b0_rwightman-3dd342df.pth\n",
      "100%|██████████| 20.5M/20.5M [00:00<00:00, 88.7MB/s]\n"
     ]
    }
   ],
   "source": [
    "weights = torchvision.models.EfficientNet_B0_Weights.DEFAULT # .DEFAULT = best available weights \n",
    "model = torchvision.models.efficientnet_b0(weights=weights).to(device)\n"
   ]
  },
  {
   "cell_type": "markdown",
   "id": "6ff80cb4",
   "metadata": {
    "id": "S_qEJRokWoMF",
    "papermill": {
     "duration": 0.10969,
     "end_time": "2023-05-24T07:03:31.903364",
     "exception": false,
     "start_time": "2023-05-24T07:03:31.793674",
     "status": "completed"
    },
    "tags": []
   },
   "source": [
    "## Getting model summary"
   ]
  },
  {
   "cell_type": "code",
   "execution_count": 12,
   "id": "3bbcd933",
   "metadata": {
    "execution": {
     "iopub.execute_input": "2023-05-24T07:03:32.118084Z",
     "iopub.status.busy": "2023-05-24T07:03:32.117622Z",
     "iopub.status.idle": "2023-05-24T07:03:32.126553Z",
     "shell.execute_reply": "2023-05-24T07:03:32.125661Z"
    },
    "id": "mPy29tdueU0R",
    "papermill": {
     "duration": 0.120574,
     "end_time": "2023-05-24T07:03:32.129204",
     "exception": false,
     "start_time": "2023-05-24T07:03:32.008630",
     "status": "completed"
    },
    "tags": []
   },
   "outputs": [],
   "source": [
    "# # Freeze all base layers in the \"features\" section of the model \n",
    "# (the feature extractor) by setting requires_grad=False\n",
    "\n",
    "for param in model.features.parameters():\n",
    "    param.requires_grad = False\n"
   ]
  },
  {
   "cell_type": "code",
   "execution_count": 13,
   "id": "9e4f3d47",
   "metadata": {
    "execution": {
     "iopub.execute_input": "2023-05-24T07:03:32.354119Z",
     "iopub.status.busy": "2023-05-24T07:03:32.353694Z",
     "iopub.status.idle": "2023-05-24T07:03:32.361743Z",
     "shell.execute_reply": "2023-05-24T07:03:32.360856Z"
    },
    "id": "cKnwH-5wjdKw",
    "papermill": {
     "duration": 0.12098,
     "end_time": "2023-05-24T07:03:32.364322",
     "exception": false,
     "start_time": "2023-05-24T07:03:32.243342",
     "status": "completed"
    },
    "tags": []
   },
   "outputs": [],
   "source": [
    "# Setting manual seeds \n",
    "torch.manual_seed(42)\n",
    "torch.cuda.manual_seed(42)\n",
    "\n",
    "# Get the length of class_names (one output unit for each class)\n",
    "output_shape = len(class_names)\n",
    "\n",
    "# Recreate the classifier layer and send it to the target device\n",
    "\n",
    "model.classifier = torch.nn.Sequential(\n",
    "    torch.nn.Dropout(p=0.2, inplace=True),\n",
    "    torch.nn.Linear(in_features=1280,\n",
    "                    out_features=output_shape,\n",
    "                    bias=True)\n",
    ").to(device)\n",
    "\n"
   ]
  },
  {
   "cell_type": "markdown",
   "id": "f706fa5b",
   "metadata": {
    "id": "qt6uqR6jqpAw",
    "papermill": {
     "duration": 0.106879,
     "end_time": "2023-05-24T07:03:32.578977",
     "exception": false,
     "start_time": "2023-05-24T07:03:32.472098",
     "status": "completed"
    },
    "tags": []
   },
   "source": [
    "# 4. Training Model"
   ]
  },
  {
   "cell_type": "code",
   "execution_count": 14,
   "id": "10f9d0ad",
   "metadata": {
    "execution": {
     "iopub.execute_input": "2023-05-24T07:03:32.801599Z",
     "iopub.status.busy": "2023-05-24T07:03:32.801191Z",
     "iopub.status.idle": "2023-05-24T07:03:32.806556Z",
     "shell.execute_reply": "2023-05-24T07:03:32.805772Z"
    },
    "id": "cgG1T50Alw_d",
    "outputId": "147e1da9-d55a-465c-9d93-35fa94016b6a",
    "papermill": {
     "duration": 0.124702,
     "end_time": "2023-05-24T07:03:32.812154",
     "exception": false,
     "start_time": "2023-05-24T07:03:32.687452",
     "status": "completed"
    },
    "tags": []
   },
   "outputs": [
    {
     "name": "stdout",
     "output_type": "stream",
     "text": [
      "71\n",
      "24\n"
     ]
    }
   ],
   "source": [
    "print(len(train_dataloader))\n",
    "print(len(test_dataloader))"
   ]
  },
  {
   "cell_type": "code",
   "execution_count": 15,
   "id": "8f79ade7",
   "metadata": {
    "execution": {
     "iopub.execute_input": "2023-05-24T07:03:33.095006Z",
     "iopub.status.busy": "2023-05-24T07:03:33.094555Z",
     "iopub.status.idle": "2023-05-24T07:03:33.103991Z",
     "shell.execute_reply": "2023-05-24T07:03:33.103123Z"
    },
    "papermill": {
     "duration": 0.160326,
     "end_time": "2023-05-24T07:03:33.107424",
     "exception": false,
     "start_time": "2023-05-24T07:03:32.947098",
     "status": "completed"
    },
    "tags": []
   },
   "outputs": [],
   "source": [
    "# Define loss and optimizer\n",
    "loss_fn = nn.CrossEntropyLoss()\n",
    "optimizer = torch.optim.Adam(model.parameters(), lr=0.001)"
   ]
  },
  {
   "cell_type": "code",
   "execution_count": 16,
   "id": "b8d566c1",
   "metadata": {
    "execution": {
     "iopub.execute_input": "2023-05-24T07:03:33.280203Z",
     "iopub.status.busy": "2023-05-24T07:03:33.279850Z",
     "iopub.status.idle": "2023-05-24T07:10:08.635448Z",
     "shell.execute_reply": "2023-05-24T07:10:08.634339Z"
    },
    "papermill": {
     "duration": 395.51335,
     "end_time": "2023-05-24T07:10:08.714711",
     "exception": false,
     "start_time": "2023-05-24T07:03:33.201361",
     "status": "completed"
    },
    "tags": []
   },
   "outputs": [
    {
     "data": {
      "application/vnd.jupyter.widget-view+json": {
       "model_id": "cea67ec6a69e485cbc877753d78dbdb5",
       "version_major": 2,
       "version_minor": 0
      },
      "text/plain": [
       "  0%|          | 0/20 [00:00<?, ?it/s]"
      ]
     },
     "metadata": {},
     "output_type": "display_data"
    },
    {
     "name": "stdout",
     "output_type": "stream",
     "text": [
      "Epoch: 1 | train_loss: 0.6569 | train_acc: 0.7697 | test_loss: 0.3338 | test_acc: 0.9137\n",
      "Epoch: 2 | train_loss: 0.4053 | train_acc: 0.8727 | test_loss: 0.2577 | test_acc: 0.9319\n",
      "Epoch: 3 | train_loss: 0.3322 | train_acc: 0.8907 | test_loss: 0.2159 | test_acc: 0.9323\n",
      "Epoch: 4 | train_loss: 0.2902 | train_acc: 0.9070 | test_loss: 0.1940 | test_acc: 0.9410\n",
      "Epoch: 5 | train_loss: 0.2915 | train_acc: 0.8971 | test_loss: 0.1872 | test_acc: 0.9440\n",
      "Epoch: 6 | train_loss: 0.2629 | train_acc: 0.9053 | test_loss: 0.1817 | test_acc: 0.9492\n",
      "Epoch: 7 | train_loss: 0.2579 | train_acc: 0.9111 | test_loss: 0.1744 | test_acc: 0.9449\n",
      "Epoch: 8 | train_loss: 0.2417 | train_acc: 0.9105 | test_loss: 0.1714 | test_acc: 0.9492\n",
      "Epoch: 9 | train_loss: 0.2408 | train_acc: 0.9150 | test_loss: 0.1639 | test_acc: 0.9505\n",
      "Epoch: 10 | train_loss: 0.2132 | train_acc: 0.9285 | test_loss: 0.1608 | test_acc: 0.9518\n",
      "Epoch: 11 | train_loss: 0.2232 | train_acc: 0.9246 | test_loss: 0.1601 | test_acc: 0.9518\n",
      "Epoch: 12 | train_loss: 0.2053 | train_acc: 0.9349 | test_loss: 0.1501 | test_acc: 0.9531\n",
      "Epoch: 13 | train_loss: 0.2202 | train_acc: 0.9234 | test_loss: 0.1506 | test_acc: 0.9544\n",
      "Epoch: 14 | train_loss: 0.2048 | train_acc: 0.9210 | test_loss: 0.1633 | test_acc: 0.9440\n",
      "Epoch: 15 | train_loss: 0.1887 | train_acc: 0.9320 | test_loss: 0.1507 | test_acc: 0.9492\n",
      "Epoch: 16 | train_loss: 0.2008 | train_acc: 0.9305 | test_loss: 0.1450 | test_acc: 0.9583\n",
      "Epoch: 17 | train_loss: 0.1846 | train_acc: 0.9315 | test_loss: 0.1573 | test_acc: 0.9479\n",
      "Epoch: 18 | train_loss: 0.2092 | train_acc: 0.9196 | test_loss: 0.1442 | test_acc: 0.9531\n",
      "Epoch: 19 | train_loss: 0.1837 | train_acc: 0.9362 | test_loss: 0.1449 | test_acc: 0.9518\n",
      "Epoch: 20 | train_loss: 0.1824 | train_acc: 0.9343 | test_loss: 0.1430 | test_acc: 0.9544\n",
      "[INFO] Total training time: 395.345 seconds\n"
     ]
    }
   ],
   "source": [
    "# Set the random seeds\n",
    "EPOCHS = 20\n",
    "torch.manual_seed(42)\n",
    "torch.cuda.manual_seed(42)\n",
    "\n",
    "# Start the timer\n",
    "from timeit import default_timer as timer \n",
    "start_time = timer()\n",
    "\n",
    "# Setup training and save the results\n",
    "results = engine.train(model=model,\n",
    "                       train_dataloader=train_dataloader,\n",
    "                       test_dataloader=test_dataloader,\n",
    "                       optimizer=optimizer,\n",
    "                       loss_fn=loss_fn,\n",
    "                       epochs=EPOCHS,\n",
    "                       device=device)\n",
    "\n",
    "# End the timer and print out how long it took\n",
    "end_time = timer()\n",
    "print(f\"[INFO] Total training time: {end_time-start_time:.3f} seconds\")"
   ]
  },
  {
   "cell_type": "markdown",
   "id": "77ca761f",
   "metadata": {
    "id": "uiavg6f7r8mC",
    "papermill": {
     "duration": 0.158358,
     "end_time": "2023-05-24T07:10:08.952151",
     "exception": false,
     "start_time": "2023-05-24T07:10:08.793793",
     "status": "completed"
    },
    "tags": []
   },
   "source": [
    "# 5. Model Evaluation using loss curves "
   ]
  },
  {
   "cell_type": "code",
   "execution_count": 17,
   "id": "7f978411",
   "metadata": {
    "execution": {
     "iopub.execute_input": "2023-05-24T07:10:09.172631Z",
     "iopub.status.busy": "2023-05-24T07:10:09.172255Z",
     "iopub.status.idle": "2023-05-24T07:10:09.932082Z",
     "shell.execute_reply": "2023-05-24T07:10:09.929776Z"
    },
    "id": "6GahrSlQsIBu",
    "outputId": "626deca4-f51c-49a2-f3bc-11c4526a331a",
    "papermill": {
     "duration": 0.851022,
     "end_time": "2023-05-24T07:10:09.934300",
     "exception": false,
     "start_time": "2023-05-24T07:10:09.083278",
     "status": "completed"
    },
    "tags": []
   },
   "outputs": [
    {
     "name": "stdout",
     "output_type": "stream",
     "text": [
      "[INFO] Couldn't find helper_functions.py, downloading...\n"
     ]
    },
    {
     "data": {
      "image/png": "[encoded data removed]",
      "text/plain": [
       "<Figure size 1500x700 with 2 Axes>"
      ]
     },
     "metadata": {},
     "output_type": "display_data"
    }
   ],
   "source": [
    "# Get the plot_loss_curves() function from helper_functions.py, download the file if we don't have it\n",
    "try:\n",
    "    from helper_functions import plot_loss_curves\n",
    "except:\n",
    "    print(\"[INFO] Couldn't find helper_functions.py, downloading...\")\n",
    "    with open(\"helper_functions.py\", \"wb\") as f:\n",
    "        import requests\n",
    "        request = requests.get(\"https://raw.githubusercontent.com/mrdbourke/pytorch-deep-learning/main/helper_functions.py\")\n",
    "        f.write(request.content)\n",
    "    from helper_functions import plot_loss_curves\n",
    "\n",
    "# Plot the loss curves of our model\n",
    "plot_loss_curves(results)"
   ]
  },
  {
   "cell_type": "markdown",
   "id": "a517261b",
   "metadata": {
    "id": "ZWN5C_d_3aIW",
    "papermill": {
     "duration": 0.07937,
     "end_time": "2023-05-24T07:10:10.094495",
     "exception": false,
     "start_time": "2023-05-24T07:10:10.015125",
     "status": "completed"
    },
    "tags": []
   },
   "source": [
    "# 6. Making predictions in test set"
   ]
  },
  {
   "cell_type": "markdown",
   "id": "ee2f97ef",
   "metadata": {
    "id": "cZ9E5GI34D3G",
    "papermill": {
     "duration": 0.082441,
     "end_time": "2023-05-24T07:10:10.257470",
     "exception": false,
     "start_time": "2023-05-24T07:10:10.175029",
     "status": "completed"
    },
    "tags": []
   },
   "source": [
    "Function to predict and plot"
   ]
  },
  {
   "cell_type": "code",
   "execution_count": 18,
   "id": "bfb72723",
   "metadata": {
    "execution": {
     "iopub.execute_input": "2023-05-24T07:10:10.418768Z",
     "iopub.status.busy": "2023-05-24T07:10:10.417840Z",
     "iopub.status.idle": "2023-05-24T07:10:10.428293Z",
     "shell.execute_reply": "2023-05-24T07:10:10.427358Z"
    },
    "id": "6hlFhvZ74J3C",
    "papermill": {
     "duration": 0.092941,
     "end_time": "2023-05-24T07:10:10.430256",
     "exception": false,
     "start_time": "2023-05-24T07:10:10.337315",
     "status": "completed"
    },
    "tags": []
   },
   "outputs": [],
   "source": [
    "from typing import List, Tuple\n",
    "\n",
    "from PIL import Image\n",
    "\n",
    "# 1. Take in a trained model, class names, image path, image size, a transform and target device\n",
    "def pred_and_plot_image(model: torch.nn.Module,\n",
    "                        image_path: str, \n",
    "                        class_names: List[str],\n",
    "                        image_size: Tuple[int, int] = (224, 224),\n",
    "                        transform: torchvision.transforms = None,\n",
    "                        device: torch.device=device):\n",
    "    \n",
    "    \n",
    "    # 2. Open image\n",
    "    img = Image.open(image_path)\n",
    "\n",
    "    # 3. Create transformation for image (if one doesn't exist)\n",
    "    if transform is not None:\n",
    "        image_transform = transform\n",
    "    else:\n",
    "        image_transform = transforms.Compose([\n",
    "            transforms.Resize(image_size),\n",
    "            transforms.ToTensor(),\n",
    "            transforms.Normalize(mean=[0.485, 0.456, 0.406],\n",
    "                                 std=[0.229, 0.224, 0.225]),\n",
    "        ])\n",
    "\n",
    "    ### Predict on image ### \n",
    "\n",
    "    # 4. Make sure the model is on the target device\n",
    "    model.to(device)\n",
    "\n",
    "    # 5. Turn on model evaluation mode and inference mode\n",
    "    model.eval()\n",
    "    with torch.inference_mode():\n",
    "      # 6. Transform and add an extra dimension to image (model requires samples in [batch_size, color_channels, height, width])\n",
    "      transformed_image = image_transform(img).unsqueeze(dim=0)\n",
    "\n",
    "      # 7. Make a prediction on image with an extra dimension and send it to the target device\n",
    "      target_image_pred = model(transformed_image.to(device))\n",
    "\n",
    "    # 8. Convert logits -> prediction probabilities (using torch.softmax() for multi-class classification)\n",
    "    target_image_pred_probs = torch.softmax(target_image_pred, dim=1)\n",
    "\n",
    "    # 9. Convert prediction probabilities -> prediction labels\n",
    "    target_image_pred_label = torch.argmax(target_image_pred_probs, dim=1)\n",
    "\n",
    "    # 10. Plot image with predicted label and probability \n",
    "    plt.figure()\n",
    "    plt.imshow(img)\n",
    "    plt.title(f\"Pred: {class_names[target_image_pred_label]} | Prob: {target_image_pred_probs.max():.3f}\")\n",
    "    plt.axis(False);"
   ]
  },
  {
   "cell_type": "markdown",
   "id": "338a7c41",
   "metadata": {
    "id": "WtU_7eok4iym",
    "papermill": {
     "duration": 0.079274,
     "end_time": "2023-05-24T07:10:10.588995",
     "exception": false,
     "start_time": "2023-05-24T07:10:10.509721",
     "status": "completed"
    },
    "tags": []
   },
   "source": [
    "Testing on some random images "
   ]
  },
  {
   "cell_type": "markdown",
   "id": "2ed72d3f",
   "metadata": {
    "id": "2W7P5cXFZz9f",
    "papermill": {
     "duration": 0.081304,
     "end_time": "2023-05-24T07:10:10.749892",
     "exception": false,
     "start_time": "2023-05-24T07:10:10.668588",
     "status": "completed"
    },
    "tags": []
   },
   "source": [
    "# Exercises"
   ]
  },
  {
   "cell_type": "markdown",
   "id": "f1097a89",
   "metadata": {
    "id": "m1C03tnFaNKN",
    "papermill": {
     "duration": 0.087087,
     "end_time": "2023-05-24T07:10:10.925175",
     "exception": false,
     "start_time": "2023-05-24T07:10:10.838088",
     "status": "completed"
    },
    "tags": []
   },
   "source": [
    "## Confusion Matrix\n",
    "Make predictions on the entire test dataset and plot a confusion matrix for the results of our model compared to the truth labels."
   ]
  },
  {
   "cell_type": "code",
   "execution_count": 19,
   "id": "c8e51fbe",
   "metadata": {
    "execution": {
     "iopub.execute_input": "2023-05-24T07:10:11.111929Z",
     "iopub.status.busy": "2023-05-24T07:10:11.110792Z",
     "iopub.status.idle": "2023-05-24T07:10:33.015196Z",
     "shell.execute_reply": "2023-05-24T07:10:33.014202Z"
    },
    "id": "yGuSqh8IaT0A",
    "outputId": "54609324-5f2a-4290-dcc1-1991b35479ad",
    "papermill": {
     "duration": 22.006439,
     "end_time": "2023-05-24T07:10:33.017234",
     "exception": false,
     "start_time": "2023-05-24T07:10:11.010795",
     "status": "completed"
    },
    "tags": []
   },
   "outputs": [
    {
     "data": {
      "application/vnd.jupyter.widget-view+json": {
       "model_id": "122cc169554749bc8768dc388a87fb81",
       "version_major": 2,
       "version_minor": 0
      },
      "text/plain": [
       "Making predictions:   0%|          | 0/24 [00:00<?, ?it/s]"
      ]
     },
     "metadata": {},
     "output_type": "display_data"
    },
    {
     "name": "stderr",
     "output_type": "stream",
     "text": [
      "/opt/conda/lib/python3.10/site-packages/scipy/__init__.py:146: UserWarning: A NumPy version >=1.16.5 and <1.23.0 is required for this version of SciPy (detected version 1.23.5\n",
      "  warnings.warn(f\"A NumPy version >={np_minversion} and <{np_maxversion}\"\n"
     ]
    },
    {
     "data": {
      "image/png": "[encoded data removed]",
      "text/plain": [
       "<Figure size 640x480 with 2 Axes>"
      ]
     },
     "metadata": {},
     "output_type": "display_data"
    }
   ],
   "source": [
    "\n",
    "from tqdm.auto import tqdm\n",
    "\n",
    "# 1. Make predictions with trained model\n",
    "y_preds = []\n",
    "model.eval()\n",
    "with torch.inference_mode():\n",
    "  for X, y in tqdm(test_dataloader, desc=\"Making predictions\"):\n",
    "    # Send data and targets to target device\n",
    "    X, y = X.to(device), y.to(device)\n",
    "    # Do the forward pass\n",
    "    y_logit = model(X)\n",
    "    # Turn predictions from logits -> prediction probabilities -> predictions labels\n",
    "    y_pred = torch.softmax(y_logit, dim=1).argmax(dim=1)\n",
    "    # Put predictions on CPU for evaluation\n",
    "    y_preds.append(y_pred.cpu())\n",
    "# Concatenate list of predictions into a tensor\n",
    "y_pred_tensor = torch.cat(y_preds)\n",
    "\n",
    "test_truth = torch.cat([y for X, y in test_dataloader])\n",
    "\n",
    "from sklearn.metrics import ConfusionMatrixDisplay\n",
    "ConfusionMatrixDisplay.from_predictions(test_truth, y_pred_tensor, display_labels=class_names,xticks_rotation=\"vertical\")\n",
    "plt.show()\n"
   ]
  }
 ],
 "metadata": {
  "kernelspec": {
   "display_name": "Python 3",
   "language": "python",
   "name": "python3"
  },
  "language_info": {
   "codemirror_mode": {
    "name": "ipython",
    "version": 3
   },
   "file_extension": ".py",
   "mimetype": "text/x-python",
   "name": "python",
   "nbconvert_exporter": "python",
   "pygments_lexer": "ipython3",
   "version": "3.10.10"
  },
  "papermill": {
   "default_parameters": {},
   "duration": 618.974078,
   "end_time": "2023-05-24T07:10:36.021402",
   "environment_variables": {},
   "exception": null,
   "input_path": "__notebook__.ipynb",
   "output_path": "__notebook__.ipynb",
   "parameters": {},
   "start_time": "2023-05-24T07:00:17.047324",
   "version": "2.4.0"
  },
  "widgets": {
   "application/vnd.jupyter.widget-state+json": {
    "state": {
     "122cc169554749bc8768dc388a87fb81": {
      "model_module": "@jupyter-widgets/controls",
      "model_module_version": "1.5.0",
      "model_name": "HBoxModel",
      "state": {
       "_dom_classes": [],
       "_model_module": "@jupyter-widgets/controls",
       "_model_module_version": "1.5.0",
       "_model_name": "HBoxModel",
       "_view_count": null,
       "_view_module": "@jupyter-widgets/controls",
       "_view_module_version": "1.5.0",
       "_view_name": "HBoxView",
       "box_style": "",
       "children": [
        "IPY_MODEL_e6d2d42fa5164211be0f21d23def59e1",
        "IPY_MODEL_8d372eabece1471788fac1945ae773cb",
        "IPY_MODEL_83ed2f613bda437abbb002a3f459bdd6"
       ],
       "layout": "IPY_MODEL_84e9c139540f42908074539e821ac596"
      }
     },
     "1b85db9db339458f94e58ee65355954a": {
      "model_module": "@jupyter-widgets/controls",
      "model_module_version": "1.5.0",
      "model_name": "DescriptionStyleModel",
      "state": {
       "_model_module": "@jupyter-widgets/controls",
       "_model_module_version": "1.5.0",
       "_model_name": "DescriptionStyleModel",
       "_view_count": null,
       "_view_module": "@jupyter-widgets/base",
       "_view_module_version": "1.2.0",
       "_view_name": "StyleView",
       "description_width": ""
      }
     },
     "2215cf19fe34402d99cb0cc7a2090f4f": {
      "model_module": "@jupyter-widgets/controls",
      "model_module_version": "1.5.0",
      "model_name": "DescriptionStyleModel",
      "state": {
       "_model_module": "@jupyter-widgets/controls",
       "_model_module_version": "1.5.0",
       "_model_name": "DescriptionStyleModel",
       "_view_count": null,
       "_view_module": "@jupyter-widgets/base",
       "_view_module_version": "1.2.0",
       "_view_name": "StyleView",
       "description_width": ""
      }
     },
     "2d3d0fc1d28f4ece9bf7589619cd0e76": {
      "model_module": "@jupyter-widgets/controls",
      "model_module_version": "1.5.0",
      "model_name": "HTMLModel",
      "state": {
       "_dom_classes": [],
       "_model_module": "@jupyter-widgets/controls",
       "_model_module_version": "1.5.0",
       "_model_name": "HTMLModel",
       "_view_count": null,
       "_view_module": "@jupyter-widgets/controls",
       "_view_module_version": "1.5.0",
       "_view_name": "HTMLView",
       "description": "",
       "description_tooltip": null,
       "layout": "IPY_MODEL_410fde8e69a94e95917b646041f2b1ec",
       "placeholder": "​",
       "style": "IPY_MODEL_2215cf19fe34402d99cb0cc7a2090f4f",
       "value": " 20/20 [06:35&lt;00:00, 19.41s/it]"
      }
     },
     "410fde8e69a94e95917b646041f2b1ec": {
      "model_module": "@jupyter-widgets/base",
      "model_module_version": "1.2.0",
      "model_name": "LayoutModel",
      "state": {
       "_model_module": "@jupyter-widgets/base",
       "_model_module_version": "1.2.0",
       "_model_name": "LayoutModel",
       "_view_count": null,
       "_view_module": "@jupyter-widgets/base",
       "_view_module_version": "1.2.0",
       "_view_name": "LayoutView",
       "align_content": null,
       "align_items": null,
       "align_self": null,
       "border": null,
       "bottom": null,
       "display": null,
       "flex": null,
       "flex_flow": null,
       "grid_area": null,
       "grid_auto_columns": null,
       "grid_auto_flow": null,
       "grid_auto_rows": null,
       "grid_column": null,
       "grid_gap": null,
       "grid_row": null,
       "grid_template_areas": null,
       "grid_template_columns": null,
       "grid_template_rows": null,
       "height": null,
       "justify_content": null,
       "justify_items": null,
       "left": null,
       "margin": null,
       "max_height": null,
       "max_width": null,
       "min_height": null,
       "min_width": null,
       "object_fit": null,
       "object_position": null,
       "order": null,
       "overflow": null,
       "overflow_x": null,
       "overflow_y": null,
       "padding": null,
       "right": null,
       "top": null,
       "visibility": null,
       "width": null
      }
     },
     "542b7c56b60d414daf4eff1c028ada0f": {
      "model_module": "@jupyter-widgets/base",
      "model_module_version": "1.2.0",
      "model_name": "LayoutModel",
      "state": {
       "_model_module": "@jupyter-widgets/base",
       "_model_module_version": "1.2.0",
       "_model_name": "LayoutModel",
       "_view_count": null,
       "_view_module": "@jupyter-widgets/base",
       "_view_module_version": "1.2.0",
       "_view_name": "LayoutView",
       "align_content": null,
       "align_items": null,
       "align_self": null,
       "border": null,
       "bottom": null,
       "display": null,
       "flex": null,
       "flex_flow": null,
       "grid_area": null,
       "grid_auto_columns": null,
       "grid_auto_flow": null,
       "grid_auto_rows": null,
       "grid_column": null,
       "grid_gap": null,
       "grid_row": null,
       "grid_template_areas": null,
       "grid_template_columns": null,
       "grid_template_rows": null,
       "height": null,
       "justify_content": null,
       "justify_items": null,
       "left": null,
       "margin": null,
       "max_height": null,
       "max_width": null,
       "min_height": null,
       "min_width": null,
       "object_fit": null,
       "object_position": null,
       "order": null,
       "overflow": null,
       "overflow_x": null,
       "overflow_y": null,
       "padding": null,
       "right": null,
       "top": null,
       "visibility": null,
       "width": null
      }
     },
     "65cd2b8e496144f5a6d2fe087199c363": {
      "model_module": "@jupyter-widgets/controls",
      "model_module_version": "1.5.0",
      "model_name": "HTMLModel",
      "state": {
       "_dom_classes": [],
       "_model_module": "@jupyter-widgets/controls",
       "_model_module_version": "1.5.0",
       "_model_name": "HTMLModel",
       "_view_count": null,
       "_view_module": "@jupyter-widgets/controls",
       "_view_module_version": "1.5.0",
       "_view_name": "HTMLView",
       "description": "",
       "description_tooltip": null,
       "layout": "IPY_MODEL_fb0185e7ab8c4f5e924afa9e58948b94",
       "placeholder": "​",
       "style": "IPY_MODEL_857776c46a9641f885f3b5bea9b809b4",
       "value": "100%"
      }
     },
     "6bdef64a9fb849e1b276e45f510fcffc": {
      "model_module": "@jupyter-widgets/controls",
      "model_module_version": "1.5.0",
      "model_name": "FloatProgressModel",
      "state": {
       "_dom_classes": [],
       "_model_module": "@jupyter-widgets/controls",
       "_model_module_version": "1.5.0",
       "_model_name": "FloatProgressModel",
       "_view_count": null,
       "_view_module": "@jupyter-widgets/controls",
       "_view_module_version": "1.5.0",
       "_view_name": "ProgressView",
       "bar_style": "success",
       "description": "",
       "description_tooltip": null,
       "layout": "IPY_MODEL_81626020e22b4624bd66a8ab449d0f52",
       "max": 20.0,
       "min": 0.0,
       "orientation": "horizontal",
       "style": "IPY_MODEL_9bcb7b0fd898436b9855aff4cad82c98",
       "value": 20.0
      }
     },
     "81626020e22b4624bd66a8ab449d0f52": {
      "model_module": "@jupyter-widgets/base",
      "model_module_version": "1.2.0",
      "model_name": "LayoutModel",
      "state": {
       "_model_module": "@jupyter-widgets/base",
       "_model_module_version": "1.2.0",
       "_model_name": "LayoutModel",
       "_view_count": null,
       "_view_module": "@jupyter-widgets/base",
       "_view_module_version": "1.2.0",
       "_view_name": "LayoutView",
       "align_content": null,
       "align_items": null,
       "align_self": null,
       "border": null,
       "bottom": null,
       "display": null,
       "flex": null,
       "flex_flow": null,
       "grid_area": null,
       "grid_auto_columns": null,
       "grid_auto_flow": null,
       "grid_auto_rows": null,
       "grid_column": null,
       "grid_gap": null,
       "grid_row": null,
       "grid_template_areas": null,
       "grid_template_columns": null,
       "grid_template_rows": null,
       "height": null,
       "justify_content": null,
       "justify_items": null,
       "left": null,
       "margin": null,
       "max_height": null,
       "max_width": null,
       "min_height": null,
       "min_width": null,
       "object_fit": null,
       "object_position": null,
       "order": null,
       "overflow": null,
       "overflow_x": null,
       "overflow_y": null,
       "padding": null,
       "right": null,
       "top": null,
       "visibility": null,
       "width": null
      }
     },
     "83ed2f613bda437abbb002a3f459bdd6": {
      "model_module": "@jupyter-widgets/controls",
      "model_module_version": "1.5.0",
      "model_name": "HTMLModel",
      "state": {
       "_dom_classes": [],
       "_model_module": "@jupyter-widgets/controls",
       "_model_module_version": "1.5.0",
       "_model_name": "HTMLModel",
       "_view_count": null,
       "_view_module": "@jupyter-widgets/controls",
       "_view_module_version": "1.5.0",
       "_view_name": "HTMLView",
       "description": "",
       "description_tooltip": null,
       "layout": "IPY_MODEL_9d313bd0abda486b81e57baa0478fe2b",
       "placeholder": "​",
       "style": "IPY_MODEL_9f4207ec7832416db762e0c0bf6712a2",
       "value": " 24/24 [00:05&lt;00:00,  5.41it/s]"
      }
     },
     "84e9c139540f42908074539e821ac596": {
      "model_module": "@jupyter-widgets/base",
      "model_module_version": "1.2.0",
      "model_name": "LayoutModel",
      "state": {
       "_model_module": "@jupyter-widgets/base",
       "_model_module_version": "1.2.0",
       "_model_name": "LayoutModel",
       "_view_count": null,
       "_view_module": "@jupyter-widgets/base",
       "_view_module_version": "1.2.0",
       "_view_name": "LayoutView",
       "align_content": null,
       "align_items": null,
       "align_self": null,
       "border": null,
       "bottom": null,
       "display": null,
       "flex": null,
       "flex_flow": null,
       "grid_area": null,
       "grid_auto_columns": null,
       "grid_auto_flow": null,
       "grid_auto_rows": null,
       "grid_column": null,
       "grid_gap": null,
       "grid_row": null,
       "grid_template_areas": null,
       "grid_template_columns": null,
       "grid_template_rows": null,
       "height": null,
       "justify_content": null,
       "justify_items": null,
       "left": null,
       "margin": null,
       "max_height": null,
       "max_width": null,
       "min_height": null,
       "min_width": null,
       "object_fit": null,
       "object_position": null,
       "order": null,
       "overflow": null,
       "overflow_x": null,
       "overflow_y": null,
       "padding": null,
       "right": null,
       "top": null,
       "visibility": null,
       "width": null
      }
     },
     "857776c46a9641f885f3b5bea9b809b4": {
      "model_module": "@jupyter-widgets/controls",
      "model_module_version": "1.5.0",
      "model_name": "DescriptionStyleModel",
      "state": {
       "_model_module": "@jupyter-widgets/controls",
       "_model_module_version": "1.5.0",
       "_model_name": "DescriptionStyleModel",
       "_view_count": null,
       "_view_module": "@jupyter-widgets/base",
       "_view_module_version": "1.2.0",
       "_view_name": "StyleView",
       "description_width": ""
      }
     },
     "8d372eabece1471788fac1945ae773cb": {
      "model_module": "@jupyter-widgets/controls",
      "model_module_version": "1.5.0",
      "model_name": "FloatProgressModel",
      "state": {
       "_dom_classes": [],
       "_model_module": "@jupyter-widgets/controls",
       "_model_module_version": "1.5.0",
       "_model_name": "FloatProgressModel",
       "_view_count": null,
       "_view_module": "@jupyter-widgets/controls",
       "_view_module_version": "1.5.0",
       "_view_name": "ProgressView",
       "bar_style": "success",
       "description": "",
       "description_tooltip": null,
       "layout": "IPY_MODEL_b67f2fcad9f141e58ca6ca820d3a44b6",
       "max": 24.0,
       "min": 0.0,
       "orientation": "horizontal",
       "style": "IPY_MODEL_d539c238a87f479f82fae270b9adb4d3",
       "value": 24.0
      }
     },
     "9bcb7b0fd898436b9855aff4cad82c98": {
      "model_module": "@jupyter-widgets/controls",
      "model_module_version": "1.5.0",
      "model_name": "ProgressStyleModel",
      "state": {
       "_model_module": "@jupyter-widgets/controls",
       "_model_module_version": "1.5.0",
       "_model_name": "ProgressStyleModel",
       "_view_count": null,
       "_view_module": "@jupyter-widgets/base",
       "_view_module_version": "1.2.0",
       "_view_name": "StyleView",
       "bar_color": null,
       "description_width": ""
      }
     },
     "9d313bd0abda486b81e57baa0478fe2b": {
      "model_module": "@jupyter-widgets/base",
      "model_module_version": "1.2.0",
      "model_name": "LayoutModel",
      "state": {
       "_model_module": "@jupyter-widgets/base",
       "_model_module_version": "1.2.0",
       "_model_name": "LayoutModel",
       "_view_count": null,
       "_view_module": "@jupyter-widgets/base",
       "_view_module_version": "1.2.0",
       "_view_name": "LayoutView",
       "align_content": null,
       "align_items": null,
       "align_self": null,
       "border": null,
       "bottom": null,
       "display": null,
       "flex": null,
       "flex_flow": null,
       "grid_area": null,
       "grid_auto_columns": null,
       "grid_auto_flow": null,
       "grid_auto_rows": null,
       "grid_column": null,
       "grid_gap": null,
       "grid_row": null,
       "grid_template_areas": null,
       "grid_template_columns": null,
       "grid_template_rows": null,
       "height": null,
       "justify_content": null,
       "justify_items": null,
       "left": null,
       "margin": null,
       "max_height": null,
       "max_width": null,
       "min_height": null,
       "min_width": null,
       "object_fit": null,
       "object_position": null,
       "order": null,
       "overflow": null,
       "overflow_x": null,
       "overflow_y": null,
       "padding": null,
       "right": null,
       "top": null,
       "visibility": null,
       "width": null
      }
     },
     "9f4207ec7832416db762e0c0bf6712a2": {
      "model_module": "@jupyter-widgets/controls",
      "model_module_version": "1.5.0",
      "model_name": "DescriptionStyleModel",
      "state": {
       "_model_module": "@jupyter-widgets/controls",
       "_model_module_version": "1.5.0",
       "_model_name": "DescriptionStyleModel",
       "_view_count": null,
       "_view_module": "@jupyter-widgets/base",
       "_view_module_version": "1.2.0",
       "_view_name": "StyleView",
       "description_width": ""
      }
     },
     "b67f2fcad9f141e58ca6ca820d3a44b6": {
      "model_module": "@jupyter-widgets/base",
      "model_module_version": "1.2.0",
      "model_name": "LayoutModel",
      "state": {
       "_model_module": "@jupyter-widgets/base",
       "_model_module_version": "1.2.0",
       "_model_name": "LayoutModel",
       "_view_count": null,
       "_view_module": "@jupyter-widgets/base",
       "_view_module_version": "1.2.0",
       "_view_name": "LayoutView",
       "align_content": null,
       "align_items": null,
       "align_self": null,
       "border": null,
       "bottom": null,
       "display": null,
       "flex": null,
       "flex_flow": null,
       "grid_area": null,
       "grid_auto_columns": null,
       "grid_auto_flow": null,
       "grid_auto_rows": null,
       "grid_column": null,
       "grid_gap": null,
       "grid_row": null,
       "grid_template_areas": null,
       "grid_template_columns": null,
       "grid_template_rows": null,
       "height": null,
       "justify_content": null,
       "justify_items": null,
       "left": null,
       "margin": null,
       "max_height": null,
       "max_width": null,
       "min_height": null,
       "min_width": null,
       "object_fit": null,
       "object_position": null,
       "order": null,
       "overflow": null,
       "overflow_x": null,
       "overflow_y": null,
       "padding": null,
       "right": null,
       "top": null,
       "visibility": null,
       "width": null
      }
     },
     "c2e7ffbea8ad4fb4beabe78e620e5405": {
      "model_module": "@jupyter-widgets/base",
      "model_module_version": "1.2.0",
      "model_name": "LayoutModel",
      "state": {
       "_model_module": "@jupyter-widgets/base",
       "_model_module_version": "1.2.0",
       "_model_name": "LayoutModel",
       "_view_count": null,
       "_view_module": "@jupyter-widgets/base",
       "_view_module_version": "1.2.0",
       "_view_name": "LayoutView",
       "align_content": null,
       "align_items": null,
       "align_self": null,
       "border": null,
       "bottom": null,
       "display": null,
       "flex": null,
       "flex_flow": null,
       "grid_area": null,
       "grid_auto_columns": null,
       "grid_auto_flow": null,
       "grid_auto_rows": null,
       "grid_column": null,
       "grid_gap": null,
       "grid_row": null,
       "grid_template_areas": null,
       "grid_template_columns": null,
       "grid_template_rows": null,
       "height": null,
       "justify_content": null,
       "justify_items": null,
       "left": null,
       "margin": null,
       "max_height": null,
       "max_width": null,
       "min_height": null,
       "min_width": null,
       "object_fit": null,
       "object_position": null,
       "order": null,
       "overflow": null,
       "overflow_x": null,
       "overflow_y": null,
       "padding": null,
       "right": null,
       "top": null,
       "visibility": null,
       "width": null
      }
     },
     "cea67ec6a69e485cbc877753d78dbdb5": {
      "model_module": "@jupyter-widgets/controls",
      "model_module_version": "1.5.0",
      "model_name": "HBoxModel",
      "state": {
       "_dom_classes": [],
       "_model_module": "@jupyter-widgets/controls",
       "_model_module_version": "1.5.0",
       "_model_name": "HBoxModel",
       "_view_count": null,
       "_view_module": "@jupyter-widgets/controls",
       "_view_module_version": "1.5.0",
       "_view_name": "HBoxView",
       "box_style": "",
       "children": [
        "IPY_MODEL_65cd2b8e496144f5a6d2fe087199c363",
        "IPY_MODEL_6bdef64a9fb849e1b276e45f510fcffc",
        "IPY_MODEL_2d3d0fc1d28f4ece9bf7589619cd0e76"
       ],
       "layout": "IPY_MODEL_c2e7ffbea8ad4fb4beabe78e620e5405"
      }
     },
     "d539c238a87f479f82fae270b9adb4d3": {
      "model_module": "@jupyter-widgets/controls",
      "model_module_version": "1.5.0",
      "model_name": "ProgressStyleModel",
      "state": {
       "_model_module": "@jupyter-widgets/controls",
       "_model_module_version": "1.5.0",
       "_model_name": "ProgressStyleModel",
       "_view_count": null,
       "_view_module": "@jupyter-widgets/base",
       "_view_module_version": "1.2.0",
       "_view_name": "StyleView",
       "bar_color": null,
       "description_width": ""
      }
     },
     "e6d2d42fa5164211be0f21d23def59e1": {
      "model_module": "@jupyter-widgets/controls",
      "model_module_version": "1.5.0",
      "model_name": "HTMLModel",
      "state": {
       "_dom_classes": [],
       "_model_module": "@jupyter-widgets/controls",
       "_model_module_version": "1.5.0",
       "_model_name": "HTMLModel",
       "_view_count": null,
       "_view_module": "@jupyter-widgets/controls",
       "_view_module_version": "1.5.0",
       "_view_name": "HTMLView",
       "description": "",
       "description_tooltip": null,
       "layout": "IPY_MODEL_542b7c56b60d414daf4eff1c028ada0f",
       "placeholder": "​",
       "style": "IPY_MODEL_1b85db9db339458f94e58ee65355954a",
       "value": "Making predictions: 100%"
      }
     },
     "fb0185e7ab8c4f5e924afa9e58948b94": {
      "model_module": "@jupyter-widgets/base",
      "model_module_version": "1.2.0",
      "model_name": "LayoutModel",
      "state": {
       "_model_module": "@jupyter-widgets/base",
       "_model_module_version": "1.2.0",
       "_model_name": "LayoutModel",
       "_view_count": null,
       "_view_module": "@jupyter-widgets/base",
       "_view_module_version": "1.2.0",
       "_view_name": "LayoutView",
       "align_content": null,
       "align_items": null,
       "align_self": null,
       "border": null,
       "bottom": null,
       "display": null,
       "flex": null,
       "flex_flow": null,
       "grid_area": null,
       "grid_auto_columns": null,
       "grid_auto_flow": null,
       "grid_auto_rows": null,
       "grid_column": null,
       "grid_gap": null,
       "grid_row": null,
       "grid_template_areas": null,
       "grid_template_columns": null,
       "grid_template_rows": null,
       "height": null,
       "justify_content": null,
       "justify_items": null,
       "left": null,
       "margin": null,
       "max_height": null,
       "max_width": null,
       "min_height": null,
       "min_width": null,
       "object_fit": null,
       "object_position": null,
       "order": null,
       "overflow": null,
       "overflow_x": null,
       "overflow_y": null,
       "padding": null,
       "right": null,
       "top": null,
       "visibility": null,
       "width": null
      }
     }
    },
    "version_major": 2,
    "version_minor": 0
   }
  }
 },
 "nbformat": 4,
 "nbformat_minor": 5
}
