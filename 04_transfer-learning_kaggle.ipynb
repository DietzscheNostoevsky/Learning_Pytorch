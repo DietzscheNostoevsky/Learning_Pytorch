{
 "cells": [
  {
   "cell_type": "markdown",
   "id": "e412f6f5",
   "metadata": {
    "id": "-gzMrEgNt00t",
    "papermill": {
     "duration": 0.01549,
     "end_time": "2023-05-24T07:22:02.140383",
     "exception": false,
     "start_time": "2023-05-24T07:22:02.124893",
     "status": "completed"
    },
    "tags": []
   },
   "source": [
    "# 0. Setup \n"
   ]
  },
  {
   "cell_type": "markdown",
   "id": "a4ab2a0b",
   "metadata": {
    "id": "ndxasTW0t46N",
    "papermill": {
     "duration": 0.013515,
     "end_time": "2023-05-24T07:22:02.178972",
     "exception": false,
     "start_time": "2023-05-24T07:22:02.165457",
     "status": "completed"
    },
    "tags": []
   },
   "source": [
    "Importing required modules and files.  \n",
    "Using going_modular directory functions.  \n",
    "\n"
   ]
  },
  {
   "cell_type": "code",
   "execution_count": 1,
   "id": "def612fb",
   "metadata": {
    "execution": {
     "iopub.execute_input": "2023-05-24T07:22:02.212706Z",
     "iopub.status.busy": "2023-05-24T07:22:02.212320Z",
     "iopub.status.idle": "2023-05-24T07:22:49.977542Z",
     "shell.execute_reply": "2023-05-24T07:22:49.976317Z"
    },
    "id": "Xi7D9Ve3v6ah",
    "outputId": "c7bfd37f-25c1-4214-a65f-8825532a37fb",
    "papermill": {
     "duration": 47.783101,
     "end_time": "2023-05-24T07:22:49.980533",
     "exception": false,
     "start_time": "2023-05-24T07:22:02.197432",
     "status": "completed"
    },
    "tags": []
   },
   "outputs": [
    {
     "name": "stdout",
     "output_type": "stream",
     "text": [
      "[INFO] Couldn't find going_modular scripts... downloading them from GitHub.\n",
      "Cloning into 'pytorch-deep-learning'...\r\n",
      "remote: Enumerating objects: 3812, done.\u001b[K\r\n",
      "remote: Counting objects: 100% (455/455), done.\u001b[K\r\n",
      "remote: Compressing objects: 100% (273/273), done.\u001b[K\r\n",
      "remote: Total 3812 (delta 238), reused 350 (delta 175), pack-reused 3357\u001b[K\r\n",
      "Receiving objects: 100% (3812/3812), 650.13 MiB | 19.27 MiB/s, done.\r\n",
      "Resolving deltas: 100% (2194/2194), done.\r\n",
      "Updating files: 100% (248/248), done.\r\n"
     ]
    }
   ],
   "source": [
    "# Continue with regular imports\n",
    "import matplotlib.pyplot as plt\n",
    "import torch\n",
    "import torchvision\n",
    "\n",
    "from torch import nn\n",
    "from torchvision import transforms\n",
    "\n",
    "# Try to get torchinfo, install it if it doesn't work\n",
    "try:\n",
    "    from torchinfo import summary\n",
    "except:\n",
    "    print(\"[INFO] Couldn't find torchinfo... installing it.\")\n",
    "    !pip install -q torchinfo\n",
    "    from torchinfo import summary\n",
    "\n",
    "# Try to import the going_modular directory, download it from GitHub if it doesn't work\n",
    "try:\n",
    "    from going_modular.going_modular import data_setup, engine\n",
    "except:\n",
    "    # Get the going_modular scripts\n",
    "    print(\"[INFO] Couldn't find going_modular scripts... downloading them from GitHub.\")\n",
    "    !git clone https://github.com/mrdbourke/pytorch-deep-learning\n",
    "    !mv pytorch-deep-learning/going_modular .\n",
    "    !rm -rf pytorch-deep-learning\n",
    "    from going_modular.going_modular import data_setup, engine"
   ]
  },
  {
   "cell_type": "code",
   "execution_count": 2,
   "id": "2527b5cb",
   "metadata": {
    "execution": {
     "iopub.execute_input": "2023-05-24T07:22:50.018414Z",
     "iopub.status.busy": "2023-05-24T07:22:50.017060Z",
     "iopub.status.idle": "2023-05-24T07:22:50.073894Z",
     "shell.execute_reply": "2023-05-24T07:22:50.073239Z"
    },
    "id": "cWWKTUuVxiRk",
    "papermill": {
     "duration": 0.077261,
     "end_time": "2023-05-24T07:22:50.075716",
     "exception": false,
     "start_time": "2023-05-24T07:22:49.998455",
     "status": "completed"
    },
    "tags": []
   },
   "outputs": [],
   "source": [
    "# Device Agnostic Code \n",
    "\n",
    "device = \"cuda\" if torch.cuda.is_available() else \"cpu\""
   ]
  },
  {
   "cell_type": "code",
   "execution_count": 3,
   "id": "8e60f742",
   "metadata": {
    "execution": {
     "iopub.execute_input": "2023-05-24T07:22:50.112497Z",
     "iopub.status.busy": "2023-05-24T07:22:50.111673Z",
     "iopub.status.idle": "2023-05-24T07:22:50.117745Z",
     "shell.execute_reply": "2023-05-24T07:22:50.116954Z"
    },
    "id": "8GA_DVz0QK7H",
    "papermill": {
     "duration": 0.026688,
     "end_time": "2023-05-24T07:22:50.119807",
     "exception": false,
     "start_time": "2023-05-24T07:22:50.093119",
     "status": "completed"
    },
    "tags": []
   },
   "outputs": [],
   "source": [
    "import os \n",
    "import zipfile \n",
    "from pathlib import Path\n",
    "import requests \n",
    "import os\n",
    "def walk_through_dir(dir_path):\n",
    "  \"\"\"\n",
    "  Walks through dir_path returning its contents.\n",
    "  Args:\n",
    "    dir_path (str or pathlib.Path): target directory\n",
    "  \n",
    "  Returns:\n",
    "    A print out of:\n",
    "      number of subdiretories in dir_path\n",
    "      number of images (files) in each subdirectory\n",
    "      name of each subdirectory\n",
    "  \"\"\"\n",
    "  for dirpath, dirnames, filenames in os.walk(dir_path):\n",
    "    print(f\"There are {len(dirnames)} directories and {len(filenames)} images in '{dirpath}'.\")"
   ]
  },
  {
   "cell_type": "markdown",
   "id": "f43f8777",
   "metadata": {
    "id": "zwxidou5yG5F",
    "papermill": {
     "duration": 0.018021,
     "end_time": "2023-05-24T07:22:50.155592",
     "exception": false,
     "start_time": "2023-05-24T07:22:50.137571",
     "status": "completed"
    },
    "tags": []
   },
   "source": [
    "# 1. Getting Data "
   ]
  },
  {
   "cell_type": "markdown",
   "id": "3b35dd38",
   "metadata": {
    "id": "fcZRItsEMlh7",
    "papermill": {
     "duration": 0.017836,
     "end_time": "2023-05-24T07:22:50.191887",
     "exception": false,
     "start_time": "2023-05-24T07:22:50.174051",
     "status": "completed"
    },
    "tags": []
   },
   "source": [
    "## Getting larger dataset from Drive"
   ]
  },
  {
   "cell_type": "code",
   "execution_count": 4,
   "id": "f7b9c01a",
   "metadata": {
    "execution": {
     "iopub.execute_input": "2023-05-24T07:22:50.228621Z",
     "iopub.status.busy": "2023-05-24T07:22:50.228345Z",
     "iopub.status.idle": "2023-05-24T07:22:50.570778Z",
     "shell.execute_reply": "2023-05-24T07:22:50.569476Z"
    },
    "id": "TYUwn8trMqDV",
    "outputId": "ac5bf3ca-1b14-4691-98c9-b66c097b344b",
    "papermill": {
     "duration": 0.363324,
     "end_time": "2023-05-24T07:22:50.572858",
     "exception": false,
     "start_time": "2023-05-24T07:22:50.209534",
     "status": "completed"
    },
    "tags": []
   },
   "outputs": [
    {
     "name": "stdout",
     "output_type": "stream",
     "text": [
      "/kaggle/input/pizza-steak-sushi/data/pizza_steak_sushi directory exists.\n",
      "There are 2 directories and 0 images in '/kaggle/input/pizza-steak-sushi/data/pizza_steak_sushi'.\n",
      "There are 3 directories and 0 images in '/kaggle/input/pizza-steak-sushi/data/pizza_steak_sushi/test'.\n",
      "There are 0 directories and 250 images in '/kaggle/input/pizza-steak-sushi/data/pizza_steak_sushi/test/steak'.\n",
      "There are 0 directories and 250 images in '/kaggle/input/pizza-steak-sushi/data/pizza_steak_sushi/test/sushi'.\n",
      "There are 0 directories and 250 images in '/kaggle/input/pizza-steak-sushi/data/pizza_steak_sushi/test/pizza'.\n",
      "There are 3 directories and 0 images in '/kaggle/input/pizza-steak-sushi/data/pizza_steak_sushi/train'.\n",
      "There are 0 directories and 750 images in '/kaggle/input/pizza-steak-sushi/data/pizza_steak_sushi/train/steak'.\n",
      "There are 0 directories and 750 images in '/kaggle/input/pizza-steak-sushi/data/pizza_steak_sushi/train/sushi'.\n",
      "There are 0 directories and 750 images in '/kaggle/input/pizza-steak-sushi/data/pizza_steak_sushi/train/pizza'.\n"
     ]
    }
   ],
   "source": [
    "import os \n",
    "import zipfile \n",
    "from pathlib import Path\n",
    "import requests \n",
    "\n",
    "# Setup path to data folder \n",
    "\n",
    "data_path = Path(\"/kaggle/input/pizza-steak-sushi/data/\") # The trailing forward slash (/) in the string \n",
    "                          # is used to indicate that it represents a \n",
    "                          # directory rather than a specific file. \n",
    "                          # It's a common convention to include the trailing slash \n",
    "                          # in directory paths to differentiate them from file paths.\n",
    "\n",
    "image_path = data_path / \"pizza_steak_sushi\"\n",
    "\n",
    "if image_path.is_dir():\n",
    "    print(f\"{image_path} directory exists.\")\n",
    "walk_through_dir(image_path)"
   ]
  },
  {
   "cell_type": "markdown",
   "id": "a09539a5",
   "metadata": {
    "id": "YbFUlonC1ObP",
    "papermill": {
     "duration": 0.017421,
     "end_time": "2023-05-24T07:22:50.609084",
     "exception": false,
     "start_time": "2023-05-24T07:22:50.591663",
     "status": "completed"
    },
    "tags": []
   },
   "source": [
    "# 2. Creating Datasets and DataLoaders"
   ]
  },
  {
   "cell_type": "code",
   "execution_count": 5,
   "id": "794efe1f",
   "metadata": {
    "execution": {
     "iopub.execute_input": "2023-05-24T07:22:50.646308Z",
     "iopub.status.busy": "2023-05-24T07:22:50.645382Z",
     "iopub.status.idle": "2023-05-24T07:22:50.651235Z",
     "shell.execute_reply": "2023-05-24T07:22:50.650165Z"
    },
    "id": "CYaIdpB-MtmJ",
    "papermill": {
     "duration": 0.026841,
     "end_time": "2023-05-24T07:22:50.653462",
     "exception": false,
     "start_time": "2023-05-24T07:22:50.626621",
     "status": "completed"
    },
    "tags": []
   },
   "outputs": [
    {
     "name": "stdout",
     "output_type": "stream",
     "text": [
      "/kaggle/input/pizza-steak-sushi/data/pizza_steak_sushi/train\n",
      "/kaggle/input/pizza-steak-sushi/data/pizza_steak_sushi/test\n"
     ]
    }
   ],
   "source": [
    "\n",
    "train_dir = image_path / \"train\"\n",
    "test_dir = image_path / \"test\"\n",
    "\n",
    "\n",
    "print(train_dir)\n",
    "print(test_dir)"
   ]
  },
  {
   "cell_type": "markdown",
   "id": "f643eaf5",
   "metadata": {
    "id": "9bgk6JbxAUZ8",
    "papermill": {
     "duration": 0.017697,
     "end_time": "2023-05-24T07:22:50.689308",
     "exception": false,
     "start_time": "2023-05-24T07:22:50.671611",
     "status": "completed"
    },
    "tags": []
   },
   "source": [
    " ## 2.2 Creating a transform for torchvision.models (auto creation)"
   ]
  },
  {
   "cell_type": "code",
   "execution_count": 6,
   "id": "6a02ee4d",
   "metadata": {
    "execution": {
     "iopub.execute_input": "2023-05-24T07:22:50.725867Z",
     "iopub.status.busy": "2023-05-24T07:22:50.725064Z",
     "iopub.status.idle": "2023-05-24T07:22:50.732408Z",
     "shell.execute_reply": "2023-05-24T07:22:50.731545Z"
    },
    "id": "799_VeAUAtFj",
    "outputId": "e14b8302-4d10-4250-88de-f9b03d2d2425",
    "papermill": {
     "duration": 0.027505,
     "end_time": "2023-05-24T07:22:50.734334",
     "exception": false,
     "start_time": "2023-05-24T07:22:50.706829",
     "status": "completed"
    },
    "tags": []
   },
   "outputs": [
    {
     "data": {
      "text/plain": [
       "EfficientNet_B0_Weights.IMAGENET1K_V1"
      ]
     },
     "execution_count": 6,
     "metadata": {},
     "output_type": "execute_result"
    }
   ],
   "source": [
    "# Get a set of pretrained model weights\n",
    "weights = torchvision.models.EfficientNet_B0_Weights.DEFAULT # .DEFAULT = best available weights from pretraining on ImageNet\n",
    "weights"
   ]
  },
  {
   "cell_type": "code",
   "execution_count": 7,
   "id": "e8ce9269",
   "metadata": {
    "execution": {
     "iopub.execute_input": "2023-05-24T07:22:50.771181Z",
     "iopub.status.busy": "2023-05-24T07:22:50.770449Z",
     "iopub.status.idle": "2023-05-24T07:22:50.776601Z",
     "shell.execute_reply": "2023-05-24T07:22:50.775736Z"
    },
    "id": "8DE2lewAA16k",
    "outputId": "741eef38-d341-410d-a26e-7ab1a3806e20",
    "papermill": {
     "duration": 0.026547,
     "end_time": "2023-05-24T07:22:50.778603",
     "exception": false,
     "start_time": "2023-05-24T07:22:50.752056",
     "status": "completed"
    },
    "tags": []
   },
   "outputs": [
    {
     "data": {
      "text/plain": [
       "ImageClassification(\n",
       "    crop_size=[224]\n",
       "    resize_size=[256]\n",
       "    mean=[0.485, 0.456, 0.406]\n",
       "    std=[0.229, 0.224, 0.225]\n",
       "    interpolation=InterpolationMode.BICUBIC\n",
       ")"
      ]
     },
     "execution_count": 7,
     "metadata": {},
     "output_type": "execute_result"
    }
   ],
   "source": [
    "# Get the transforms used to create our pretrained weights\n",
    "auto_transforms = weights.transforms()\n",
    "auto_transforms"
   ]
  },
  {
   "cell_type": "code",
   "execution_count": 8,
   "id": "c23e0bed",
   "metadata": {
    "execution": {
     "iopub.execute_input": "2023-05-24T07:22:50.815731Z",
     "iopub.status.busy": "2023-05-24T07:22:50.814963Z",
     "iopub.status.idle": "2023-05-24T07:22:50.847489Z",
     "shell.execute_reply": "2023-05-24T07:22:50.846546Z"
    },
    "id": "RrGR9z4sBCiE",
    "outputId": "73f8e81c-93c9-4381-d2b2-5b4084c439f6",
    "papermill": {
     "duration": 0.052882,
     "end_time": "2023-05-24T07:22:50.849442",
     "exception": false,
     "start_time": "2023-05-24T07:22:50.796560",
     "status": "completed"
    },
    "tags": []
   },
   "outputs": [
    {
     "data": {
      "text/plain": [
       "(<torch.utils.data.dataloader.DataLoader at 0x794634d31e40>,\n",
       " <torch.utils.data.dataloader.DataLoader at 0x794634d30490>,\n",
       " ['pizza', 'steak', 'sushi'])"
      ]
     },
     "execution_count": 8,
     "metadata": {},
     "output_type": "execute_result"
    }
   ],
   "source": [
    "# Create training and testing DataLoaders as well as get a list of class names\n",
    "train_dataloader, test_dataloader, class_names = data_setup.create_dataloaders(train_dir=train_dir,\n",
    "                                                                               test_dir=test_dir,\n",
    "                                                                               transform=auto_transforms, # perform same data transforms on our own data as the pretrained model\n",
    "                                                                               batch_size=32) # set mini-batch size to 32\n",
    "\n",
    "train_dataloader, test_dataloader, class_names"
   ]
  },
  {
   "cell_type": "code",
   "execution_count": 9,
   "id": "7b855bc9",
   "metadata": {
    "execution": {
     "iopub.execute_input": "2023-05-24T07:22:50.887435Z",
     "iopub.status.busy": "2023-05-24T07:22:50.886637Z",
     "iopub.status.idle": "2023-05-24T07:22:50.892073Z",
     "shell.execute_reply": "2023-05-24T07:22:50.891141Z"
    },
    "id": "iZNl5nt6HfbR",
    "outputId": "aba6eaa8-9cf1-4f08-9611-9f6bc3d191bf",
    "papermill": {
     "duration": 0.026362,
     "end_time": "2023-05-24T07:22:50.894040",
     "exception": false,
     "start_time": "2023-05-24T07:22:50.867678",
     "status": "completed"
    },
    "tags": []
   },
   "outputs": [
    {
     "name": "stdout",
     "output_type": "stream",
     "text": [
      "2250\n",
      "750\n"
     ]
    }
   ],
   "source": [
    "print(len(train_dataloader.dataset))\n",
    "print(len(test_dataloader.dataset))"
   ]
  },
  {
   "cell_type": "markdown",
   "id": "5ed1256d",
   "metadata": {
    "id": "17vgJx2LBt-C",
    "papermill": {
     "duration": 0.017875,
     "end_time": "2023-05-24T07:22:50.930521",
     "exception": false,
     "start_time": "2023-05-24T07:22:50.912646",
     "status": "completed"
    },
    "tags": []
   },
   "source": [
    "# 3. Getting Pretrained Model"
   ]
  },
  {
   "cell_type": "code",
   "execution_count": 10,
   "id": "233f0e6a",
   "metadata": {
    "execution": {
     "iopub.execute_input": "2023-05-24T07:22:50.968348Z",
     "iopub.status.busy": "2023-05-24T07:22:50.967555Z",
     "iopub.status.idle": "2023-05-24T07:22:57.306701Z",
     "shell.execute_reply": "2023-05-24T07:22:57.305722Z"
    },
    "id": "vWB5mr6kNwKC",
    "papermill": {
     "duration": 6.360432,
     "end_time": "2023-05-24T07:22:57.309071",
     "exception": false,
     "start_time": "2023-05-24T07:22:50.948639",
     "status": "completed"
    },
    "tags": []
   },
   "outputs": [
    {
     "name": "stderr",
     "output_type": "stream",
     "text": [
      "Downloading: \"https://download.pytorch.org/models/efficientnet_b0_rwightman-3dd342df.pth\" to /root/.cache/torch/hub/checkpoints/efficientnet_b0_rwightman-3dd342df.pth\n",
      "100%|██████████| 20.5M/20.5M [00:02<00:00, 9.04MB/s]\n"
     ]
    }
   ],
   "source": [
    "weights = torchvision.models.EfficientNet_B0_Weights.DEFAULT # .DEFAULT = best available weights \n",
    "model = torchvision.models.efficientnet_b0(weights=weights).to(device)\n"
   ]
  },
  {
   "cell_type": "markdown",
   "id": "a70c1701",
   "metadata": {
    "id": "S_qEJRokWoMF",
    "papermill": {
     "duration": 0.019024,
     "end_time": "2023-05-24T07:22:57.347895",
     "exception": false,
     "start_time": "2023-05-24T07:22:57.328871",
     "status": "completed"
    },
    "tags": []
   },
   "source": [
    "## Getting model summary"
   ]
  },
  {
   "cell_type": "code",
   "execution_count": 11,
   "id": "5719c6d8",
   "metadata": {
    "execution": {
     "iopub.execute_input": "2023-05-24T07:22:57.389734Z",
     "iopub.status.busy": "2023-05-24T07:22:57.388889Z",
     "iopub.status.idle": "2023-05-24T07:22:57.395433Z",
     "shell.execute_reply": "2023-05-24T07:22:57.394454Z"
    },
    "id": "mPy29tdueU0R",
    "papermill": {
     "duration": 0.029616,
     "end_time": "2023-05-24T07:22:57.397588",
     "exception": false,
     "start_time": "2023-05-24T07:22:57.367972",
     "status": "completed"
    },
    "tags": []
   },
   "outputs": [],
   "source": [
    "# # Freeze all base layers in the \"features\" section of the model \n",
    "# (the feature extractor) by setting requires_grad=False\n",
    "\n",
    "for param in model.features.parameters():\n",
    "    param.requires_grad = False\n"
   ]
  },
  {
   "cell_type": "code",
   "execution_count": 12,
   "id": "7179e77a",
   "metadata": {
    "execution": {
     "iopub.execute_input": "2023-05-24T07:22:57.437988Z",
     "iopub.status.busy": "2023-05-24T07:22:57.437710Z",
     "iopub.status.idle": "2023-05-24T07:22:57.445329Z",
     "shell.execute_reply": "2023-05-24T07:22:57.444538Z"
    },
    "id": "cKnwH-5wjdKw",
    "papermill": {
     "duration": 0.029967,
     "end_time": "2023-05-24T07:22:57.447192",
     "exception": false,
     "start_time": "2023-05-24T07:22:57.417225",
     "status": "completed"
    },
    "tags": []
   },
   "outputs": [],
   "source": [
    "# Setting manual seeds \n",
    "torch.manual_seed(42)\n",
    "torch.cuda.manual_seed(42)\n",
    "\n",
    "# Get the length of class_names (one output unit for each class)\n",
    "output_shape = len(class_names)\n",
    "\n",
    "# Recreate the classifier layer and send it to the target device\n",
    "\n",
    "model.classifier = torch.nn.Sequential(\n",
    "    torch.nn.Dropout(p=0.2, inplace=True),\n",
    "    torch.nn.Linear(in_features=1280,\n",
    "                    out_features=output_shape,\n",
    "                    bias=True)\n",
    ").to(device)\n",
    "\n"
   ]
  },
  {
   "cell_type": "markdown",
   "id": "942959eb",
   "metadata": {
    "id": "qt6uqR6jqpAw",
    "papermill": {
     "duration": 0.018951,
     "end_time": "2023-05-24T07:22:57.485963",
     "exception": false,
     "start_time": "2023-05-24T07:22:57.467012",
     "status": "completed"
    },
    "tags": []
   },
   "source": [
    "# 4. Training Model"
   ]
  },
  {
   "cell_type": "code",
   "execution_count": 13,
   "id": "c90aeaa3",
   "metadata": {
    "execution": {
     "iopub.execute_input": "2023-05-24T07:22:57.525611Z",
     "iopub.status.busy": "2023-05-24T07:22:57.525352Z",
     "iopub.status.idle": "2023-05-24T07:22:57.530082Z",
     "shell.execute_reply": "2023-05-24T07:22:57.529223Z"
    },
    "id": "cgG1T50Alw_d",
    "outputId": "147e1da9-d55a-465c-9d93-35fa94016b6a",
    "papermill": {
     "duration": 0.026925,
     "end_time": "2023-05-24T07:22:57.532104",
     "exception": false,
     "start_time": "2023-05-24T07:22:57.505179",
     "status": "completed"
    },
    "tags": []
   },
   "outputs": [
    {
     "name": "stdout",
     "output_type": "stream",
     "text": [
      "71\n",
      "24\n"
     ]
    }
   ],
   "source": [
    "print(len(train_dataloader))\n",
    "print(len(test_dataloader))"
   ]
  },
  {
   "cell_type": "code",
   "execution_count": 14,
   "id": "6a8211dd",
   "metadata": {
    "execution": {
     "iopub.execute_input": "2023-05-24T07:22:57.573346Z",
     "iopub.status.busy": "2023-05-24T07:22:57.572525Z",
     "iopub.status.idle": "2023-05-24T07:22:57.578997Z",
     "shell.execute_reply": "2023-05-24T07:22:57.578189Z"
    },
    "papermill": {
     "duration": 0.029279,
     "end_time": "2023-05-24T07:22:57.581095",
     "exception": false,
     "start_time": "2023-05-24T07:22:57.551816",
     "status": "completed"
    },
    "tags": []
   },
   "outputs": [],
   "source": [
    "# Define loss and optimizer\n",
    "loss_fn = nn.CrossEntropyLoss()\n",
    "optimizer = torch.optim.Adam(model.parameters(), lr=0.001)"
   ]
  },
  {
   "cell_type": "code",
   "execution_count": 15,
   "id": "d9ac96a5",
   "metadata": {
    "execution": {
     "iopub.execute_input": "2023-05-24T07:22:57.620957Z",
     "iopub.status.busy": "2023-05-24T07:22:57.620699Z",
     "iopub.status.idle": "2023-05-24T08:27:53.395768Z",
     "shell.execute_reply": "2023-05-24T08:27:53.394654Z"
    },
    "papermill": {
     "duration": 3895.846395,
     "end_time": "2023-05-24T08:27:53.446815",
     "exception": false,
     "start_time": "2023-05-24T07:22:57.600420",
     "status": "completed"
    },
    "tags": []
   },
   "outputs": [
    {
     "data": {
      "application/vnd.jupyter.widget-view+json": {
       "model_id": "e2b69a4f359649fa962bf3de7ab62555",
       "version_major": 2,
       "version_minor": 0
      },
      "text/plain": [
       "  0%|          | 0/200 [00:00<?, ?it/s]"
      ]
     },
     "metadata": {},
     "output_type": "display_data"
    },
    {
     "name": "stdout",
     "output_type": "stream",
     "text": [
      "Epoch: 1 | train_loss: 0.6569 | train_acc: 0.7697 | test_loss: 0.3338 | test_acc: 0.9137\n",
      "Epoch: 2 | train_loss: 0.4053 | train_acc: 0.8727 | test_loss: 0.2577 | test_acc: 0.9319\n",
      "Epoch: 3 | train_loss: 0.3322 | train_acc: 0.8907 | test_loss: 0.2159 | test_acc: 0.9323\n",
      "Epoch: 4 | train_loss: 0.2902 | train_acc: 0.9070 | test_loss: 0.1940 | test_acc: 0.9410\n",
      "Epoch: 5 | train_loss: 0.2915 | train_acc: 0.8971 | test_loss: 0.1872 | test_acc: 0.9440\n",
      "Epoch: 6 | train_loss: 0.2629 | train_acc: 0.9053 | test_loss: 0.1817 | test_acc: 0.9492\n",
      "Epoch: 7 | train_loss: 0.2579 | train_acc: 0.9111 | test_loss: 0.1744 | test_acc: 0.9449\n",
      "Epoch: 8 | train_loss: 0.2417 | train_acc: 0.9105 | test_loss: 0.1714 | test_acc: 0.9492\n",
      "Epoch: 9 | train_loss: 0.2408 | train_acc: 0.9150 | test_loss: 0.1639 | test_acc: 0.9505\n",
      "Epoch: 10 | train_loss: 0.2132 | train_acc: 0.9285 | test_loss: 0.1608 | test_acc: 0.9518\n",
      "Epoch: 11 | train_loss: 0.2232 | train_acc: 0.9246 | test_loss: 0.1601 | test_acc: 0.9518\n",
      "Epoch: 12 | train_loss: 0.2053 | train_acc: 0.9349 | test_loss: 0.1501 | test_acc: 0.9531\n",
      "Epoch: 13 | train_loss: 0.2202 | train_acc: 0.9234 | test_loss: 0.1506 | test_acc: 0.9544\n",
      "Epoch: 14 | train_loss: 0.2048 | train_acc: 0.9210 | test_loss: 0.1633 | test_acc: 0.9440\n",
      "Epoch: 15 | train_loss: 0.1887 | train_acc: 0.9320 | test_loss: 0.1507 | test_acc: 0.9492\n",
      "Epoch: 16 | train_loss: 0.2008 | train_acc: 0.9305 | test_loss: 0.1450 | test_acc: 0.9583\n",
      "Epoch: 17 | train_loss: 0.1846 | train_acc: 0.9315 | test_loss: 0.1573 | test_acc: 0.9479\n",
      "Epoch: 18 | train_loss: 0.2092 | train_acc: 0.9196 | test_loss: 0.1442 | test_acc: 0.9531\n",
      "Epoch: 19 | train_loss: 0.1837 | train_acc: 0.9362 | test_loss: 0.1449 | test_acc: 0.9518\n",
      "Epoch: 20 | train_loss: 0.1824 | train_acc: 0.9343 | test_loss: 0.1430 | test_acc: 0.9544\n",
      "Epoch: 21 | train_loss: 0.1896 | train_acc: 0.9287 | test_loss: 0.1375 | test_acc: 0.9557\n",
      "Epoch: 22 | train_loss: 0.1671 | train_acc: 0.9419 | test_loss: 0.1449 | test_acc: 0.9518\n",
      "Epoch: 23 | train_loss: 0.1884 | train_acc: 0.9282 | test_loss: 0.1527 | test_acc: 0.9459\n",
      "Epoch: 24 | train_loss: 0.1775 | train_acc: 0.9348 | test_loss: 0.1421 | test_acc: 0.9557\n",
      "Epoch: 25 | train_loss: 0.1680 | train_acc: 0.9360 | test_loss: 0.1375 | test_acc: 0.9570\n",
      "Epoch: 26 | train_loss: 0.1756 | train_acc: 0.9356 | test_loss: 0.1443 | test_acc: 0.9515\n",
      "Epoch: 27 | train_loss: 0.1755 | train_acc: 0.9392 | test_loss: 0.1404 | test_acc: 0.9583\n",
      "Epoch: 28 | train_loss: 0.1623 | train_acc: 0.9408 | test_loss: 0.1444 | test_acc: 0.9544\n",
      "Epoch: 29 | train_loss: 0.1767 | train_acc: 0.9335 | test_loss: 0.1492 | test_acc: 0.9466\n",
      "Epoch: 30 | train_loss: 0.1734 | train_acc: 0.9344 | test_loss: 0.1497 | test_acc: 0.9475\n",
      "Epoch: 31 | train_loss: 0.1673 | train_acc: 0.9406 | test_loss: 0.1435 | test_acc: 0.9531\n",
      "Epoch: 32 | train_loss: 0.1709 | train_acc: 0.9378 | test_loss: 0.1376 | test_acc: 0.9531\n",
      "Epoch: 33 | train_loss: 0.1681 | train_acc: 0.9387 | test_loss: 0.1425 | test_acc: 0.9475\n",
      "Epoch: 34 | train_loss: 0.1578 | train_acc: 0.9454 | test_loss: 0.1404 | test_acc: 0.9567\n",
      "Epoch: 35 | train_loss: 0.1756 | train_acc: 0.9400 | test_loss: 0.1399 | test_acc: 0.9488\n",
      "Epoch: 36 | train_loss: 0.1753 | train_acc: 0.9383 | test_loss: 0.1437 | test_acc: 0.9501\n",
      "Epoch: 37 | train_loss: 0.1443 | train_acc: 0.9476 | test_loss: 0.1482 | test_acc: 0.9501\n",
      "Epoch: 38 | train_loss: 0.1458 | train_acc: 0.9506 | test_loss: 0.1577 | test_acc: 0.9436\n",
      "Epoch: 39 | train_loss: 0.1620 | train_acc: 0.9383 | test_loss: 0.1457 | test_acc: 0.9515\n",
      "Epoch: 40 | train_loss: 0.1733 | train_acc: 0.9390 | test_loss: 0.1340 | test_acc: 0.9596\n",
      "Epoch: 41 | train_loss: 0.1513 | train_acc: 0.9461 | test_loss: 0.1492 | test_acc: 0.9505\n",
      "Epoch: 42 | train_loss: 0.1507 | train_acc: 0.9481 | test_loss: 0.1378 | test_acc: 0.9544\n",
      "Epoch: 43 | train_loss: 0.1591 | train_acc: 0.9428 | test_loss: 0.1395 | test_acc: 0.9583\n",
      "Epoch: 44 | train_loss: 0.1602 | train_acc: 0.9387 | test_loss: 0.1517 | test_acc: 0.9488\n",
      "Epoch: 45 | train_loss: 0.1561 | train_acc: 0.9437 | test_loss: 0.1444 | test_acc: 0.9557\n",
      "Epoch: 46 | train_loss: 0.1570 | train_acc: 0.9425 | test_loss: 0.1459 | test_acc: 0.9501\n",
      "Epoch: 47 | train_loss: 0.1564 | train_acc: 0.9445 | test_loss: 0.1406 | test_acc: 0.9567\n",
      "Epoch: 48 | train_loss: 0.1442 | train_acc: 0.9452 | test_loss: 0.1337 | test_acc: 0.9570\n",
      "Epoch: 49 | train_loss: 0.1581 | train_acc: 0.9413 | test_loss: 0.1366 | test_acc: 0.9544\n",
      "Epoch: 50 | train_loss: 0.1610 | train_acc: 0.9364 | test_loss: 0.1464 | test_acc: 0.9518\n",
      "Epoch: 51 | train_loss: 0.1469 | train_acc: 0.9462 | test_loss: 0.1457 | test_acc: 0.9518\n",
      "Epoch: 52 | train_loss: 0.1335 | train_acc: 0.9507 | test_loss: 0.1438 | test_acc: 0.9583\n",
      "Epoch: 53 | train_loss: 0.1545 | train_acc: 0.9401 | test_loss: 0.1339 | test_acc: 0.9557\n",
      "Epoch: 54 | train_loss: 0.1463 | train_acc: 0.9484 | test_loss: 0.1550 | test_acc: 0.9466\n",
      "Epoch: 55 | train_loss: 0.1409 | train_acc: 0.9481 | test_loss: 0.1404 | test_acc: 0.9557\n",
      "Epoch: 56 | train_loss: 0.1513 | train_acc: 0.9452 | test_loss: 0.1505 | test_acc: 0.9466\n",
      "Epoch: 57 | train_loss: 0.1527 | train_acc: 0.9418 | test_loss: 0.1482 | test_acc: 0.9531\n",
      "Epoch: 58 | train_loss: 0.1418 | train_acc: 0.9489 | test_loss: 0.1473 | test_acc: 0.9544\n",
      "Epoch: 59 | train_loss: 0.1754 | train_acc: 0.9359 | test_loss: 0.1536 | test_acc: 0.9449\n",
      "Epoch: 60 | train_loss: 0.1705 | train_acc: 0.9321 | test_loss: 0.1435 | test_acc: 0.9583\n",
      "Epoch: 61 | train_loss: 0.1569 | train_acc: 0.9406 | test_loss: 0.1389 | test_acc: 0.9583\n",
      "Epoch: 62 | train_loss: 0.1662 | train_acc: 0.9378 | test_loss: 0.1420 | test_acc: 0.9557\n",
      "Epoch: 63 | train_loss: 0.1433 | train_acc: 0.9467 | test_loss: 0.1370 | test_acc: 0.9583\n",
      "Epoch: 64 | train_loss: 0.1455 | train_acc: 0.9395 | test_loss: 0.1377 | test_acc: 0.9596\n",
      "Epoch: 65 | train_loss: 0.1345 | train_acc: 0.9516 | test_loss: 0.1315 | test_acc: 0.9609\n",
      "Epoch: 66 | train_loss: 0.1393 | train_acc: 0.9505 | test_loss: 0.1410 | test_acc: 0.9596\n",
      "Epoch: 67 | train_loss: 0.1535 | train_acc: 0.9458 | test_loss: 0.1388 | test_acc: 0.9544\n",
      "Epoch: 68 | train_loss: 0.1259 | train_acc: 0.9591 | test_loss: 0.1434 | test_acc: 0.9544\n",
      "Epoch: 69 | train_loss: 0.1361 | train_acc: 0.9497 | test_loss: 0.1492 | test_acc: 0.9479\n",
      "Epoch: 70 | train_loss: 0.1488 | train_acc: 0.9423 | test_loss: 0.1357 | test_acc: 0.9518\n",
      "Epoch: 71 | train_loss: 0.1456 | train_acc: 0.9437 | test_loss: 0.1509 | test_acc: 0.9518\n",
      "Epoch: 72 | train_loss: 0.1612 | train_acc: 0.9396 | test_loss: 0.1326 | test_acc: 0.9583\n",
      "Epoch: 73 | train_loss: 0.1576 | train_acc: 0.9379 | test_loss: 0.1484 | test_acc: 0.9505\n",
      "Epoch: 74 | train_loss: 0.1591 | train_acc: 0.9358 | test_loss: 0.1342 | test_acc: 0.9635\n",
      "Epoch: 75 | train_loss: 0.1481 | train_acc: 0.9431 | test_loss: 0.1397 | test_acc: 0.9596\n",
      "Epoch: 76 | train_loss: 0.1265 | train_acc: 0.9516 | test_loss: 0.1436 | test_acc: 0.9479\n",
      "Epoch: 77 | train_loss: 0.1435 | train_acc: 0.9467 | test_loss: 0.1453 | test_acc: 0.9567\n",
      "Epoch: 78 | train_loss: 0.1290 | train_acc: 0.9520 | test_loss: 0.1504 | test_acc: 0.9488\n",
      "Epoch: 79 | train_loss: 0.1370 | train_acc: 0.9480 | test_loss: 0.1481 | test_acc: 0.9449\n",
      "Epoch: 80 | train_loss: 0.1380 | train_acc: 0.9465 | test_loss: 0.1455 | test_acc: 0.9505\n",
      "Epoch: 81 | train_loss: 0.1423 | train_acc: 0.9456 | test_loss: 0.1471 | test_acc: 0.9531\n",
      "Epoch: 82 | train_loss: 0.1391 | train_acc: 0.9503 | test_loss: 0.1447 | test_acc: 0.9557\n",
      "Epoch: 83 | train_loss: 0.1436 | train_acc: 0.9459 | test_loss: 0.1396 | test_acc: 0.9596\n",
      "Epoch: 84 | train_loss: 0.1502 | train_acc: 0.9435 | test_loss: 0.1559 | test_acc: 0.9436\n",
      "Epoch: 85 | train_loss: 0.1286 | train_acc: 0.9533 | test_loss: 0.1493 | test_acc: 0.9505\n",
      "Epoch: 86 | train_loss: 0.1543 | train_acc: 0.9387 | test_loss: 0.1512 | test_acc: 0.9505\n",
      "Epoch: 87 | train_loss: 0.1319 | train_acc: 0.9533 | test_loss: 0.1338 | test_acc: 0.9544\n",
      "Epoch: 88 | train_loss: 0.1376 | train_acc: 0.9507 | test_loss: 0.1432 | test_acc: 0.9518\n",
      "Epoch: 89 | train_loss: 0.1431 | train_acc: 0.9459 | test_loss: 0.1474 | test_acc: 0.9531\n",
      "Epoch: 90 | train_loss: 0.1378 | train_acc: 0.9516 | test_loss: 0.1455 | test_acc: 0.9492\n",
      "Epoch: 91 | train_loss: 0.1756 | train_acc: 0.9402 | test_loss: 0.1489 | test_acc: 0.9518\n",
      "Epoch: 92 | train_loss: 0.1344 | train_acc: 0.9529 | test_loss: 0.1507 | test_acc: 0.9518\n",
      "Epoch: 93 | train_loss: 0.1500 | train_acc: 0.9427 | test_loss: 0.1493 | test_acc: 0.9449\n",
      "Epoch: 94 | train_loss: 0.1291 | train_acc: 0.9595 | test_loss: 0.1487 | test_acc: 0.9505\n",
      "Epoch: 95 | train_loss: 0.1525 | train_acc: 0.9415 | test_loss: 0.1641 | test_acc: 0.9475\n",
      "Epoch: 96 | train_loss: 0.1400 | train_acc: 0.9471 | test_loss: 0.1416 | test_acc: 0.9557\n",
      "Epoch: 97 | train_loss: 0.1305 | train_acc: 0.9489 | test_loss: 0.1523 | test_acc: 0.9492\n",
      "Epoch: 98 | train_loss: 0.1429 | train_acc: 0.9437 | test_loss: 0.1489 | test_acc: 0.9449\n",
      "Epoch: 99 | train_loss: 0.1373 | train_acc: 0.9458 | test_loss: 0.1480 | test_acc: 0.9505\n",
      "Epoch: 100 | train_loss: 0.1467 | train_acc: 0.9417 | test_loss: 0.1482 | test_acc: 0.9544\n",
      "Epoch: 101 | train_loss: 0.1332 | train_acc: 0.9493 | test_loss: 0.1489 | test_acc: 0.9453\n",
      "Epoch: 102 | train_loss: 0.1429 | train_acc: 0.9423 | test_loss: 0.1474 | test_acc: 0.9475\n",
      "Epoch: 103 | train_loss: 0.1379 | train_acc: 0.9487 | test_loss: 0.1438 | test_acc: 0.9544\n",
      "Epoch: 104 | train_loss: 0.1471 | train_acc: 0.9463 | test_loss: 0.1478 | test_acc: 0.9531\n",
      "Epoch: 105 | train_loss: 0.1448 | train_acc: 0.9427 | test_loss: 0.1440 | test_acc: 0.9518\n",
      "Epoch: 106 | train_loss: 0.1538 | train_acc: 0.9409 | test_loss: 0.1386 | test_acc: 0.9557\n",
      "Epoch: 107 | train_loss: 0.1281 | train_acc: 0.9555 | test_loss: 0.1479 | test_acc: 0.9475\n",
      "Epoch: 108 | train_loss: 0.1521 | train_acc: 0.9459 | test_loss: 0.1443 | test_acc: 0.9518\n",
      "Epoch: 109 | train_loss: 0.1474 | train_acc: 0.9411 | test_loss: 0.1404 | test_acc: 0.9544\n",
      "Epoch: 110 | train_loss: 0.1376 | train_acc: 0.9413 | test_loss: 0.1462 | test_acc: 0.9488\n",
      "Epoch: 111 | train_loss: 0.1341 | train_acc: 0.9462 | test_loss: 0.1397 | test_acc: 0.9531\n",
      "Epoch: 112 | train_loss: 0.1304 | train_acc: 0.9529 | test_loss: 0.1419 | test_acc: 0.9518\n",
      "Epoch: 113 | train_loss: 0.1503 | train_acc: 0.9425 | test_loss: 0.1588 | test_acc: 0.9466\n",
      "Epoch: 114 | train_loss: 0.1423 | train_acc: 0.9472 | test_loss: 0.1506 | test_acc: 0.9466\n",
      "Epoch: 115 | train_loss: 0.1580 | train_acc: 0.9370 | test_loss: 0.1467 | test_acc: 0.9531\n",
      "Epoch: 116 | train_loss: 0.1487 | train_acc: 0.9432 | test_loss: 0.1483 | test_acc: 0.9557\n",
      "Epoch: 117 | train_loss: 0.1495 | train_acc: 0.9423 | test_loss: 0.1629 | test_acc: 0.9410\n",
      "Epoch: 118 | train_loss: 0.1404 | train_acc: 0.9471 | test_loss: 0.1439 | test_acc: 0.9544\n",
      "Epoch: 119 | train_loss: 0.1335 | train_acc: 0.9498 | test_loss: 0.1560 | test_acc: 0.9466\n",
      "Epoch: 120 | train_loss: 0.1394 | train_acc: 0.9459 | test_loss: 0.1469 | test_acc: 0.9466\n",
      "Epoch: 121 | train_loss: 0.1345 | train_acc: 0.9560 | test_loss: 0.1460 | test_acc: 0.9479\n",
      "Epoch: 122 | train_loss: 0.1232 | train_acc: 0.9544 | test_loss: 0.1395 | test_acc: 0.9518\n",
      "Epoch: 123 | train_loss: 0.1458 | train_acc: 0.9428 | test_loss: 0.1574 | test_acc: 0.9488\n",
      "Epoch: 124 | train_loss: 0.1443 | train_acc: 0.9444 | test_loss: 0.1554 | test_acc: 0.9462\n",
      "Epoch: 125 | train_loss: 0.1324 | train_acc: 0.9507 | test_loss: 0.1463 | test_acc: 0.9531\n",
      "Epoch: 126 | train_loss: 0.1528 | train_acc: 0.9352 | test_loss: 0.1600 | test_acc: 0.9427\n",
      "Epoch: 127 | train_loss: 0.1235 | train_acc: 0.9519 | test_loss: 0.1413 | test_acc: 0.9531\n",
      "Epoch: 128 | train_loss: 0.1410 | train_acc: 0.9453 | test_loss: 0.1503 | test_acc: 0.9505\n",
      "Epoch: 129 | train_loss: 0.1360 | train_acc: 0.9516 | test_loss: 0.1417 | test_acc: 0.9518\n",
      "Epoch: 130 | train_loss: 0.1384 | train_acc: 0.9503 | test_loss: 0.1385 | test_acc: 0.9609\n",
      "Epoch: 131 | train_loss: 0.1563 | train_acc: 0.9339 | test_loss: 0.1480 | test_acc: 0.9479\n",
      "Epoch: 132 | train_loss: 0.1360 | train_acc: 0.9476 | test_loss: 0.1437 | test_acc: 0.9544\n",
      "Epoch: 133 | train_loss: 0.1280 | train_acc: 0.9550 | test_loss: 0.1446 | test_acc: 0.9531\n",
      "Epoch: 134 | train_loss: 0.1352 | train_acc: 0.9507 | test_loss: 0.1505 | test_acc: 0.9492\n",
      "Epoch: 135 | train_loss: 0.1529 | train_acc: 0.9448 | test_loss: 0.1531 | test_acc: 0.9518\n",
      "Epoch: 136 | train_loss: 0.1358 | train_acc: 0.9475 | test_loss: 0.1542 | test_acc: 0.9501\n",
      "Epoch: 137 | train_loss: 0.1226 | train_acc: 0.9547 | test_loss: 0.1530 | test_acc: 0.9515\n",
      "Epoch: 138 | train_loss: 0.1344 | train_acc: 0.9430 | test_loss: 0.1515 | test_acc: 0.9466\n",
      "Epoch: 139 | train_loss: 0.1248 | train_acc: 0.9493 | test_loss: 0.1593 | test_acc: 0.9401\n",
      "Epoch: 140 | train_loss: 0.1553 | train_acc: 0.9415 | test_loss: 0.1630 | test_acc: 0.9414\n",
      "Epoch: 141 | train_loss: 0.1393 | train_acc: 0.9440 | test_loss: 0.1557 | test_acc: 0.9492\n",
      "Epoch: 142 | train_loss: 0.1625 | train_acc: 0.9437 | test_loss: 0.1529 | test_acc: 0.9505\n",
      "Epoch: 143 | train_loss: 0.1464 | train_acc: 0.9476 | test_loss: 0.1519 | test_acc: 0.9505\n",
      "Epoch: 144 | train_loss: 0.1273 | train_acc: 0.9567 | test_loss: 0.1536 | test_acc: 0.9544\n",
      "Epoch: 145 | train_loss: 0.1450 | train_acc: 0.9458 | test_loss: 0.1510 | test_acc: 0.9479\n",
      "Epoch: 146 | train_loss: 0.1410 | train_acc: 0.9456 | test_loss: 0.1595 | test_acc: 0.9544\n",
      "Epoch: 147 | train_loss: 0.1527 | train_acc: 0.9404 | test_loss: 0.1609 | test_acc: 0.9479\n",
      "Epoch: 148 | train_loss: 0.1450 | train_acc: 0.9481 | test_loss: 0.1462 | test_acc: 0.9505\n",
      "Epoch: 149 | train_loss: 0.1341 | train_acc: 0.9485 | test_loss: 0.1517 | test_acc: 0.9505\n",
      "Epoch: 150 | train_loss: 0.1561 | train_acc: 0.9453 | test_loss: 0.1591 | test_acc: 0.9414\n",
      "Epoch: 151 | train_loss: 0.1482 | train_acc: 0.9409 | test_loss: 0.1534 | test_acc: 0.9505\n",
      "Epoch: 152 | train_loss: 0.1366 | train_acc: 0.9479 | test_loss: 0.1600 | test_acc: 0.9466\n",
      "Epoch: 153 | train_loss: 0.1444 | train_acc: 0.9474 | test_loss: 0.1499 | test_acc: 0.9492\n",
      "Epoch: 154 | train_loss: 0.1320 | train_acc: 0.9516 | test_loss: 0.1608 | test_acc: 0.9440\n",
      "Epoch: 155 | train_loss: 0.1353 | train_acc: 0.9519 | test_loss: 0.1517 | test_acc: 0.9492\n",
      "Epoch: 156 | train_loss: 0.1465 | train_acc: 0.9445 | test_loss: 0.1672 | test_acc: 0.9479\n",
      "Epoch: 157 | train_loss: 0.1528 | train_acc: 0.9441 | test_loss: 0.1529 | test_acc: 0.9466\n",
      "Epoch: 158 | train_loss: 0.1525 | train_acc: 0.9414 | test_loss: 0.1621 | test_acc: 0.9440\n",
      "Epoch: 159 | train_loss: 0.1510 | train_acc: 0.9445 | test_loss: 0.1581 | test_acc: 0.9531\n",
      "Epoch: 160 | train_loss: 0.1448 | train_acc: 0.9481 | test_loss: 0.1663 | test_acc: 0.9479\n",
      "Epoch: 161 | train_loss: 0.1488 | train_acc: 0.9438 | test_loss: 0.1556 | test_acc: 0.9466\n",
      "Epoch: 162 | train_loss: 0.1527 | train_acc: 0.9475 | test_loss: 0.1483 | test_acc: 0.9518\n",
      "Epoch: 163 | train_loss: 0.1468 | train_acc: 0.9430 | test_loss: 0.1572 | test_acc: 0.9453\n",
      "Epoch: 164 | train_loss: 0.1435 | train_acc: 0.9475 | test_loss: 0.1704 | test_acc: 0.9466\n",
      "Epoch: 165 | train_loss: 0.1435 | train_acc: 0.9467 | test_loss: 0.1512 | test_acc: 0.9479\n",
      "Epoch: 166 | train_loss: 0.1357 | train_acc: 0.9511 | test_loss: 0.1631 | test_acc: 0.9466\n",
      "Epoch: 167 | train_loss: 0.1263 | train_acc: 0.9555 | test_loss: 0.1581 | test_acc: 0.9479\n",
      "Epoch: 168 | train_loss: 0.1462 | train_acc: 0.9430 | test_loss: 0.1611 | test_acc: 0.9492\n",
      "Epoch: 169 | train_loss: 0.1477 | train_acc: 0.9416 | test_loss: 0.1615 | test_acc: 0.9466\n",
      "Epoch: 170 | train_loss: 0.1262 | train_acc: 0.9498 | test_loss: 0.1594 | test_acc: 0.9505\n",
      "Epoch: 171 | train_loss: 0.1433 | train_acc: 0.9418 | test_loss: 0.1648 | test_acc: 0.9427\n",
      "Epoch: 172 | train_loss: 0.1302 | train_acc: 0.9560 | test_loss: 0.1552 | test_acc: 0.9518\n",
      "Epoch: 173 | train_loss: 0.1393 | train_acc: 0.9439 | test_loss: 0.1549 | test_acc: 0.9518\n",
      "Epoch: 174 | train_loss: 0.1415 | train_acc: 0.9476 | test_loss: 0.1576 | test_acc: 0.9531\n",
      "Epoch: 175 | train_loss: 0.1549 | train_acc: 0.9423 | test_loss: 0.1544 | test_acc: 0.9479\n",
      "Epoch: 176 | train_loss: 0.1667 | train_acc: 0.9357 | test_loss: 0.1562 | test_acc: 0.9427\n",
      "Epoch: 177 | train_loss: 0.1556 | train_acc: 0.9379 | test_loss: 0.1471 | test_acc: 0.9492\n",
      "Epoch: 178 | train_loss: 0.1360 | train_acc: 0.9494 | test_loss: 0.1584 | test_acc: 0.9479\n",
      "Epoch: 179 | train_loss: 0.1379 | train_acc: 0.9480 | test_loss: 0.1476 | test_acc: 0.9479\n",
      "Epoch: 180 | train_loss: 0.1560 | train_acc: 0.9395 | test_loss: 0.1430 | test_acc: 0.9466\n",
      "Epoch: 181 | train_loss: 0.1570 | train_acc: 0.9435 | test_loss: 0.1457 | test_acc: 0.9492\n",
      "Epoch: 182 | train_loss: 0.1590 | train_acc: 0.9449 | test_loss: 0.1494 | test_acc: 0.9466\n",
      "Epoch: 183 | train_loss: 0.1460 | train_acc: 0.9413 | test_loss: 0.1530 | test_acc: 0.9479\n",
      "Epoch: 184 | train_loss: 0.1569 | train_acc: 0.9427 | test_loss: 0.1443 | test_acc: 0.9466\n",
      "Epoch: 185 | train_loss: 0.1489 | train_acc: 0.9412 | test_loss: 0.1508 | test_acc: 0.9544\n",
      "Epoch: 186 | train_loss: 0.1539 | train_acc: 0.9438 | test_loss: 0.1526 | test_acc: 0.9427\n",
      "Epoch: 187 | train_loss: 0.1237 | train_acc: 0.9559 | test_loss: 0.1488 | test_acc: 0.9492\n",
      "Epoch: 188 | train_loss: 0.1458 | train_acc: 0.9386 | test_loss: 0.1562 | test_acc: 0.9453\n",
      "Epoch: 189 | train_loss: 0.1360 | train_acc: 0.9503 | test_loss: 0.1636 | test_acc: 0.9427\n",
      "Epoch: 190 | train_loss: 0.1307 | train_acc: 0.9568 | test_loss: 0.1464 | test_acc: 0.9505\n",
      "Epoch: 191 | train_loss: 0.1215 | train_acc: 0.9520 | test_loss: 0.1611 | test_acc: 0.9479\n",
      "Epoch: 192 | train_loss: 0.1263 | train_acc: 0.9533 | test_loss: 0.1598 | test_acc: 0.9453\n",
      "Epoch: 193 | train_loss: 0.1356 | train_acc: 0.9518 | test_loss: 0.1507 | test_acc: 0.9531\n",
      "Epoch: 194 | train_loss: 0.1284 | train_acc: 0.9514 | test_loss: 0.1561 | test_acc: 0.9453\n",
      "Epoch: 195 | train_loss: 0.1335 | train_acc: 0.9484 | test_loss: 0.1471 | test_acc: 0.9544\n",
      "Epoch: 196 | train_loss: 0.1247 | train_acc: 0.9492 | test_loss: 0.1431 | test_acc: 0.9531\n",
      "Epoch: 197 | train_loss: 0.1469 | train_acc: 0.9463 | test_loss: 0.1560 | test_acc: 0.9479\n",
      "Epoch: 198 | train_loss: 0.1261 | train_acc: 0.9559 | test_loss: 0.1467 | test_acc: 0.9518\n",
      "Epoch: 199 | train_loss: 0.1646 | train_acc: 0.9395 | test_loss: 0.1444 | test_acc: 0.9570\n",
      "Epoch: 200 | train_loss: 0.1506 | train_acc: 0.9435 | test_loss: 0.1622 | test_acc: 0.9462\n",
      "[INFO] Total training time: 3895.765 seconds\n"
     ]
    }
   ],
   "source": [
    "# Set the random seeds\n",
    "EPOCHS = 200\n",
    "torch.manual_seed(42)\n",
    "torch.cuda.manual_seed(42)\n",
    "\n",
    "# Start the timer\n",
    "from timeit import default_timer as timer \n",
    "start_time = timer()\n",
    "\n",
    "# Setup training and save the results\n",
    "results = engine.train(model=model,\n",
    "                       train_dataloader=train_dataloader,\n",
    "                       test_dataloader=test_dataloader,\n",
    "                       optimizer=optimizer,\n",
    "                       loss_fn=loss_fn,\n",
    "                       epochs=EPOCHS,\n",
    "                       device=device)\n",
    "\n",
    "# End the timer and print out how long it took\n",
    "end_time = timer()\n",
    "print(f\"[INFO] Total training time: {end_time-start_time:.3f} seconds\")"
   ]
  },
  {
   "cell_type": "markdown",
   "id": "6a4c4b3e",
   "metadata": {
    "id": "uiavg6f7r8mC",
    "papermill": {
     "duration": 0.048474,
     "end_time": "2023-05-24T08:27:53.550215",
     "exception": false,
     "start_time": "2023-05-24T08:27:53.501741",
     "status": "completed"
    },
    "tags": []
   },
   "source": [
    "# 5. Model Evaluation using loss curves "
   ]
  },
  {
   "cell_type": "code",
   "execution_count": 16,
   "id": "29b8a14c",
   "metadata": {
    "execution": {
     "iopub.execute_input": "2023-05-24T08:27:53.647208Z",
     "iopub.status.busy": "2023-05-24T08:27:53.646766Z",
     "iopub.status.idle": "2023-05-24T08:27:54.640837Z",
     "shell.execute_reply": "2023-05-24T08:27:54.639969Z"
    },
    "id": "6GahrSlQsIBu",
    "outputId": "626deca4-f51c-49a2-f3bc-11c4526a331a",
    "papermill": {
     "duration": 1.044677,
     "end_time": "2023-05-24T08:27:54.642800",
     "exception": false,
     "start_time": "2023-05-24T08:27:53.598123",
     "status": "completed"
    },
    "tags": []
   },
   "outputs": [
    {
     "name": "stdout",
     "output_type": "stream",
     "text": [
      "[INFO] Couldn't find helper_functions.py, downloading...\n"
     ]
    },
    {
     "data": {
      "image/png": "[encoded data removed]",
      "text/plain": [
       "<Figure size 1500x700 with 2 Axes>"
      ]
     },
     "metadata": {},
     "output_type": "display_data"
    }
   ],
   "source": [
    "# Get the plot_loss_curves() function from helper_functions.py, download the file if we don't have it\n",
    "try:\n",
    "    from helper_functions import plot_loss_curves\n",
    "except:\n",
    "    print(\"[INFO] Couldn't find helper_functions.py, downloading...\")\n",
    "    with open(\"helper_functions.py\", \"wb\") as f:\n",
    "        import requests\n",
    "        request = requests.get(\"https://raw.githubusercontent.com/mrdbourke/pytorch-deep-learning/main/helper_functions.py\")\n",
    "        f.write(request.content)\n",
    "    from helper_functions import plot_loss_curves\n",
    "\n",
    "# Plot the loss curves of our model\n",
    "plot_loss_curves(results)"
   ]
  },
  {
   "cell_type": "markdown",
   "id": "07d3f233",
   "metadata": {
    "id": "ZWN5C_d_3aIW",
    "papermill": {
     "duration": 0.037274,
     "end_time": "2023-05-24T08:27:54.716782",
     "exception": false,
     "start_time": "2023-05-24T08:27:54.679508",
     "status": "completed"
    },
    "tags": []
   },
   "source": [
    "# 6. Making predictions in test set"
   ]
  },
  {
   "cell_type": "markdown",
   "id": "4ddffc4d",
   "metadata": {
    "id": "cZ9E5GI34D3G",
    "papermill": {
     "duration": 0.037161,
     "end_time": "2023-05-24T08:27:54.790965",
     "exception": false,
     "start_time": "2023-05-24T08:27:54.753804",
     "status": "completed"
    },
    "tags": []
   },
   "source": [
    "Function to predict and plot"
   ]
  },
  {
   "cell_type": "code",
   "execution_count": 17,
   "id": "e1debcfc",
   "metadata": {
    "execution": {
     "iopub.execute_input": "2023-05-24T08:27:54.867170Z",
     "iopub.status.busy": "2023-05-24T08:27:54.866744Z",
     "iopub.status.idle": "2023-05-24T08:27:54.879074Z",
     "shell.execute_reply": "2023-05-24T08:27:54.878048Z"
    },
    "id": "6hlFhvZ74J3C",
    "papermill": {
     "duration": 0.053144,
     "end_time": "2023-05-24T08:27:54.881414",
     "exception": false,
     "start_time": "2023-05-24T08:27:54.828270",
     "status": "completed"
    },
    "tags": []
   },
   "outputs": [],
   "source": [
    "from typing import List, Tuple\n",
    "\n",
    "from PIL import Image\n",
    "\n",
    "# 1. Take in a trained model, class names, image path, image size, a transform and target device\n",
    "def pred_and_plot_image(model: torch.nn.Module,\n",
    "                        image_path: str, \n",
    "                        class_names: List[str],\n",
    "                        image_size: Tuple[int, int] = (224, 224),\n",
    "                        transform: torchvision.transforms = None,\n",
    "                        device: torch.device=device):\n",
    "    \n",
    "    \n",
    "    # 2. Open image\n",
    "    img = Image.open(image_path)\n",
    "\n",
    "    # 3. Create transformation for image (if one doesn't exist)\n",
    "    if transform is not None:\n",
    "        image_transform = transform\n",
    "    else:\n",
    "        image_transform = transforms.Compose([\n",
    "            transforms.Resize(image_size),\n",
    "            transforms.ToTensor(),\n",
    "            transforms.Normalize(mean=[0.485, 0.456, 0.406],\n",
    "                                 std=[0.229, 0.224, 0.225]),\n",
    "        ])\n",
    "\n",
    "    ### Predict on image ### \n",
    "\n",
    "    # 4. Make sure the model is on the target device\n",
    "    model.to(device)\n",
    "\n",
    "    # 5. Turn on model evaluation mode and inference mode\n",
    "    model.eval()\n",
    "    with torch.inference_mode():\n",
    "      # 6. Transform and add an extra dimension to image (model requires samples in [batch_size, color_channels, height, width])\n",
    "      transformed_image = image_transform(img).unsqueeze(dim=0)\n",
    "\n",
    "      # 7. Make a prediction on image with an extra dimension and send it to the target device\n",
    "      target_image_pred = model(transformed_image.to(device))\n",
    "\n",
    "    # 8. Convert logits -> prediction probabilities (using torch.softmax() for multi-class classification)\n",
    "    target_image_pred_probs = torch.softmax(target_image_pred, dim=1)\n",
    "\n",
    "    # 9. Convert prediction probabilities -> prediction labels\n",
    "    target_image_pred_label = torch.argmax(target_image_pred_probs, dim=1)\n",
    "\n",
    "    # 10. Plot image with predicted label and probability \n",
    "    plt.figure()\n",
    "    plt.imshow(img)\n",
    "    plt.title(f\"Pred: {class_names[target_image_pred_label]} | Prob: {target_image_pred_probs.max():.3f}\")\n",
    "    plt.axis(False);"
   ]
  },
  {
   "cell_type": "markdown",
   "id": "86190fb4",
   "metadata": {
    "id": "WtU_7eok4iym",
    "papermill": {
     "duration": 0.041047,
     "end_time": "2023-05-24T08:27:54.964237",
     "exception": false,
     "start_time": "2023-05-24T08:27:54.923190",
     "status": "completed"
    },
    "tags": []
   },
   "source": [
    "Testing on some random images "
   ]
  },
  {
   "cell_type": "markdown",
   "id": "8e645f27",
   "metadata": {
    "id": "2W7P5cXFZz9f",
    "papermill": {
     "duration": 0.038639,
     "end_time": "2023-05-24T08:27:55.043635",
     "exception": false,
     "start_time": "2023-05-24T08:27:55.004996",
     "status": "completed"
    },
    "tags": []
   },
   "source": [
    "# Exercises"
   ]
  },
  {
   "cell_type": "markdown",
   "id": "dbd5ea22",
   "metadata": {
    "id": "m1C03tnFaNKN",
    "papermill": {
     "duration": 0.038231,
     "end_time": "2023-05-24T08:27:55.121386",
     "exception": false,
     "start_time": "2023-05-24T08:27:55.083155",
     "status": "completed"
    },
    "tags": []
   },
   "source": [
    "## Confusion Matrix\n",
    "Make predictions on the entire test dataset and plot a confusion matrix for the results of our model compared to the truth labels."
   ]
  },
  {
   "cell_type": "code",
   "execution_count": 18,
   "id": "3e3b86da",
   "metadata": {
    "execution": {
     "iopub.execute_input": "2023-05-24T08:27:55.196866Z",
     "iopub.status.busy": "2023-05-24T08:27:55.195848Z",
     "iopub.status.idle": "2023-05-24T08:28:16.758658Z",
     "shell.execute_reply": "2023-05-24T08:28:16.757662Z"
    },
    "id": "yGuSqh8IaT0A",
    "outputId": "54609324-5f2a-4290-dcc1-1991b35479ad",
    "papermill": {
     "duration": 21.602806,
     "end_time": "2023-05-24T08:28:16.760718",
     "exception": false,
     "start_time": "2023-05-24T08:27:55.157912",
     "status": "completed"
    },
    "tags": []
   },
   "outputs": [
    {
     "data": {
      "application/vnd.jupyter.widget-view+json": {
       "model_id": "69de410ac08e44e2a0bce2298c24b1d4",
       "version_major": 2,
       "version_minor": 0
      },
      "text/plain": [
       "Making predictions:   0%|          | 0/24 [00:00<?, ?it/s]"
      ]
     },
     "metadata": {},
     "output_type": "display_data"
    },
    {
     "name": "stderr",
     "output_type": "stream",
     "text": [
      "/opt/conda/lib/python3.10/site-packages/scipy/__init__.py:146: UserWarning: A NumPy version >=1.16.5 and <1.23.0 is required for this version of SciPy (detected version 1.23.5\n",
      "  warnings.warn(f\"A NumPy version >={np_minversion} and <{np_maxversion}\"\n"
     ]
    },
    {
     "data": {
      "image/png": "[encoded data removed]",
      "text/plain": [
       "<Figure size 640x480 with 2 Axes>"
      ]
     },
     "metadata": {},
     "output_type": "display_data"
    }
   ],
   "source": [
    "\n",
    "from tqdm.auto import tqdm\n",
    "\n",
    "# 1. Make predictions with trained model\n",
    "y_preds = []\n",
    "model.eval()\n",
    "with torch.inference_mode():\n",
    "  for X, y in tqdm(test_dataloader, desc=\"Making predictions\"):\n",
    "    # Send data and targets to target device\n",
    "    X, y = X.to(device), y.to(device)\n",
    "    # Do the forward pass\n",
    "    y_logit = model(X)\n",
    "    # Turn predictions from logits -> prediction probabilities -> predictions labels\n",
    "    y_pred = torch.softmax(y_logit, dim=1).argmax(dim=1)\n",
    "    # Put predictions on CPU for evaluation\n",
    "    y_preds.append(y_pred.cpu())\n",
    "# Concatenate list of predictions into a tensor\n",
    "y_pred_tensor = torch.cat(y_preds)\n",
    "\n",
    "test_truth = torch.cat([y for X, y in test_dataloader])\n",
    "\n",
    "from sklearn.metrics import ConfusionMatrixDisplay\n",
    "ConfusionMatrixDisplay.from_predictions(test_truth, y_pred_tensor, display_labels=class_names,xticks_rotation=\"vertical\")\n",
    "plt.show()\n"
   ]
  }
 ],
 "metadata": {
  "kernelspec": {
   "display_name": "Python 3",
   "language": "python",
   "name": "python3"
  },
  "language_info": {
   "codemirror_mode": {
    "name": "ipython",
    "version": 3
   },
   "file_extension": ".py",
   "mimetype": "text/x-python",
   "name": "python",
   "nbconvert_exporter": "python",
   "pygments_lexer": "ipython3",
   "version": "3.10.10"
  },
  "papermill": {
   "default_parameters": {},
   "duration": 3987.928452,
   "end_time": "2023-05-24T08:28:19.628983",
   "environment_variables": {},
   "exception": null,
   "input_path": "__notebook__.ipynb",
   "output_path": "__notebook__.ipynb",
   "parameters": {},
   "start_time": "2023-05-24T07:21:51.700531",
   "version": "2.4.0"
  },
  "widgets": {
   "application/vnd.jupyter.widget-state+json": {
    "state": {
     "17427d79bd5e49bcab3cc457a069bb3d": {
      "model_module": "@jupyter-widgets/controls",
      "model_module_version": "1.5.0",
      "model_name": "ProgressStyleModel",
      "state": {
       "_model_module": "@jupyter-widgets/controls",
       "_model_module_version": "1.5.0",
       "_model_name": "ProgressStyleModel",
       "_view_count": null,
       "_view_module": "@jupyter-widgets/base",
       "_view_module_version": "1.2.0",
       "_view_name": "StyleView",
       "bar_color": null,
       "description_width": ""
      }
     },
     "2555f6cd57044711a0a918b8c36526e5": {
      "model_module": "@jupyter-widgets/controls",
      "model_module_version": "1.5.0",
      "model_name": "ProgressStyleModel",
      "state": {
       "_model_module": "@jupyter-widgets/controls",
       "_model_module_version": "1.5.0",
       "_model_name": "ProgressStyleModel",
       "_view_count": null,
       "_view_module": "@jupyter-widgets/base",
       "_view_module_version": "1.2.0",
       "_view_name": "StyleView",
       "bar_color": null,
       "description_width": ""
      }
     },
     "2efb52c22da44dbab0ce61039a206a2e": {
      "model_module": "@jupyter-widgets/controls",
      "model_module_version": "1.5.0",
      "model_name": "DescriptionStyleModel",
      "state": {
       "_model_module": "@jupyter-widgets/controls",
       "_model_module_version": "1.5.0",
       "_model_name": "DescriptionStyleModel",
       "_view_count": null,
       "_view_module": "@jupyter-widgets/base",
       "_view_module_version": "1.2.0",
       "_view_name": "StyleView",
       "description_width": ""
      }
     },
     "3742fe9862e249fb9ba55d747a89d8ad": {
      "model_module": "@jupyter-widgets/controls",
      "model_module_version": "1.5.0",
      "model_name": "DescriptionStyleModel",
      "state": {
       "_model_module": "@jupyter-widgets/controls",
       "_model_module_version": "1.5.0",
       "_model_name": "DescriptionStyleModel",
       "_view_count": null,
       "_view_module": "@jupyter-widgets/base",
       "_view_module_version": "1.2.0",
       "_view_name": "StyleView",
       "description_width": ""
      }
     },
     "5144e01db4cd48a9a3b7f73fd5b40379": {
      "model_module": "@jupyter-widgets/controls",
      "model_module_version": "1.5.0",
      "model_name": "HTMLModel",
      "state": {
       "_dom_classes": [],
       "_model_module": "@jupyter-widgets/controls",
       "_model_module_version": "1.5.0",
       "_model_name": "HTMLModel",
       "_view_count": null,
       "_view_module": "@jupyter-widgets/controls",
       "_view_module_version": "1.5.0",
       "_view_name": "HTMLView",
       "description": "",
       "description_tooltip": null,
       "layout": "IPY_MODEL_756e74decfc54b21bf25b01ee7bfecc3",
       "placeholder": "​",
       "style": "IPY_MODEL_eddffb1277274ee59890b3d075baa8a2",
       "value": " 24/24 [00:05&lt;00:00,  5.02it/s]"
      }
     },
     "56b186d055464c3584f43ae1d3486031": {
      "model_module": "@jupyter-widgets/base",
      "model_module_version": "1.2.0",
      "model_name": "LayoutModel",
      "state": {
       "_model_module": "@jupyter-widgets/base",
       "_model_module_version": "1.2.0",
       "_model_name": "LayoutModel",
       "_view_count": null,
       "_view_module": "@jupyter-widgets/base",
       "_view_module_version": "1.2.0",
       "_view_name": "LayoutView",
       "align_content": null,
       "align_items": null,
       "align_self": null,
       "border": null,
       "bottom": null,
       "display": null,
       "flex": null,
       "flex_flow": null,
       "grid_area": null,
       "grid_auto_columns": null,
       "grid_auto_flow": null,
       "grid_auto_rows": null,
       "grid_column": null,
       "grid_gap": null,
       "grid_row": null,
       "grid_template_areas": null,
       "grid_template_columns": null,
       "grid_template_rows": null,
       "height": null,
       "justify_content": null,
       "justify_items": null,
       "left": null,
       "margin": null,
       "max_height": null,
       "max_width": null,
       "min_height": null,
       "min_width": null,
       "object_fit": null,
       "object_position": null,
       "order": null,
       "overflow": null,
       "overflow_x": null,
       "overflow_y": null,
       "padding": null,
       "right": null,
       "top": null,
       "visibility": null,
       "width": null
      }
     },
     "68dd5bc555e446d9b948adc9fefcfecd": {
      "model_module": "@jupyter-widgets/base",
      "model_module_version": "1.2.0",
      "model_name": "LayoutModel",
      "state": {
       "_model_module": "@jupyter-widgets/base",
       "_model_module_version": "1.2.0",
       "_model_name": "LayoutModel",
       "_view_count": null,
       "_view_module": "@jupyter-widgets/base",
       "_view_module_version": "1.2.0",
       "_view_name": "LayoutView",
       "align_content": null,
       "align_items": null,
       "align_self": null,
       "border": null,
       "bottom": null,
       "display": null,
       "flex": null,
       "flex_flow": null,
       "grid_area": null,
       "grid_auto_columns": null,
       "grid_auto_flow": null,
       "grid_auto_rows": null,
       "grid_column": null,
       "grid_gap": null,
       "grid_row": null,
       "grid_template_areas": null,
       "grid_template_columns": null,
       "grid_template_rows": null,
       "height": null,
       "justify_content": null,
       "justify_items": null,
       "left": null,
       "margin": null,
       "max_height": null,
       "max_width": null,
       "min_height": null,
       "min_width": null,
       "object_fit": null,
       "object_position": null,
       "order": null,
       "overflow": null,
       "overflow_x": null,
       "overflow_y": null,
       "padding": null,
       "right": null,
       "top": null,
       "visibility": null,
       "width": null
      }
     },
     "69de410ac08e44e2a0bce2298c24b1d4": {
      "model_module": "@jupyter-widgets/controls",
      "model_module_version": "1.5.0",
      "model_name": "HBoxModel",
      "state": {
       "_dom_classes": [],
       "_model_module": "@jupyter-widgets/controls",
       "_model_module_version": "1.5.0",
       "_model_name": "HBoxModel",
       "_view_count": null,
       "_view_module": "@jupyter-widgets/controls",
       "_view_module_version": "1.5.0",
       "_view_name": "HBoxView",
       "box_style": "",
       "children": [
        "IPY_MODEL_88f1f2f1b6b44c3c8b811c2587ccbee7",
        "IPY_MODEL_bf4b326cdf6845b7a4e5322eb4fd39ec",
        "IPY_MODEL_5144e01db4cd48a9a3b7f73fd5b40379"
       ],
       "layout": "IPY_MODEL_dfd301ebd8f149ee861248cab9fc82e2"
      }
     },
     "6bca25229014461aa859529d3917c2f2": {
      "model_module": "@jupyter-widgets/base",
      "model_module_version": "1.2.0",
      "model_name": "LayoutModel",
      "state": {
       "_model_module": "@jupyter-widgets/base",
       "_model_module_version": "1.2.0",
       "_model_name": "LayoutModel",
       "_view_count": null,
       "_view_module": "@jupyter-widgets/base",
       "_view_module_version": "1.2.0",
       "_view_name": "LayoutView",
       "align_content": null,
       "align_items": null,
       "align_self": null,
       "border": null,
       "bottom": null,
       "display": null,
       "flex": null,
       "flex_flow": null,
       "grid_area": null,
       "grid_auto_columns": null,
       "grid_auto_flow": null,
       "grid_auto_rows": null,
       "grid_column": null,
       "grid_gap": null,
       "grid_row": null,
       "grid_template_areas": null,
       "grid_template_columns": null,
       "grid_template_rows": null,
       "height": null,
       "justify_content": null,
       "justify_items": null,
       "left": null,
       "margin": null,
       "max_height": null,
       "max_width": null,
       "min_height": null,
       "min_width": null,
       "object_fit": null,
       "object_position": null,
       "order": null,
       "overflow": null,
       "overflow_x": null,
       "overflow_y": null,
       "padding": null,
       "right": null,
       "top": null,
       "visibility": null,
       "width": null
      }
     },
     "756e74decfc54b21bf25b01ee7bfecc3": {
      "model_module": "@jupyter-widgets/base",
      "model_module_version": "1.2.0",
      "model_name": "LayoutModel",
      "state": {
       "_model_module": "@jupyter-widgets/base",
       "_model_module_version": "1.2.0",
       "_model_name": "LayoutModel",
       "_view_count": null,
       "_view_module": "@jupyter-widgets/base",
       "_view_module_version": "1.2.0",
       "_view_name": "LayoutView",
       "align_content": null,
       "align_items": null,
       "align_self": null,
       "border": null,
       "bottom": null,
       "display": null,
       "flex": null,
       "flex_flow": null,
       "grid_area": null,
       "grid_auto_columns": null,
       "grid_auto_flow": null,
       "grid_auto_rows": null,
       "grid_column": null,
       "grid_gap": null,
       "grid_row": null,
       "grid_template_areas": null,
       "grid_template_columns": null,
       "grid_template_rows": null,
       "height": null,
       "justify_content": null,
       "justify_items": null,
       "left": null,
       "margin": null,
       "max_height": null,
       "max_width": null,
       "min_height": null,
       "min_width": null,
       "object_fit": null,
       "object_position": null,
       "order": null,
       "overflow": null,
       "overflow_x": null,
       "overflow_y": null,
       "padding": null,
       "right": null,
       "top": null,
       "visibility": null,
       "width": null
      }
     },
     "856c6aaa18554b439adc357fda20a22c": {
      "model_module": "@jupyter-widgets/base",
      "model_module_version": "1.2.0",
      "model_name": "LayoutModel",
      "state": {
       "_model_module": "@jupyter-widgets/base",
       "_model_module_version": "1.2.0",
       "_model_name": "LayoutModel",
       "_view_count": null,
       "_view_module": "@jupyter-widgets/base",
       "_view_module_version": "1.2.0",
       "_view_name": "LayoutView",
       "align_content": null,
       "align_items": null,
       "align_self": null,
       "border": null,
       "bottom": null,
       "display": null,
       "flex": null,
       "flex_flow": null,
       "grid_area": null,
       "grid_auto_columns": null,
       "grid_auto_flow": null,
       "grid_auto_rows": null,
       "grid_column": null,
       "grid_gap": null,
       "grid_row": null,
       "grid_template_areas": null,
       "grid_template_columns": null,
       "grid_template_rows": null,
       "height": null,
       "justify_content": null,
       "justify_items": null,
       "left": null,
       "margin": null,
       "max_height": null,
       "max_width": null,
       "min_height": null,
       "min_width": null,
       "object_fit": null,
       "object_position": null,
       "order": null,
       "overflow": null,
       "overflow_x": null,
       "overflow_y": null,
       "padding": null,
       "right": null,
       "top": null,
       "visibility": null,
       "width": null
      }
     },
     "88f1f2f1b6b44c3c8b811c2587ccbee7": {
      "model_module": "@jupyter-widgets/controls",
      "model_module_version": "1.5.0",
      "model_name": "HTMLModel",
      "state": {
       "_dom_classes": [],
       "_model_module": "@jupyter-widgets/controls",
       "_model_module_version": "1.5.0",
       "_model_name": "HTMLModel",
       "_view_count": null,
       "_view_module": "@jupyter-widgets/controls",
       "_view_module_version": "1.5.0",
       "_view_name": "HTMLView",
       "description": "",
       "description_tooltip": null,
       "layout": "IPY_MODEL_56b186d055464c3584f43ae1d3486031",
       "placeholder": "​",
       "style": "IPY_MODEL_d6c0b613aa504607bc02b4c796c159ba",
       "value": "Making predictions: 100%"
      }
     },
     "8c8b6f6ba88f49fa926e8c4be0b4976c": {
      "model_module": "@jupyter-widgets/controls",
      "model_module_version": "1.5.0",
      "model_name": "HTMLModel",
      "state": {
       "_dom_classes": [],
       "_model_module": "@jupyter-widgets/controls",
       "_model_module_version": "1.5.0",
       "_model_name": "HTMLModel",
       "_view_count": null,
       "_view_module": "@jupyter-widgets/controls",
       "_view_module_version": "1.5.0",
       "_view_name": "HTMLView",
       "description": "",
       "description_tooltip": null,
       "layout": "IPY_MODEL_856c6aaa18554b439adc357fda20a22c",
       "placeholder": "​",
       "style": "IPY_MODEL_3742fe9862e249fb9ba55d747a89d8ad",
       "value": "100%"
      }
     },
     "bbd8c126f9ef418387cf8a1065ae3cfb": {
      "model_module": "@jupyter-widgets/base",
      "model_module_version": "1.2.0",
      "model_name": "LayoutModel",
      "state": {
       "_model_module": "@jupyter-widgets/base",
       "_model_module_version": "1.2.0",
       "_model_name": "LayoutModel",
       "_view_count": null,
       "_view_module": "@jupyter-widgets/base",
       "_view_module_version": "1.2.0",
       "_view_name": "LayoutView",
       "align_content": null,
       "align_items": null,
       "align_self": null,
       "border": null,
       "bottom": null,
       "display": null,
       "flex": null,
       "flex_flow": null,
       "grid_area": null,
       "grid_auto_columns": null,
       "grid_auto_flow": null,
       "grid_auto_rows": null,
       "grid_column": null,
       "grid_gap": null,
       "grid_row": null,
       "grid_template_areas": null,
       "grid_template_columns": null,
       "grid_template_rows": null,
       "height": null,
       "justify_content": null,
       "justify_items": null,
       "left": null,
       "margin": null,
       "max_height": null,
       "max_width": null,
       "min_height": null,
       "min_width": null,
       "object_fit": null,
       "object_position": null,
       "order": null,
       "overflow": null,
       "overflow_x": null,
       "overflow_y": null,
       "padding": null,
       "right": null,
       "top": null,
       "visibility": null,
       "width": null
      }
     },
     "bddfdda0f8294294878c81634c30aaff": {
      "model_module": "@jupyter-widgets/controls",
      "model_module_version": "1.5.0",
      "model_name": "FloatProgressModel",
      "state": {
       "_dom_classes": [],
       "_model_module": "@jupyter-widgets/controls",
       "_model_module_version": "1.5.0",
       "_model_name": "FloatProgressModel",
       "_view_count": null,
       "_view_module": "@jupyter-widgets/controls",
       "_view_module_version": "1.5.0",
       "_view_name": "ProgressView",
       "bar_style": "success",
       "description": "",
       "description_tooltip": null,
       "layout": "IPY_MODEL_68dd5bc555e446d9b948adc9fefcfecd",
       "max": 200.0,
       "min": 0.0,
       "orientation": "horizontal",
       "style": "IPY_MODEL_17427d79bd5e49bcab3cc457a069bb3d",
       "value": 200.0
      }
     },
     "bf4b326cdf6845b7a4e5322eb4fd39ec": {
      "model_module": "@jupyter-widgets/controls",
      "model_module_version": "1.5.0",
      "model_name": "FloatProgressModel",
      "state": {
       "_dom_classes": [],
       "_model_module": "@jupyter-widgets/controls",
       "_model_module_version": "1.5.0",
       "_model_name": "FloatProgressModel",
       "_view_count": null,
       "_view_module": "@jupyter-widgets/controls",
       "_view_module_version": "1.5.0",
       "_view_name": "ProgressView",
       "bar_style": "success",
       "description": "",
       "description_tooltip": null,
       "layout": "IPY_MODEL_ccfa73dea7d64176a3b6269f95653756",
       "max": 24.0,
       "min": 0.0,
       "orientation": "horizontal",
       "style": "IPY_MODEL_2555f6cd57044711a0a918b8c36526e5",
       "value": 24.0
      }
     },
     "ccfa73dea7d64176a3b6269f95653756": {
      "model_module": "@jupyter-widgets/base",
      "model_module_version": "1.2.0",
      "model_name": "LayoutModel",
      "state": {
       "_model_module": "@jupyter-widgets/base",
       "_model_module_version": "1.2.0",
       "_model_name": "LayoutModel",
       "_view_count": null,
       "_view_module": "@jupyter-widgets/base",
       "_view_module_version": "1.2.0",
       "_view_name": "LayoutView",
       "align_content": null,
       "align_items": null,
       "align_self": null,
       "border": null,
       "bottom": null,
       "display": null,
       "flex": null,
       "flex_flow": null,
       "grid_area": null,
       "grid_auto_columns": null,
       "grid_auto_flow": null,
       "grid_auto_rows": null,
       "grid_column": null,
       "grid_gap": null,
       "grid_row": null,
       "grid_template_areas": null,
       "grid_template_columns": null,
       "grid_template_rows": null,
       "height": null,
       "justify_content": null,
       "justify_items": null,
       "left": null,
       "margin": null,
       "max_height": null,
       "max_width": null,
       "min_height": null,
       "min_width": null,
       "object_fit": null,
       "object_position": null,
       "order": null,
       "overflow": null,
       "overflow_x": null,
       "overflow_y": null,
       "padding": null,
       "right": null,
       "top": null,
       "visibility": null,
       "width": null
      }
     },
     "d6c0b613aa504607bc02b4c796c159ba": {
      "model_module": "@jupyter-widgets/controls",
      "model_module_version": "1.5.0",
      "model_name": "DescriptionStyleModel",
      "state": {
       "_model_module": "@jupyter-widgets/controls",
       "_model_module_version": "1.5.0",
       "_model_name": "DescriptionStyleModel",
       "_view_count": null,
       "_view_module": "@jupyter-widgets/base",
       "_view_module_version": "1.2.0",
       "_view_name": "StyleView",
       "description_width": ""
      }
     },
     "d80e685ad4a4424dae9fcd4d43bb4773": {
      "model_module": "@jupyter-widgets/controls",
      "model_module_version": "1.5.0",
      "model_name": "HTMLModel",
      "state": {
       "_dom_classes": [],
       "_model_module": "@jupyter-widgets/controls",
       "_model_module_version": "1.5.0",
       "_model_name": "HTMLModel",
       "_view_count": null,
       "_view_module": "@jupyter-widgets/controls",
       "_view_module_version": "1.5.0",
       "_view_name": "HTMLView",
       "description": "",
       "description_tooltip": null,
       "layout": "IPY_MODEL_bbd8c126f9ef418387cf8a1065ae3cfb",
       "placeholder": "​",
       "style": "IPY_MODEL_2efb52c22da44dbab0ce61039a206a2e",
       "value": " 200/200 [1:04:55&lt;00:00, 19.16s/it]"
      }
     },
     "dfd301ebd8f149ee861248cab9fc82e2": {
      "model_module": "@jupyter-widgets/base",
      "model_module_version": "1.2.0",
      "model_name": "LayoutModel",
      "state": {
       "_model_module": "@jupyter-widgets/base",
       "_model_module_version": "1.2.0",
       "_model_name": "LayoutModel",
       "_view_count": null,
       "_view_module": "@jupyter-widgets/base",
       "_view_module_version": "1.2.0",
       "_view_name": "LayoutView",
       "align_content": null,
       "align_items": null,
       "align_self": null,
       "border": null,
       "bottom": null,
       "display": null,
       "flex": null,
       "flex_flow": null,
       "grid_area": null,
       "grid_auto_columns": null,
       "grid_auto_flow": null,
       "grid_auto_rows": null,
       "grid_column": null,
       "grid_gap": null,
       "grid_row": null,
       "grid_template_areas": null,
       "grid_template_columns": null,
       "grid_template_rows": null,
       "height": null,
       "justify_content": null,
       "justify_items": null,
       "left": null,
       "margin": null,
       "max_height": null,
       "max_width": null,
       "min_height": null,
       "min_width": null,
       "object_fit": null,
       "object_position": null,
       "order": null,
       "overflow": null,
       "overflow_x": null,
       "overflow_y": null,
       "padding": null,
       "right": null,
       "top": null,
       "visibility": null,
       "width": null
      }
     },
     "e2b69a4f359649fa962bf3de7ab62555": {
      "model_module": "@jupyter-widgets/controls",
      "model_module_version": "1.5.0",
      "model_name": "HBoxModel",
      "state": {
       "_dom_classes": [],
       "_model_module": "@jupyter-widgets/controls",
       "_model_module_version": "1.5.0",
       "_model_name": "HBoxModel",
       "_view_count": null,
       "_view_module": "@jupyter-widgets/controls",
       "_view_module_version": "1.5.0",
       "_view_name": "HBoxView",
       "box_style": "",
       "children": [
        "IPY_MODEL_8c8b6f6ba88f49fa926e8c4be0b4976c",
        "IPY_MODEL_bddfdda0f8294294878c81634c30aaff",
        "IPY_MODEL_d80e685ad4a4424dae9fcd4d43bb4773"
       ],
       "layout": "IPY_MODEL_6bca25229014461aa859529d3917c2f2"
      }
     },
     "eddffb1277274ee59890b3d075baa8a2": {
      "model_module": "@jupyter-widgets/controls",
      "model_module_version": "1.5.0",
      "model_name": "DescriptionStyleModel",
      "state": {
       "_model_module": "@jupyter-widgets/controls",
       "_model_module_version": "1.5.0",
       "_model_name": "DescriptionStyleModel",
       "_view_count": null,
       "_view_module": "@jupyter-widgets/base",
       "_view_module_version": "1.2.0",
       "_view_name": "StyleView",
       "description_width": ""
      }
     }
    },
    "version_major": 2,
    "version_minor": 0
   }
  }
 },
 "nbformat": 4,
 "nbformat_minor": 5
}
