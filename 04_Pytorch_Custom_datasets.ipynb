{
  "cells": [
    {
      "cell_type": "markdown",
      "metadata": {
        "id": "view-in-github",
        "colab_type": "text"
      },
      "source": [
        "<a href=\"https://colab.research.google.com/github/DietzscheNostoevsky/Learning_Pytorch/blob/main/04_Pytorch_Custom_datasets.ipynb\" target=\"_parent\"><img src=\"https://colab.research.google.com/assets/colab-badge.svg\" alt=\"Open In Colab\"/></a>"
      ]
    },
    {
      "cell_type": "markdown",
      "source": [
        "#PyTorch Custom Datasets\n",
        "\n",
        "- A custom dataset is a collection of data relating to a specific problem we are working on.\n",
        "- Á custom dataset can be comprised of almost anything."
      ],
      "metadata": {
        "id": "wN31zInlaHiK"
      }
    },
    {
      "cell_type": "markdown",
      "source": [
        "*PyTorch includes many existing functions to load in various custom datasets in the [`TorchVision`](https://pytorch.org/vision/stable/index.html), [`TorchText`](https://pytorch.org/text/stable/index.html), [`TorchAudio`](https://pytorch.org/audio/stable/index.html) and [`TorchRec`](https://pytorch.org/torchrec/) domain libraries.*\n",
        "\n",
        "But sometimes these existing functions may not be enough.\n",
        "\n",
        "In that case, we can always subclass `torch.utils.data.Dataset` and customize it to our liking."
      ],
      "metadata": {
        "id": "jm7aEx8Aafx4"
      }
    },
    {
      "cell_type": "markdown",
      "source": [
        "#Notebook Workflow \n",
        "\n",
        "\n",
        "<img src=\"https://raw.githubusercontent.com/mrdbourke/pytorch-deep-learning/main/images/04-pytorch-food-vision-layout.png\" alt=\"building a pipeline to load in food images and then building a pytorch model to classify those food images\" width=800 />"
      ],
      "metadata": {
        "id": "3mBnNDtyavIL"
      }
    },
    {
      "cell_type": "markdown",
      "source": [
        "we're going to be using our own dataset of pizza, steak and sushi images.\n",
        "\n",
        "The goal will be to load these images and then build a model to train and predict on them.\n",
        "\n",
        " We'll use `torchvision.datasets` as well as our own custom Dataset class to load in images of food and then we'll build a PyTorch computer vision model to hopefully be able to classify them\n"
      ],
      "metadata": {
        "id": "FXdVCjZxa8RD"
      }
    },
    {
      "cell_type": "markdown",
      "source": [
        "#0. Setting up devive agnostic code"
      ],
      "metadata": {
        "id": "ZpJ5-XQgcLPc"
      }
    },
    {
      "cell_type": "code",
      "source": [
        "import torch\n",
        "from torch import nn \n",
        "\n",
        "torch.__version__"
      ],
      "metadata": {
        "colab": {
          "base_uri": "https://localhost:8080/",
          "height": 35
        },
        "id": "V0lVlfyyc7jh",
        "outputId": "445a3bbf-bc83-4cc2-bc91-060a77aa3ec7"
      },
      "execution_count": 5,
      "outputs": [
        {
          "output_type": "execute_result",
          "data": {
            "text/plain": [
              "'2.0.0+cu118'"
            ],
            "application/vnd.google.colaboratory.intrinsic+json": {
              "type": "string"
            }
          },
          "metadata": {},
          "execution_count": 5
        }
      ]
    },
    {
      "cell_type": "code",
      "source": [
        "# Setting up device agnostic code \n",
        "\n",
        "device = \"cuda\" if torch.cuda.is_available() else \"cpu\"\n",
        "device"
      ],
      "metadata": {
        "colab": {
          "base_uri": "https://localhost:8080/",
          "height": 35
        },
        "id": "pM-deFmldJ5A",
        "outputId": "e700d188-06d2-4ae4-adcf-1fa2a586e26e"
      },
      "execution_count": 6,
      "outputs": [
        {
          "output_type": "execute_result",
          "data": {
            "text/plain": [
              "'cpu'"
            ],
            "application/vnd.google.colaboratory.intrinsic+json": {
              "type": "string"
            }
          },
          "metadata": {},
          "execution_count": 6
        }
      ]
    },
    {
      "cell_type": "markdown",
      "source": [
        "#1. Getting data "
      ],
      "metadata": {
        "id": "G__9_iH6doKs"
      }
    },
    {
      "cell_type": "markdown",
      "source": [
        "Using a subset of food images data from Food101 dataset, which contains 101 food classes, each containing 1000 images per class, total 101,000 images. Each class containing 750 train, 250 test images.  \n",
        "\n",
        "We are using only random 10% images per class, for 3 classes   \n",
        "    - Pizza  \n",
        "    - Steak   \n",
        "    - Sushi   \n",
        "\n"
      ],
      "metadata": {
        "id": "u59iMud_e3wV"
      }
    },
    {
      "cell_type": "markdown",
      "source": [
        "## Original Data Source \n",
        "\n",
        "Original Data Resources :\n",
        "* Original [Food101 dataset and paper website](https://data.vision.ee.ethz.ch/cvl/datasets_extra/food-101/).\n",
        "* [`torchvision.datasets.Food101`](https://pytorch.org/vision/main/generated/torchvision.datasets.Food101.html) - the version of the data downloaded for this notebook.\n",
        "* [`extras/04_custom_data_creation.ipynb`](https://github.com/mrdbourke/pytorch-deep-learning/blob/main/extras/04_custom_data_creation.ipynb) - a notebook used to format the Food101 dataset to use for this notebook.\n",
        "* [`data/pizza_steak_sushi.zip`](https://github.com/mrdbourke/pytorch-deep-learning/blob/main/data/pizza_steak_sushi.zip) - the zip archive of pizza, steak and sushi images from Food101, created with the notebook linked above.\n"
      ],
      "metadata": {
        "id": "g9bBmOL4hzxE"
      }
    },
    {
      "cell_type": "code",
      "source": [
        "import requests\n",
        "import zipfile\n",
        "from pathlib import Path\n",
        "from tqdm.auto import tqdm\n",
        "\n",
        "# Setup path to data folder\n",
        "data_path = Path(\"data/\")\n",
        "image_path = data_path / \"pizza_steak_sushi\"\n",
        "\n",
        "# If the image folder doesn't exist, download it and prepare it... \n",
        "if image_path.is_dir():\n",
        "    print(f\"{image_path} directory exists.\")\n",
        "else:\n",
        "    print(f\"Did not find {image_path} directory, creating one...\")\n",
        "    image_path.mkdir(parents=True, exist_ok=True)\n",
        "\n",
        "    # Download pizza, steak, sushi data\n",
        "    download_url = \"https://github.com/mrdbourke/pytorch-deep-learning/raw/main/data/pizza_steak_sushi.zip\"\n",
        "    download_file = data_path / \"pizza_steak_sushi.zip\"\n",
        "    \n",
        "    response = requests.get(download_url, stream=True)\n",
        "    total_size = int(response.headers.get('content-length', 0))\n",
        "    progress_bar = tqdm(total=total_size, unit='B', unit_scale=True, desc='Downloading')\n",
        "    \n",
        "    with open(download_file, \"wb\") as f:\n",
        "        for data in response.iter_content(chunk_size=4096):\n",
        "            f.write(data)\n",
        "            progress_bar.update(len(data))\n",
        "    \n",
        "    progress_bar.close()\n",
        "    \n",
        "    # Unzip pizza, steak, sushi data\n",
        "    unzip_path = data_path / \"pizza_steak_sushi.zip\"\n",
        "    extract_path = image_path\n",
        "    \n",
        "    with zipfile.ZipFile(unzip_path, \"r\") as zip_ref:\n",
        "        file_list = zip_ref.namelist()\n",
        "        progress_bar = tqdm(file_list, desc='Extracting')\n",
        "        \n",
        "        for file in progress_bar:\n",
        "            zip_ref.extract(file, extract_path)\n",
        "        \n",
        "    progress_bar.close()\n",
        "\n",
        "    print(\"Download and extraction complete!\")\n"
      ],
      "metadata": {
        "colab": {
          "base_uri": "https://localhost:8080/"
        },
        "id": "1k66BFULuXEC",
        "outputId": "3ab7271e-b31a-42e4-9740-532e683c9495"
      },
      "execution_count": 11,
      "outputs": [
        {
          "output_type": "stream",
          "name": "stdout",
          "text": [
            "data/pizza_steak_sushi directory exists.\n"
          ]
        }
      ]
    },
    {
      "cell_type": "markdown",
      "source": [
        "#2. Data Prepration"
      ],
      "metadata": {
        "id": "nUGAFmz7waEg"
      }
    },
    {
      "cell_type": "markdown",
      "source": [
        "***What Am I trying to solve ?*** "
      ],
      "metadata": {
        "id": "cWxDRn83wmzM"
      }
    },
    {
      "cell_type": "markdown",
      "source": [
        "We have images of pizza, steak and sushi in standard image classification format.\n",
        "\n",
        "Image classification format contains separate classes of images in seperate directories titled with a particular class name.\n",
        "\n",
        "For example, all images of `pizza` are contained in the `pizza/` directory.\n",
        "\n",
        "This format is popular across many different image classification benchmarks, including [ImageNet](https://www.image-net.org/) (of the most popular computer vision benchmark datasets)."
      ],
      "metadata": {
        "id": "CvND3aK5xCUC"
      }
    },
    {
      "cell_type": "markdown",
      "source": [
        "The goal will be to **take this data storage structure and turn it into a dataset usable with PyTorch**."
      ],
      "metadata": {
        "id": "h4WAtjKhyHjK"
      }
    },
    {
      "cell_type": "markdown",
      "source": [
        "##Setting up directories"
      ],
      "metadata": {
        "id": "F5W7F0lX1Uqm"
      }
    },
    {
      "cell_type": "code",
      "source": [
        "# Helper function to see what is inside the directory \n",
        "# using os.walk()\n",
        "import os\n",
        "\n",
        "\n",
        "def walk_through_dir(dir_path):\n",
        "  \"\"\"\n",
        "  Walks through dir_path returning its contents.\n",
        "  Args:\n",
        "    dir_path (str or pathlib.Path): target directory\n",
        "  \n",
        "  Returns:\n",
        "    A print out of:\n",
        "      number of subdiretories in dir_path\n",
        "      number of images (files) in each subdirectory\n",
        "      name of each subdirectory\n",
        "  \"\"\"\n",
        "  for dirpath, dirnames, filenames in os.walk(dir_path):\n",
        "    print(f\"There are {len(dirnames)} directories and {len(filenames)} images in '{dirpath}'.\")\n"
      ],
      "metadata": {
        "id": "MCKXyMJjwfJN"
      },
      "execution_count": 12,
      "outputs": []
    },
    {
      "cell_type": "code",
      "source": [
        "walk_through_dir(image_path)"
      ],
      "metadata": {
        "id": "YILWQvg60OGV",
        "outputId": "c24c0ab7-6a49-4beb-8ccd-7c49d9199d29",
        "colab": {
          "base_uri": "https://localhost:8080/"
        }
      },
      "execution_count": 13,
      "outputs": [
        {
          "output_type": "stream",
          "name": "stdout",
          "text": [
            "There are 2 directories and 0 images in 'data/pizza_steak_sushi'.\n",
            "There are 3 directories and 0 images in 'data/pizza_steak_sushi/test'.\n",
            "There are 0 directories and 25 images in 'data/pizza_steak_sushi/test/pizza'.\n",
            "There are 0 directories and 19 images in 'data/pizza_steak_sushi/test/steak'.\n",
            "There are 0 directories and 31 images in 'data/pizza_steak_sushi/test/sushi'.\n",
            "There are 3 directories and 0 images in 'data/pizza_steak_sushi/train'.\n",
            "There are 0 directories and 78 images in 'data/pizza_steak_sushi/train/pizza'.\n",
            "There are 0 directories and 75 images in 'data/pizza_steak_sushi/train/steak'.\n",
            "There are 0 directories and 72 images in 'data/pizza_steak_sushi/train/sushi'.\n"
          ]
        }
      ]
    },
    {
      "cell_type": "code",
      "source": [
        "# Setting up training and testing paths \n",
        "\n",
        "train_dir = image_path / \"train\"\n",
        "test_dir = image_path / \"test\"\n",
        "\n",
        "train_dir, test_dir"
      ],
      "metadata": {
        "id": "A4GmgYHM0N7K",
        "outputId": "03b6ba84-7a55-4fe6-e3e3-f495369fe60d",
        "colab": {
          "base_uri": "https://localhost:8080/"
        }
      },
      "execution_count": 14,
      "outputs": [
        {
          "output_type": "execute_result",
          "data": {
            "text/plain": [
              "(PosixPath('data/pizza_steak_sushi/train'),\n",
              " PosixPath('data/pizza_steak_sushi/test'))"
            ]
          },
          "metadata": {},
          "execution_count": 14
        }
      ]
    },
    {
      "cell_type": "markdown",
      "source": [
        "##Data Visualization"
      ],
      "metadata": {
        "id": "zoM5zDvM1ZqZ"
      }
    }
  ],
  "metadata": {
    "colab": {
      "provenance": [],
      "toc_visible": true,
      "include_colab_link": true
    },
    "gpuClass": "standard",
    "kernelspec": {
      "display_name": "Python 3",
      "name": "python3"
    },
    "language_info": {
      "name": "python"
    }
  },
  "nbformat": 4,
  "nbformat_minor": 0
}