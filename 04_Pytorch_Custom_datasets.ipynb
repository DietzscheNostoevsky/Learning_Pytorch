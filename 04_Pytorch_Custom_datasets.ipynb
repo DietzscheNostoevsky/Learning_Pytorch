{
  "cells": [
    {
      "cell_type": "markdown",
      "metadata": {
        "id": "view-in-github",
        "colab_type": "text"
      },
      "source": [
        "<a href=\"https://colab.research.google.com/github/DietzscheNostoevsky/Learning_Pytorch/blob/main/04_Pytorch_Custom_datasets.ipynb\" target=\"_parent\"><img src=\"https://colab.research.google.com/assets/colab-badge.svg\" alt=\"Open In Colab\"/></a>"
      ]
    },
    {
      "cell_type": "markdown",
      "source": [
        "#PyTorch Custom Datasets\n",
        "\n",
        "- A custom dataset is a collection of data relating to a specific problem we are working on.\n",
        "- Á custom dataset can be comprised of almost anything."
      ],
      "metadata": {
        "id": "wN31zInlaHiK"
      }
    },
    {
      "cell_type": "markdown",
      "source": [
        "*PyTorch includes many existing functions to load in various custom datasets in the [`TorchVision`](https://pytorch.org/vision/stable/index.html), [`TorchText`](https://pytorch.org/text/stable/index.html), [`TorchAudio`](https://pytorch.org/audio/stable/index.html) and [`TorchRec`](https://pytorch.org/torchrec/) domain libraries.*\n",
        "\n",
        "But sometimes these existing functions may not be enough.\n",
        "\n",
        "In that case, we can always subclass `torch.utils.data.Dataset` and customize it to our liking."
      ],
      "metadata": {
        "id": "jm7aEx8Aafx4"
      }
    },
    {
      "cell_type": "markdown",
      "source": [
        "#Notebook Workflow \n",
        "\n",
        "\n",
        "<img src=\"https://raw.githubusercontent.com/mrdbourke/pytorch-deep-learning/main/images/04-pytorch-food-vision-layout.png\" alt=\"building a pipeline to load in food images and then building a pytorch model to classify those food images\" width=800 />"
      ],
      "metadata": {
        "id": "3mBnNDtyavIL"
      }
    },
    {
      "cell_type": "markdown",
      "source": [
        "we're going to be using our own dataset of pizza, steak and sushi images.\n",
        "\n",
        "The goal will be to load these images and then build a model to train and predict on them.\n",
        "\n",
        " We'll use `torchvision.datasets` as well as our own custom Dataset class to load in images of food and then we'll build a PyTorch computer vision model to hopefully be able to classify them\n"
      ],
      "metadata": {
        "id": "FXdVCjZxa8RD"
      }
    },
    {
      "cell_type": "markdown",
      "source": [
        "#0. Setting up devive agnostic code"
      ],
      "metadata": {
        "id": "ZpJ5-XQgcLPc"
      }
    },
    {
      "cell_type": "code",
      "source": [
        "import torch\n",
        "from torch import nn \n",
        "\n",
        "torch.__version__"
      ],
      "metadata": {
        "colab": {
          "base_uri": "https://localhost:8080/",
          "height": 35
        },
        "id": "V0lVlfyyc7jh",
        "outputId": "ac8fe3b8-c116-48a3-8d6a-2e8bee07ec61"
      },
      "execution_count": 1,
      "outputs": [
        {
          "output_type": "execute_result",
          "data": {
            "text/plain": [
              "'2.0.0+cu118'"
            ],
            "application/vnd.google.colaboratory.intrinsic+json": {
              "type": "string"
            }
          },
          "metadata": {},
          "execution_count": 1
        }
      ]
    },
    {
      "cell_type": "code",
      "source": [
        "# Setting up device agnostic code \n",
        "\n",
        "device = \"cuda\" if torch.cuda.is_available() else \"cpu\"\n",
        "device"
      ],
      "metadata": {
        "colab": {
          "base_uri": "https://localhost:8080/",
          "height": 35
        },
        "id": "pM-deFmldJ5A",
        "outputId": "4025d603-4e95-418a-8bd6-4806f47f30fe"
      },
      "execution_count": 4,
      "outputs": [
        {
          "output_type": "execute_result",
          "data": {
            "text/plain": [
              "'cpu'"
            ],
            "application/vnd.google.colaboratory.intrinsic+json": {
              "type": "string"
            }
          },
          "metadata": {},
          "execution_count": 4
        }
      ]
    },
    {
      "cell_type": "markdown",
      "source": [
        "#1. Getting data "
      ],
      "metadata": {
        "id": "G__9_iH6doKs"
      }
    },
    {
      "cell_type": "markdown",
      "source": [
        "Using a subset of food images data from Food101 dataset, which contains 101 food classes, each containing 1000 images per class, total 101,000 images. Each class containing 750 train, 250 test images.  \n",
        "\n",
        "We are using only random 10% images per class, for 3 classes   \n",
        "    - Pizza  \n",
        "    - Steak   \n",
        "    - Sushi   \n",
        "\n"
      ],
      "metadata": {
        "id": "u59iMud_e3wV"
      }
    },
    {
      "cell_type": "markdown",
      "source": [
        "## Original Data Source \n",
        "\n",
        "Original Data Resources :\n",
        "* Original [Food101 dataset and paper website](https://data.vision.ee.ethz.ch/cvl/datasets_extra/food-101/).\n",
        "* [`torchvision.datasets.Food101`](https://pytorch.org/vision/main/generated/torchvision.datasets.Food101.html) - the version of the data downloaded for this notebook.\n",
        "* [`extras/04_custom_data_creation.ipynb`](https://github.com/mrdbourke/pytorch-deep-learning/blob/main/extras/04_custom_data_creation.ipynb) - a notebook used to format the Food101 dataset to use for this notebook.\n",
        "* [`data/pizza_steak_sushi.zip`](https://github.com/mrdbourke/pytorch-deep-learning/blob/main/data/pizza_steak_sushi.zip) - the zip archive of pizza, steak and sushi images from Food101, created with the notebook linked above.\n"
      ],
      "metadata": {
        "id": "g9bBmOL4hzxE"
      }
    },
    {
      "cell_type": "code",
      "source": [],
      "metadata": {
        "id": "p5N8XX5uiISv"
      },
      "execution_count": null,
      "outputs": []
    }
  ],
  "metadata": {
    "colab": {
      "provenance": [],
      "include_colab_link": true
    },
    "gpuClass": "standard",
    "kernelspec": {
      "display_name": "Python 3",
      "name": "python3"
    },
    "language_info": {
      "name": "python"
    }
  },
  "nbformat": 4,
  "nbformat_minor": 0
}